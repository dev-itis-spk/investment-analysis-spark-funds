{
 "cells": [
  {
   "cell_type": "markdown",
   "metadata": {},
   "source": [
    "# <center> Investment Analysis - Spark Funds </center>\n",
    "### Business Objective\n",
    "The objective is to identify the best sectors, countries, and a suitable investment type for making investments. The overall strategy is to invest where others are investing, implying that the 'best' sectors and countries are the ones 'where most investors are investing'."
   ]
  },
  {
   "cell_type": "code",
   "execution_count": 95,
   "metadata": {},
   "outputs": [],
   "source": [
    "import numpy as np\n",
    "import pandas as pd"
   ]
  },
  {
   "cell_type": "code",
   "execution_count": 96,
   "metadata": {},
   "outputs": [],
   "source": [
    "# Visualization packages\n",
    "%matplotlib inline\n",
    "import matplotlib.pyplot as plt\n",
    "import seaborn as sns"
   ]
  },
  {
   "cell_type": "code",
   "execution_count": 97,
   "metadata": {},
   "outputs": [],
   "source": [
    "# To ignore warnings\n",
    "import warnings\n",
    "warnings.filterwarnings('ignore')"
   ]
  },
  {
   "cell_type": "markdown",
   "metadata": {},
   "source": [
    "## <center>Checkpoint 1: Data Cleaning 1</center>\n",
    "Loading companies and rounds2 CSV files with 'palmos' encoding style."
   ]
  },
  {
   "cell_type": "code",
   "execution_count": 98,
   "metadata": {
    "scrolled": false
   },
   "outputs": [
    {
     "data": {
      "text/html": [
       "<div>\n",
       "<style scoped>\n",
       "    .dataframe tbody tr th:only-of-type {\n",
       "        vertical-align: middle;\n",
       "    }\n",
       "\n",
       "    .dataframe tbody tr th {\n",
       "        vertical-align: top;\n",
       "    }\n",
       "\n",
       "    .dataframe thead th {\n",
       "        text-align: right;\n",
       "    }\n",
       "</style>\n",
       "<table border=\"1\" class=\"dataframe\">\n",
       "  <thead>\n",
       "    <tr style=\"text-align: right;\">\n",
       "      <th></th>\n",
       "      <th>permalink</th>\n",
       "      <th>name</th>\n",
       "      <th>homepage_url</th>\n",
       "      <th>category_list</th>\n",
       "      <th>status</th>\n",
       "      <th>country_code</th>\n",
       "      <th>state_code</th>\n",
       "      <th>region</th>\n",
       "      <th>city</th>\n",
       "      <th>founded_at</th>\n",
       "    </tr>\n",
       "  </thead>\n",
       "  <tbody>\n",
       "    <tr>\n",
       "      <th>0</th>\n",
       "      <td>/Organization/-Fame</td>\n",
       "      <td>#fame</td>\n",
       "      <td>http://livfame.com</td>\n",
       "      <td>Media</td>\n",
       "      <td>operating</td>\n",
       "      <td>IND</td>\n",
       "      <td>16</td>\n",
       "      <td>Mumbai</td>\n",
       "      <td>Mumbai</td>\n",
       "      <td>NaN</td>\n",
       "    </tr>\n",
       "    <tr>\n",
       "      <th>1</th>\n",
       "      <td>/Organization/-Qounter</td>\n",
       "      <td>:Qounter</td>\n",
       "      <td>http://www.qounter.com</td>\n",
       "      <td>Application Platforms|Real Time|Social Network...</td>\n",
       "      <td>operating</td>\n",
       "      <td>USA</td>\n",
       "      <td>DE</td>\n",
       "      <td>DE - Other</td>\n",
       "      <td>Delaware City</td>\n",
       "      <td>04-09-2014</td>\n",
       "    </tr>\n",
       "    <tr>\n",
       "      <th>2</th>\n",
       "      <td>/Organization/-The-One-Of-Them-Inc-</td>\n",
       "      <td>(THE) ONE of THEM,Inc.</td>\n",
       "      <td>http://oneofthem.jp</td>\n",
       "      <td>Apps|Games|Mobile</td>\n",
       "      <td>operating</td>\n",
       "      <td>NaN</td>\n",
       "      <td>NaN</td>\n",
       "      <td>NaN</td>\n",
       "      <td>NaN</td>\n",
       "      <td>NaN</td>\n",
       "    </tr>\n",
       "    <tr>\n",
       "      <th>3</th>\n",
       "      <td>/Organization/0-6-Com</td>\n",
       "      <td>0-6.com</td>\n",
       "      <td>http://www.0-6.com</td>\n",
       "      <td>Curated Web</td>\n",
       "      <td>operating</td>\n",
       "      <td>CHN</td>\n",
       "      <td>22</td>\n",
       "      <td>Beijing</td>\n",
       "      <td>Beijing</td>\n",
       "      <td>01-01-2007</td>\n",
       "    </tr>\n",
       "    <tr>\n",
       "      <th>4</th>\n",
       "      <td>/Organization/004-Technologies</td>\n",
       "      <td>004 Technologies</td>\n",
       "      <td>http://004gmbh.de/en/004-interact</td>\n",
       "      <td>Software</td>\n",
       "      <td>operating</td>\n",
       "      <td>USA</td>\n",
       "      <td>IL</td>\n",
       "      <td>Springfield, Illinois</td>\n",
       "      <td>Champaign</td>\n",
       "      <td>01-01-2010</td>\n",
       "    </tr>\n",
       "    <tr>\n",
       "      <th>...</th>\n",
       "      <td>...</td>\n",
       "      <td>...</td>\n",
       "      <td>...</td>\n",
       "      <td>...</td>\n",
       "      <td>...</td>\n",
       "      <td>...</td>\n",
       "      <td>...</td>\n",
       "      <td>...</td>\n",
       "      <td>...</td>\n",
       "      <td>...</td>\n",
       "    </tr>\n",
       "    <tr>\n",
       "      <th>66363</th>\n",
       "      <td>/Organization/Zznode-Science-And-Technology-Co...</td>\n",
       "      <td>ZZNode Science and Technology</td>\n",
       "      <td>http://www.zznode.com</td>\n",
       "      <td>Enterprise Software</td>\n",
       "      <td>operating</td>\n",
       "      <td>CHN</td>\n",
       "      <td>22</td>\n",
       "      <td>Beijing</td>\n",
       "      <td>Beijing</td>\n",
       "      <td>NaN</td>\n",
       "    </tr>\n",
       "    <tr>\n",
       "      <th>66364</th>\n",
       "      <td>/Organization/Zzzzapp-Com</td>\n",
       "      <td>Zzzzapp Wireless ltd.</td>\n",
       "      <td>http://www.zzzzapp.com</td>\n",
       "      <td>Advertising|Mobile|Web Development|Wireless</td>\n",
       "      <td>operating</td>\n",
       "      <td>HRV</td>\n",
       "      <td>15</td>\n",
       "      <td>Split</td>\n",
       "      <td>Split</td>\n",
       "      <td>13-05-2012</td>\n",
       "    </tr>\n",
       "    <tr>\n",
       "      <th>66365</th>\n",
       "      <td>/Organization/ÃEron</td>\n",
       "      <td>ÃERON</td>\n",
       "      <td>http://www.aeron.hu/</td>\n",
       "      <td>NaN</td>\n",
       "      <td>operating</td>\n",
       "      <td>NaN</td>\n",
       "      <td>NaN</td>\n",
       "      <td>NaN</td>\n",
       "      <td>NaN</td>\n",
       "      <td>01-01-2011</td>\n",
       "    </tr>\n",
       "    <tr>\n",
       "      <th>66366</th>\n",
       "      <td>/Organization/Ã”Asys-2</td>\n",
       "      <td>Ã”asys</td>\n",
       "      <td>http://www.oasys.io/</td>\n",
       "      <td>Consumer Electronics|Internet of Things|Teleco...</td>\n",
       "      <td>operating</td>\n",
       "      <td>USA</td>\n",
       "      <td>CA</td>\n",
       "      <td>SF Bay Area</td>\n",
       "      <td>San Francisco</td>\n",
       "      <td>01-01-2014</td>\n",
       "    </tr>\n",
       "    <tr>\n",
       "      <th>66367</th>\n",
       "      <td>/Organization/Ä°Novatiff-Reklam-Ve-Tanä±Tä±M-H...</td>\n",
       "      <td>Ä°novatiff Reklam ve TanÄ±tÄ±m Hizmetleri Tic</td>\n",
       "      <td>http://inovatiff.com</td>\n",
       "      <td>Consumer Goods|E-Commerce|Internet</td>\n",
       "      <td>operating</td>\n",
       "      <td>NaN</td>\n",
       "      <td>NaN</td>\n",
       "      <td>NaN</td>\n",
       "      <td>NaN</td>\n",
       "      <td>NaN</td>\n",
       "    </tr>\n",
       "  </tbody>\n",
       "</table>\n",
       "<p>66368 rows × 10 columns</p>\n",
       "</div>"
      ],
      "text/plain": [
       "                                               permalink  \\\n",
       "0                                    /Organization/-Fame   \n",
       "1                                 /Organization/-Qounter   \n",
       "2                    /Organization/-The-One-Of-Them-Inc-   \n",
       "3                                  /Organization/0-6-Com   \n",
       "4                         /Organization/004-Technologies   \n",
       "...                                                  ...   \n",
       "66363  /Organization/Zznode-Science-And-Technology-Co...   \n",
       "66364                          /Organization/Zzzzapp-Com   \n",
       "66365                               /Organization/ÃEron   \n",
       "66366                             /Organization/Ã”Asys-2   \n",
       "66367  /Organization/Ä°Novatiff-Reklam-Ve-Tanä±Tä±M-H...   \n",
       "\n",
       "                                                name  \\\n",
       "0                                              #fame   \n",
       "1                                           :Qounter   \n",
       "2                             (THE) ONE of THEM,Inc.   \n",
       "3                                            0-6.com   \n",
       "4                                   004 Technologies   \n",
       "...                                              ...   \n",
       "66363                  ZZNode Science and Technology   \n",
       "66364                          Zzzzapp Wireless ltd.   \n",
       "66365                                         ÃERON   \n",
       "66366                                         Ã”asys   \n",
       "66367  Ä°novatiff Reklam ve TanÄ±tÄ±m Hizmetleri Tic   \n",
       "\n",
       "                            homepage_url  \\\n",
       "0                     http://livfame.com   \n",
       "1                 http://www.qounter.com   \n",
       "2                    http://oneofthem.jp   \n",
       "3                     http://www.0-6.com   \n",
       "4      http://004gmbh.de/en/004-interact   \n",
       "...                                  ...   \n",
       "66363              http://www.zznode.com   \n",
       "66364             http://www.zzzzapp.com   \n",
       "66365               http://www.aeron.hu/   \n",
       "66366               http://www.oasys.io/   \n",
       "66367               http://inovatiff.com   \n",
       "\n",
       "                                           category_list     status  \\\n",
       "0                                                  Media  operating   \n",
       "1      Application Platforms|Real Time|Social Network...  operating   \n",
       "2                                      Apps|Games|Mobile  operating   \n",
       "3                                            Curated Web  operating   \n",
       "4                                               Software  operating   \n",
       "...                                                  ...        ...   \n",
       "66363                                Enterprise Software  operating   \n",
       "66364        Advertising|Mobile|Web Development|Wireless  operating   \n",
       "66365                                                NaN  operating   \n",
       "66366  Consumer Electronics|Internet of Things|Teleco...  operating   \n",
       "66367                 Consumer Goods|E-Commerce|Internet  operating   \n",
       "\n",
       "      country_code state_code                 region           city  \\\n",
       "0              IND         16                 Mumbai         Mumbai   \n",
       "1              USA         DE             DE - Other  Delaware City   \n",
       "2              NaN        NaN                    NaN            NaN   \n",
       "3              CHN         22                Beijing        Beijing   \n",
       "4              USA         IL  Springfield, Illinois      Champaign   \n",
       "...            ...        ...                    ...            ...   \n",
       "66363          CHN         22                Beijing        Beijing   \n",
       "66364          HRV         15                  Split          Split   \n",
       "66365          NaN        NaN                    NaN            NaN   \n",
       "66366          USA         CA            SF Bay Area  San Francisco   \n",
       "66367          NaN        NaN                    NaN            NaN   \n",
       "\n",
       "       founded_at  \n",
       "0             NaN  \n",
       "1      04-09-2014  \n",
       "2             NaN  \n",
       "3      01-01-2007  \n",
       "4      01-01-2010  \n",
       "...           ...  \n",
       "66363         NaN  \n",
       "66364  13-05-2012  \n",
       "66365  01-01-2011  \n",
       "66366  01-01-2014  \n",
       "66367         NaN  \n",
       "\n",
       "[66368 rows x 10 columns]"
      ]
     },
     "execution_count": 98,
     "metadata": {},
     "output_type": "execute_result"
    }
   ],
   "source": [
    "# Reading companies.csv file\n",
    "companies = pd.read_csv('companies.csv', encoding='palmos', engine='python')\n",
    "companies"
   ]
  },
  {
   "cell_type": "code",
   "execution_count": 99,
   "metadata": {
    "scrolled": false
   },
   "outputs": [
    {
     "data": {
      "text/html": [
       "<div>\n",
       "<style scoped>\n",
       "    .dataframe tbody tr th:only-of-type {\n",
       "        vertical-align: middle;\n",
       "    }\n",
       "\n",
       "    .dataframe tbody tr th {\n",
       "        vertical-align: top;\n",
       "    }\n",
       "\n",
       "    .dataframe thead th {\n",
       "        text-align: right;\n",
       "    }\n",
       "</style>\n",
       "<table border=\"1\" class=\"dataframe\">\n",
       "  <thead>\n",
       "    <tr style=\"text-align: right;\">\n",
       "      <th></th>\n",
       "      <th>company_permalink</th>\n",
       "      <th>funding_round_permalink</th>\n",
       "      <th>funding_round_type</th>\n",
       "      <th>funding_round_code</th>\n",
       "      <th>funded_at</th>\n",
       "      <th>raised_amount_usd</th>\n",
       "    </tr>\n",
       "  </thead>\n",
       "  <tbody>\n",
       "    <tr>\n",
       "      <th>0</th>\n",
       "      <td>/organization/-fame</td>\n",
       "      <td>/funding-round/9a01d05418af9f794eebff7ace91f638</td>\n",
       "      <td>venture</td>\n",
       "      <td>B</td>\n",
       "      <td>05-01-2015</td>\n",
       "      <td>10000000.0</td>\n",
       "    </tr>\n",
       "    <tr>\n",
       "      <th>1</th>\n",
       "      <td>/ORGANIZATION/-QOUNTER</td>\n",
       "      <td>/funding-round/22dacff496eb7acb2b901dec1dfe5633</td>\n",
       "      <td>venture</td>\n",
       "      <td>A</td>\n",
       "      <td>14-10-2014</td>\n",
       "      <td>NaN</td>\n",
       "    </tr>\n",
       "    <tr>\n",
       "      <th>2</th>\n",
       "      <td>/organization/-qounter</td>\n",
       "      <td>/funding-round/b44fbb94153f6cdef13083530bb48030</td>\n",
       "      <td>seed</td>\n",
       "      <td>NaN</td>\n",
       "      <td>01-03-2014</td>\n",
       "      <td>700000.0</td>\n",
       "    </tr>\n",
       "    <tr>\n",
       "      <th>3</th>\n",
       "      <td>/ORGANIZATION/-THE-ONE-OF-THEM-INC-</td>\n",
       "      <td>/funding-round/650b8f704416801069bb178a1418776b</td>\n",
       "      <td>venture</td>\n",
       "      <td>B</td>\n",
       "      <td>30-01-2014</td>\n",
       "      <td>3406878.0</td>\n",
       "    </tr>\n",
       "    <tr>\n",
       "      <th>4</th>\n",
       "      <td>/organization/0-6-com</td>\n",
       "      <td>/funding-round/5727accaeaa57461bd22a9bdd945382d</td>\n",
       "      <td>venture</td>\n",
       "      <td>A</td>\n",
       "      <td>19-03-2008</td>\n",
       "      <td>2000000.0</td>\n",
       "    </tr>\n",
       "    <tr>\n",
       "      <th>...</th>\n",
       "      <td>...</td>\n",
       "      <td>...</td>\n",
       "      <td>...</td>\n",
       "      <td>...</td>\n",
       "      <td>...</td>\n",
       "      <td>...</td>\n",
       "    </tr>\n",
       "    <tr>\n",
       "      <th>114944</th>\n",
       "      <td>/organization/zzzzapp-com</td>\n",
       "      <td>/funding-round/8f6d25b8ee4199e586484d817bceda05</td>\n",
       "      <td>convertible_note</td>\n",
       "      <td>NaN</td>\n",
       "      <td>01-03-2014</td>\n",
       "      <td>41313.0</td>\n",
       "    </tr>\n",
       "    <tr>\n",
       "      <th>114945</th>\n",
       "      <td>/ORGANIZATION/ZZZZAPP-COM</td>\n",
       "      <td>/funding-round/ff1aa06ed5da186c84f101549035d4ae</td>\n",
       "      <td>seed</td>\n",
       "      <td>NaN</td>\n",
       "      <td>01-05-2013</td>\n",
       "      <td>32842.0</td>\n",
       "    </tr>\n",
       "    <tr>\n",
       "      <th>114946</th>\n",
       "      <td>/organization/ãeron</td>\n",
       "      <td>/funding-round/59f4dce44723b794f21ded3daed6e4fe</td>\n",
       "      <td>venture</td>\n",
       "      <td>A</td>\n",
       "      <td>01-08-2014</td>\n",
       "      <td>NaN</td>\n",
       "    </tr>\n",
       "    <tr>\n",
       "      <th>114947</th>\n",
       "      <td>/ORGANIZATION/Ã”ASYS-2</td>\n",
       "      <td>/funding-round/35f09d0794651719b02bbfd859ba9ff5</td>\n",
       "      <td>seed</td>\n",
       "      <td>NaN</td>\n",
       "      <td>01-01-2015</td>\n",
       "      <td>18192.0</td>\n",
       "    </tr>\n",
       "    <tr>\n",
       "      <th>114948</th>\n",
       "      <td>/organization/ä°novatiff-reklam-ve-tanä±tä±m-h...</td>\n",
       "      <td>/funding-round/af942869878d2cd788ef5189b435ebc4</td>\n",
       "      <td>grant</td>\n",
       "      <td>NaN</td>\n",
       "      <td>01-10-2013</td>\n",
       "      <td>14851.0</td>\n",
       "    </tr>\n",
       "  </tbody>\n",
       "</table>\n",
       "<p>114949 rows × 6 columns</p>\n",
       "</div>"
      ],
      "text/plain": [
       "                                        company_permalink  \\\n",
       "0                                     /organization/-fame   \n",
       "1                                  /ORGANIZATION/-QOUNTER   \n",
       "2                                  /organization/-qounter   \n",
       "3                     /ORGANIZATION/-THE-ONE-OF-THEM-INC-   \n",
       "4                                   /organization/0-6-com   \n",
       "...                                                   ...   \n",
       "114944                          /organization/zzzzapp-com   \n",
       "114945                          /ORGANIZATION/ZZZZAPP-COM   \n",
       "114946                               /organization/ãeron   \n",
       "114947                             /ORGANIZATION/Ã”ASYS-2   \n",
       "114948  /organization/ä°novatiff-reklam-ve-tanä±tä±m-h...   \n",
       "\n",
       "                                funding_round_permalink funding_round_type  \\\n",
       "0       /funding-round/9a01d05418af9f794eebff7ace91f638            venture   \n",
       "1       /funding-round/22dacff496eb7acb2b901dec1dfe5633            venture   \n",
       "2       /funding-round/b44fbb94153f6cdef13083530bb48030               seed   \n",
       "3       /funding-round/650b8f704416801069bb178a1418776b            venture   \n",
       "4       /funding-round/5727accaeaa57461bd22a9bdd945382d            venture   \n",
       "...                                                 ...                ...   \n",
       "114944  /funding-round/8f6d25b8ee4199e586484d817bceda05   convertible_note   \n",
       "114945  /funding-round/ff1aa06ed5da186c84f101549035d4ae               seed   \n",
       "114946  /funding-round/59f4dce44723b794f21ded3daed6e4fe            venture   \n",
       "114947  /funding-round/35f09d0794651719b02bbfd859ba9ff5               seed   \n",
       "114948  /funding-round/af942869878d2cd788ef5189b435ebc4              grant   \n",
       "\n",
       "       funding_round_code   funded_at  raised_amount_usd  \n",
       "0                       B  05-01-2015         10000000.0  \n",
       "1                       A  14-10-2014                NaN  \n",
       "2                     NaN  01-03-2014           700000.0  \n",
       "3                       B  30-01-2014          3406878.0  \n",
       "4                       A  19-03-2008          2000000.0  \n",
       "...                   ...         ...                ...  \n",
       "114944                NaN  01-03-2014            41313.0  \n",
       "114945                NaN  01-05-2013            32842.0  \n",
       "114946                  A  01-08-2014                NaN  \n",
       "114947                NaN  01-01-2015            18192.0  \n",
       "114948                NaN  01-10-2013            14851.0  \n",
       "\n",
       "[114949 rows x 6 columns]"
      ]
     },
     "execution_count": 99,
     "metadata": {},
     "output_type": "execute_result"
    }
   ],
   "source": [
    "# Reading rounds2.csv file\n",
    "rounds2 = pd.read_csv('rounds2.csv', encoding='palmos', engine='python')\n",
    "rounds2"
   ]
  },
  {
   "cell_type": "markdown",
   "metadata": {},
   "source": [
    "***\n",
    "We can observe that the last few entries in both the dataframes have charaters that are not in proper encoded format (utf-8).\n",
    "***"
   ]
  },
  {
   "cell_type": "code",
   "execution_count": 100,
   "metadata": {},
   "outputs": [],
   "source": [
    "# Converting the 'permalink' and 'name' columns of companies dataframe to UTF-8 encoding \n",
    "companies['permalink'] = companies['permalink'].str.encode('utf-8').str.decode('ascii', 'ignore')\n",
    "companies['name'] = companies['name'].str.encode('utf-8').str.decode('ascii', 'ignore')"
   ]
  },
  {
   "cell_type": "code",
   "execution_count": 101,
   "metadata": {},
   "outputs": [
    {
     "data": {
      "text/html": [
       "<div>\n",
       "<style scoped>\n",
       "    .dataframe tbody tr th:only-of-type {\n",
       "        vertical-align: middle;\n",
       "    }\n",
       "\n",
       "    .dataframe tbody tr th {\n",
       "        vertical-align: top;\n",
       "    }\n",
       "\n",
       "    .dataframe thead th {\n",
       "        text-align: right;\n",
       "    }\n",
       "</style>\n",
       "<table border=\"1\" class=\"dataframe\">\n",
       "  <thead>\n",
       "    <tr style=\"text-align: right;\">\n",
       "      <th></th>\n",
       "      <th>permalink</th>\n",
       "      <th>name</th>\n",
       "      <th>homepage_url</th>\n",
       "      <th>category_list</th>\n",
       "      <th>status</th>\n",
       "      <th>country_code</th>\n",
       "      <th>state_code</th>\n",
       "      <th>region</th>\n",
       "      <th>city</th>\n",
       "      <th>founded_at</th>\n",
       "    </tr>\n",
       "  </thead>\n",
       "  <tbody>\n",
       "    <tr>\n",
       "      <th>66363</th>\n",
       "      <td>/Organization/Zznode-Science-And-Technology-Co...</td>\n",
       "      <td>ZZNode Science and Technology</td>\n",
       "      <td>http://www.zznode.com</td>\n",
       "      <td>Enterprise Software</td>\n",
       "      <td>operating</td>\n",
       "      <td>CHN</td>\n",
       "      <td>22</td>\n",
       "      <td>Beijing</td>\n",
       "      <td>Beijing</td>\n",
       "      <td>NaN</td>\n",
       "    </tr>\n",
       "    <tr>\n",
       "      <th>66364</th>\n",
       "      <td>/Organization/Zzzzapp-Com</td>\n",
       "      <td>Zzzzapp Wireless ltd.</td>\n",
       "      <td>http://www.zzzzapp.com</td>\n",
       "      <td>Advertising|Mobile|Web Development|Wireless</td>\n",
       "      <td>operating</td>\n",
       "      <td>HRV</td>\n",
       "      <td>15</td>\n",
       "      <td>Split</td>\n",
       "      <td>Split</td>\n",
       "      <td>13-05-2012</td>\n",
       "    </tr>\n",
       "    <tr>\n",
       "      <th>66365</th>\n",
       "      <td>/Organization/Eron</td>\n",
       "      <td>ERON</td>\n",
       "      <td>http://www.aeron.hu/</td>\n",
       "      <td>NaN</td>\n",
       "      <td>operating</td>\n",
       "      <td>NaN</td>\n",
       "      <td>NaN</td>\n",
       "      <td>NaN</td>\n",
       "      <td>NaN</td>\n",
       "      <td>01-01-2011</td>\n",
       "    </tr>\n",
       "    <tr>\n",
       "      <th>66366</th>\n",
       "      <td>/Organization/Asys-2</td>\n",
       "      <td>asys</td>\n",
       "      <td>http://www.oasys.io/</td>\n",
       "      <td>Consumer Electronics|Internet of Things|Teleco...</td>\n",
       "      <td>operating</td>\n",
       "      <td>USA</td>\n",
       "      <td>CA</td>\n",
       "      <td>SF Bay Area</td>\n",
       "      <td>San Francisco</td>\n",
       "      <td>01-01-2014</td>\n",
       "    </tr>\n",
       "    <tr>\n",
       "      <th>66367</th>\n",
       "      <td>/Organization/Novatiff-Reklam-Ve-TanTM-Hizmetl...</td>\n",
       "      <td>novatiff Reklam ve Tantm Hizmetleri Tic</td>\n",
       "      <td>http://inovatiff.com</td>\n",
       "      <td>Consumer Goods|E-Commerce|Internet</td>\n",
       "      <td>operating</td>\n",
       "      <td>NaN</td>\n",
       "      <td>NaN</td>\n",
       "      <td>NaN</td>\n",
       "      <td>NaN</td>\n",
       "      <td>NaN</td>\n",
       "    </tr>\n",
       "  </tbody>\n",
       "</table>\n",
       "</div>"
      ],
      "text/plain": [
       "                                               permalink  \\\n",
       "66363  /Organization/Zznode-Science-And-Technology-Co...   \n",
       "66364                          /Organization/Zzzzapp-Com   \n",
       "66365                                 /Organization/Eron   \n",
       "66366                               /Organization/Asys-2   \n",
       "66367  /Organization/Novatiff-Reklam-Ve-TanTM-Hizmetl...   \n",
       "\n",
       "                                          name            homepage_url  \\\n",
       "66363            ZZNode Science and Technology   http://www.zznode.com   \n",
       "66364                    Zzzzapp Wireless ltd.  http://www.zzzzapp.com   \n",
       "66365                                     ERON    http://www.aeron.hu/   \n",
       "66366                                     asys    http://www.oasys.io/   \n",
       "66367  novatiff Reklam ve Tantm Hizmetleri Tic    http://inovatiff.com   \n",
       "\n",
       "                                           category_list     status  \\\n",
       "66363                                Enterprise Software  operating   \n",
       "66364        Advertising|Mobile|Web Development|Wireless  operating   \n",
       "66365                                                NaN  operating   \n",
       "66366  Consumer Electronics|Internet of Things|Teleco...  operating   \n",
       "66367                 Consumer Goods|E-Commerce|Internet  operating   \n",
       "\n",
       "      country_code state_code       region           city  founded_at  \n",
       "66363          CHN         22      Beijing        Beijing         NaN  \n",
       "66364          HRV         15        Split          Split  13-05-2012  \n",
       "66365          NaN        NaN          NaN            NaN  01-01-2011  \n",
       "66366          USA         CA  SF Bay Area  San Francisco  01-01-2014  \n",
       "66367          NaN        NaN          NaN            NaN         NaN  "
      ]
     },
     "execution_count": 101,
     "metadata": {},
     "output_type": "execute_result"
    }
   ],
   "source": [
    "companies.tail()"
   ]
  },
  {
   "cell_type": "code",
   "execution_count": 102,
   "metadata": {},
   "outputs": [
    {
     "data": {
      "text/html": [
       "<div>\n",
       "<style scoped>\n",
       "    .dataframe tbody tr th:only-of-type {\n",
       "        vertical-align: middle;\n",
       "    }\n",
       "\n",
       "    .dataframe tbody tr th {\n",
       "        vertical-align: top;\n",
       "    }\n",
       "\n",
       "    .dataframe thead th {\n",
       "        text-align: right;\n",
       "    }\n",
       "</style>\n",
       "<table border=\"1\" class=\"dataframe\">\n",
       "  <thead>\n",
       "    <tr style=\"text-align: right;\">\n",
       "      <th></th>\n",
       "      <th>company_permalink</th>\n",
       "      <th>funding_round_permalink</th>\n",
       "      <th>funding_round_type</th>\n",
       "      <th>funding_round_code</th>\n",
       "      <th>funded_at</th>\n",
       "      <th>raised_amount_usd</th>\n",
       "    </tr>\n",
       "  </thead>\n",
       "  <tbody>\n",
       "    <tr>\n",
       "      <th>114944</th>\n",
       "      <td>/organization/zzzzapp-com</td>\n",
       "      <td>/funding-round/8f6d25b8ee4199e586484d817bceda05</td>\n",
       "      <td>convertible_note</td>\n",
       "      <td>NaN</td>\n",
       "      <td>01-03-2014</td>\n",
       "      <td>41313.0</td>\n",
       "    </tr>\n",
       "    <tr>\n",
       "      <th>114945</th>\n",
       "      <td>/ORGANIZATION/ZZZZAPP-COM</td>\n",
       "      <td>/funding-round/ff1aa06ed5da186c84f101549035d4ae</td>\n",
       "      <td>seed</td>\n",
       "      <td>NaN</td>\n",
       "      <td>01-05-2013</td>\n",
       "      <td>32842.0</td>\n",
       "    </tr>\n",
       "    <tr>\n",
       "      <th>114946</th>\n",
       "      <td>/organization/eron</td>\n",
       "      <td>/funding-round/59f4dce44723b794f21ded3daed6e4fe</td>\n",
       "      <td>venture</td>\n",
       "      <td>A</td>\n",
       "      <td>01-08-2014</td>\n",
       "      <td>NaN</td>\n",
       "    </tr>\n",
       "    <tr>\n",
       "      <th>114947</th>\n",
       "      <td>/ORGANIZATION/ASYS-2</td>\n",
       "      <td>/funding-round/35f09d0794651719b02bbfd859ba9ff5</td>\n",
       "      <td>seed</td>\n",
       "      <td>NaN</td>\n",
       "      <td>01-01-2015</td>\n",
       "      <td>18192.0</td>\n",
       "    </tr>\n",
       "    <tr>\n",
       "      <th>114948</th>\n",
       "      <td>/organization/novatiff-reklam-ve-tantm-hizmetl...</td>\n",
       "      <td>/funding-round/af942869878d2cd788ef5189b435ebc4</td>\n",
       "      <td>grant</td>\n",
       "      <td>NaN</td>\n",
       "      <td>01-10-2013</td>\n",
       "      <td>14851.0</td>\n",
       "    </tr>\n",
       "  </tbody>\n",
       "</table>\n",
       "</div>"
      ],
      "text/plain": [
       "                                        company_permalink  \\\n",
       "114944                          /organization/zzzzapp-com   \n",
       "114945                          /ORGANIZATION/ZZZZAPP-COM   \n",
       "114946                                 /organization/eron   \n",
       "114947                               /ORGANIZATION/ASYS-2   \n",
       "114948  /organization/novatiff-reklam-ve-tantm-hizmetl...   \n",
       "\n",
       "                                funding_round_permalink funding_round_type  \\\n",
       "114944  /funding-round/8f6d25b8ee4199e586484d817bceda05   convertible_note   \n",
       "114945  /funding-round/ff1aa06ed5da186c84f101549035d4ae               seed   \n",
       "114946  /funding-round/59f4dce44723b794f21ded3daed6e4fe            venture   \n",
       "114947  /funding-round/35f09d0794651719b02bbfd859ba9ff5               seed   \n",
       "114948  /funding-round/af942869878d2cd788ef5189b435ebc4              grant   \n",
       "\n",
       "       funding_round_code   funded_at  raised_amount_usd  \n",
       "114944                NaN  01-03-2014            41313.0  \n",
       "114945                NaN  01-05-2013            32842.0  \n",
       "114946                  A  01-08-2014                NaN  \n",
       "114947                NaN  01-01-2015            18192.0  \n",
       "114948                NaN  01-10-2013            14851.0  "
      ]
     },
     "execution_count": 102,
     "metadata": {},
     "output_type": "execute_result"
    }
   ],
   "source": [
    "# Converting the 'company_permalink' column of rounds2 dataframe to UTF-8 encoding\n",
    "rounds2['company_permalink'] = rounds2['company_permalink'].str.encode('utf-8').str.decode('ascii', 'ignore')\n",
    "rounds2.tail()"
   ]
  },
  {
   "cell_type": "markdown",
   "metadata": {},
   "source": [
    "***\n",
    "We can see now the rows have been cleaned with correct encoding formats.\n",
    "***\n",
    "\n",
    "### Unique companies count for _`companies`_ and _`rounds2`_ DataFrames\n",
    "We can observe the values in __company_permalink__ has a combination of upper and lower cases. <br>\n",
    "Hence transforming the column __permalink__ of companies and __company_permalink__ of rounds2 to an uniform lowercase.\n",
    "Also fixing the space issue in both the columns mentioned above."
   ]
  },
  {
   "cell_type": "code",
   "execution_count": 103,
   "metadata": {},
   "outputs": [],
   "source": [
    "companies['permalink'] = companies['permalink'].transform(lambda x : x.lower())\n",
    "rounds2['company_permalink'] = rounds2['company_permalink'].transform(lambda x : x.lower())\n",
    "companies['permalink'] = companies['permalink'].transform(lambda x : x.replace(' ', ''))\n",
    "rounds2['company_permalink'] = rounds2['company_permalink'].transform(lambda x : x.replace(' ', ''))"
   ]
  },
  {
   "cell_type": "code",
   "execution_count": 104,
   "metadata": {},
   "outputs": [
    {
     "data": {
      "text/plain": [
       "66368"
      ]
     },
     "execution_count": 104,
     "metadata": {},
     "output_type": "execute_result"
    }
   ],
   "source": [
    "# checking uniques for the permalink column\n",
    "companies['permalink'].nunique()"
   ]
  },
  {
   "cell_type": "code",
   "execution_count": 105,
   "metadata": {},
   "outputs": [
    {
     "data": {
      "text/plain": [
       "66368"
      ]
     },
     "execution_count": 105,
     "metadata": {},
     "output_type": "execute_result"
    }
   ],
   "source": [
    "# checking uniques for the company_permalink column\n",
    "rounds2['company_permalink'].nunique()"
   ]
  },
  {
   "cell_type": "code",
   "execution_count": 106,
   "metadata": {},
   "outputs": [
    {
     "data": {
      "text/plain": [
       "count                        66368\n",
       "unique                       66368\n",
       "top       /organization/handup-pbc\n",
       "freq                             1\n",
       "Name: permalink, dtype: object"
      ]
     },
     "execution_count": 106,
     "metadata": {},
     "output_type": "execute_result"
    }
   ],
   "source": [
    "# chekcing for uniques using describe function\n",
    "companies['permalink'].describe()"
   ]
  },
  {
   "cell_type": "code",
   "execution_count": 107,
   "metadata": {},
   "outputs": [
    {
     "data": {
      "text/plain": [
       "count                       114949\n",
       "unique                       66368\n",
       "top       /organization/solarflare\n",
       "freq                            19\n",
       "Name: company_permalink, dtype: object"
      ]
     },
     "execution_count": 107,
     "metadata": {},
     "output_type": "execute_result"
    }
   ],
   "source": [
    "# chekcing for uniques using describe function\n",
    "rounds2['company_permalink'].describe()"
   ]
  },
  {
   "cell_type": "markdown",
   "metadata": {},
   "source": [
    "***\n",
    "We can observe that the number of uniques for column __`permalink of companies`__ and __`company_permalink of rounds2`__ DataFrames are the __same__.\n",
    "***"
   ]
  },
  {
   "cell_type": "code",
   "execution_count": 108,
   "metadata": {},
   "outputs": [
    {
     "data": {
      "text/html": [
       "<div>\n",
       "<style scoped>\n",
       "    .dataframe tbody tr th:only-of-type {\n",
       "        vertical-align: middle;\n",
       "    }\n",
       "\n",
       "    .dataframe tbody tr th {\n",
       "        vertical-align: top;\n",
       "    }\n",
       "\n",
       "    .dataframe thead th {\n",
       "        text-align: right;\n",
       "    }\n",
       "</style>\n",
       "<table border=\"1\" class=\"dataframe\">\n",
       "  <thead>\n",
       "    <tr style=\"text-align: right;\">\n",
       "      <th></th>\n",
       "      <th>permalink</th>\n",
       "      <th>name</th>\n",
       "      <th>homepage_url</th>\n",
       "      <th>category_list</th>\n",
       "      <th>status</th>\n",
       "      <th>country_code</th>\n",
       "      <th>state_code</th>\n",
       "      <th>region</th>\n",
       "      <th>city</th>\n",
       "      <th>founded_at</th>\n",
       "    </tr>\n",
       "  </thead>\n",
       "  <tbody>\n",
       "  </tbody>\n",
       "</table>\n",
       "</div>"
      ],
      "text/plain": [
       "Empty DataFrame\n",
       "Columns: [permalink, name, homepage_url, category_list, status, country_code, state_code, region, city, founded_at]\n",
       "Index: []"
      ]
     },
     "execution_count": 108,
     "metadata": {},
     "output_type": "execute_result"
    }
   ],
   "source": [
    "# checking if any companies in rounds2 is present in companies dataframe\n",
    "companies[~(companies['permalink'].isin(rounds2['company_permalink']))]"
   ]
  },
  {
   "cell_type": "markdown",
   "metadata": {},
   "source": [
    "***\n",
    "We can observe that there are __`no separate/unique entries`__ in rounds2 that are not present in companies dataframe.\n",
    "***\n",
    "### Merge `companies` and `rounds2` DataFrames"
   ]
  },
  {
   "cell_type": "code",
   "execution_count": 109,
   "metadata": {},
   "outputs": [
    {
     "data": {
      "text/plain": [
       "(114949, 16)"
      ]
     },
     "execution_count": 109,
     "metadata": {},
     "output_type": "execute_result"
    }
   ],
   "source": [
    "# merging on permalink and company_permalink columns\n",
    "master_frame = pd.merge(companies, rounds2, left_on='permalink', right_on='company_permalink')\n",
    "master_frame.shape"
   ]
  },
  {
   "cell_type": "code",
   "execution_count": 110,
   "metadata": {},
   "outputs": [
    {
     "data": {
      "text/html": [
       "<div>\n",
       "<style scoped>\n",
       "    .dataframe tbody tr th:only-of-type {\n",
       "        vertical-align: middle;\n",
       "    }\n",
       "\n",
       "    .dataframe tbody tr th {\n",
       "        vertical-align: top;\n",
       "    }\n",
       "\n",
       "    .dataframe thead th {\n",
       "        text-align: right;\n",
       "    }\n",
       "</style>\n",
       "<table border=\"1\" class=\"dataframe\">\n",
       "  <thead>\n",
       "    <tr style=\"text-align: right;\">\n",
       "      <th></th>\n",
       "      <th>permalink</th>\n",
       "      <th>name</th>\n",
       "      <th>homepage_url</th>\n",
       "      <th>category_list</th>\n",
       "      <th>status</th>\n",
       "      <th>country_code</th>\n",
       "      <th>state_code</th>\n",
       "      <th>region</th>\n",
       "      <th>city</th>\n",
       "      <th>founded_at</th>\n",
       "      <th>company_permalink</th>\n",
       "      <th>funding_round_permalink</th>\n",
       "      <th>funding_round_type</th>\n",
       "      <th>funding_round_code</th>\n",
       "      <th>funded_at</th>\n",
       "      <th>raised_amount_usd</th>\n",
       "    </tr>\n",
       "  </thead>\n",
       "  <tbody>\n",
       "    <tr>\n",
       "      <th>0</th>\n",
       "      <td>/organization/-fame</td>\n",
       "      <td>#fame</td>\n",
       "      <td>http://livfame.com</td>\n",
       "      <td>Media</td>\n",
       "      <td>operating</td>\n",
       "      <td>IND</td>\n",
       "      <td>16</td>\n",
       "      <td>Mumbai</td>\n",
       "      <td>Mumbai</td>\n",
       "      <td>NaN</td>\n",
       "      <td>/organization/-fame</td>\n",
       "      <td>/funding-round/9a01d05418af9f794eebff7ace91f638</td>\n",
       "      <td>venture</td>\n",
       "      <td>B</td>\n",
       "      <td>05-01-2015</td>\n",
       "      <td>10000000.0</td>\n",
       "    </tr>\n",
       "    <tr>\n",
       "      <th>1</th>\n",
       "      <td>/organization/-qounter</td>\n",
       "      <td>:Qounter</td>\n",
       "      <td>http://www.qounter.com</td>\n",
       "      <td>Application Platforms|Real Time|Social Network...</td>\n",
       "      <td>operating</td>\n",
       "      <td>USA</td>\n",
       "      <td>DE</td>\n",
       "      <td>DE - Other</td>\n",
       "      <td>Delaware City</td>\n",
       "      <td>04-09-2014</td>\n",
       "      <td>/organization/-qounter</td>\n",
       "      <td>/funding-round/22dacff496eb7acb2b901dec1dfe5633</td>\n",
       "      <td>venture</td>\n",
       "      <td>A</td>\n",
       "      <td>14-10-2014</td>\n",
       "      <td>NaN</td>\n",
       "    </tr>\n",
       "    <tr>\n",
       "      <th>2</th>\n",
       "      <td>/organization/-qounter</td>\n",
       "      <td>:Qounter</td>\n",
       "      <td>http://www.qounter.com</td>\n",
       "      <td>Application Platforms|Real Time|Social Network...</td>\n",
       "      <td>operating</td>\n",
       "      <td>USA</td>\n",
       "      <td>DE</td>\n",
       "      <td>DE - Other</td>\n",
       "      <td>Delaware City</td>\n",
       "      <td>04-09-2014</td>\n",
       "      <td>/organization/-qounter</td>\n",
       "      <td>/funding-round/b44fbb94153f6cdef13083530bb48030</td>\n",
       "      <td>seed</td>\n",
       "      <td>NaN</td>\n",
       "      <td>01-03-2014</td>\n",
       "      <td>700000.0</td>\n",
       "    </tr>\n",
       "    <tr>\n",
       "      <th>3</th>\n",
       "      <td>/organization/-the-one-of-them-inc-</td>\n",
       "      <td>(THE) ONE of THEM,Inc.</td>\n",
       "      <td>http://oneofthem.jp</td>\n",
       "      <td>Apps|Games|Mobile</td>\n",
       "      <td>operating</td>\n",
       "      <td>NaN</td>\n",
       "      <td>NaN</td>\n",
       "      <td>NaN</td>\n",
       "      <td>NaN</td>\n",
       "      <td>NaN</td>\n",
       "      <td>/organization/-the-one-of-them-inc-</td>\n",
       "      <td>/funding-round/650b8f704416801069bb178a1418776b</td>\n",
       "      <td>venture</td>\n",
       "      <td>B</td>\n",
       "      <td>30-01-2014</td>\n",
       "      <td>3406878.0</td>\n",
       "    </tr>\n",
       "    <tr>\n",
       "      <th>4</th>\n",
       "      <td>/organization/0-6-com</td>\n",
       "      <td>0-6.com</td>\n",
       "      <td>http://www.0-6.com</td>\n",
       "      <td>Curated Web</td>\n",
       "      <td>operating</td>\n",
       "      <td>CHN</td>\n",
       "      <td>22</td>\n",
       "      <td>Beijing</td>\n",
       "      <td>Beijing</td>\n",
       "      <td>01-01-2007</td>\n",
       "      <td>/organization/0-6-com</td>\n",
       "      <td>/funding-round/5727accaeaa57461bd22a9bdd945382d</td>\n",
       "      <td>venture</td>\n",
       "      <td>A</td>\n",
       "      <td>19-03-2008</td>\n",
       "      <td>2000000.0</td>\n",
       "    </tr>\n",
       "  </tbody>\n",
       "</table>\n",
       "</div>"
      ],
      "text/plain": [
       "                             permalink                    name  \\\n",
       "0                  /organization/-fame                   #fame   \n",
       "1               /organization/-qounter                :Qounter   \n",
       "2               /organization/-qounter                :Qounter   \n",
       "3  /organization/-the-one-of-them-inc-  (THE) ONE of THEM,Inc.   \n",
       "4                /organization/0-6-com                 0-6.com   \n",
       "\n",
       "             homepage_url                                      category_list  \\\n",
       "0      http://livfame.com                                              Media   \n",
       "1  http://www.qounter.com  Application Platforms|Real Time|Social Network...   \n",
       "2  http://www.qounter.com  Application Platforms|Real Time|Social Network...   \n",
       "3     http://oneofthem.jp                                  Apps|Games|Mobile   \n",
       "4      http://www.0-6.com                                        Curated Web   \n",
       "\n",
       "      status country_code state_code      region           city  founded_at  \\\n",
       "0  operating          IND         16      Mumbai         Mumbai         NaN   \n",
       "1  operating          USA         DE  DE - Other  Delaware City  04-09-2014   \n",
       "2  operating          USA         DE  DE - Other  Delaware City  04-09-2014   \n",
       "3  operating          NaN        NaN         NaN            NaN         NaN   \n",
       "4  operating          CHN         22     Beijing        Beijing  01-01-2007   \n",
       "\n",
       "                     company_permalink  \\\n",
       "0                  /organization/-fame   \n",
       "1               /organization/-qounter   \n",
       "2               /organization/-qounter   \n",
       "3  /organization/-the-one-of-them-inc-   \n",
       "4                /organization/0-6-com   \n",
       "\n",
       "                           funding_round_permalink funding_round_type  \\\n",
       "0  /funding-round/9a01d05418af9f794eebff7ace91f638            venture   \n",
       "1  /funding-round/22dacff496eb7acb2b901dec1dfe5633            venture   \n",
       "2  /funding-round/b44fbb94153f6cdef13083530bb48030               seed   \n",
       "3  /funding-round/650b8f704416801069bb178a1418776b            venture   \n",
       "4  /funding-round/5727accaeaa57461bd22a9bdd945382d            venture   \n",
       "\n",
       "  funding_round_code   funded_at  raised_amount_usd  \n",
       "0                  B  05-01-2015         10000000.0  \n",
       "1                  A  14-10-2014                NaN  \n",
       "2                NaN  01-03-2014           700000.0  \n",
       "3                  B  30-01-2014          3406878.0  \n",
       "4                  A  19-03-2008          2000000.0  "
      ]
     },
     "execution_count": 110,
     "metadata": {},
     "output_type": "execute_result"
    }
   ],
   "source": [
    "master_frame.head()"
   ]
  },
  {
   "cell_type": "markdown",
   "metadata": {},
   "source": [
    "## <center>Checkpoint 2: Funding Type Analysis</center>\n",
    "### Investment type analysis"
   ]
  },
  {
   "cell_type": "code",
   "execution_count": 111,
   "metadata": {},
   "outputs": [
    {
     "data": {
      "text/plain": [
       "venture                  55494\n",
       "seed                     30524\n",
       "debt_financing            6895\n",
       "angel                     6094\n",
       "undisclosed               4897\n",
       "equity_crowdfunding       3257\n",
       "private_equity            2285\n",
       "grant                     2200\n",
       "convertible_note          1817\n",
       "post_ipo_equity            638\n",
       "product_crowdfunding       410\n",
       "non_equity_assistance      191\n",
       "post_ipo_debt              152\n",
       "secondary_market            95\n",
       "Name: funding_round_type, dtype: int64"
      ]
     },
     "execution_count": 111,
     "metadata": {},
     "output_type": "execute_result"
    }
   ],
   "source": [
    "# get various investment types\n",
    "master_frame['funding_round_type'].value_counts()"
   ]
  },
  {
   "cell_type": "code",
   "execution_count": 112,
   "metadata": {
    "scrolled": true
   },
   "outputs": [
    {
     "data": {
      "text/plain": [
       "permalink                      0\n",
       "name                           1\n",
       "homepage_url                6134\n",
       "category_list               3410\n",
       "status                         0\n",
       "country_code                8678\n",
       "state_code                 10946\n",
       "region                     10167\n",
       "city                       10164\n",
       "founded_at                 20521\n",
       "company_permalink              0\n",
       "funding_round_permalink        0\n",
       "funding_round_type             0\n",
       "funding_round_code         83809\n",
       "funded_at                      0\n",
       "raised_amount_usd          19990\n",
       "dtype: int64"
      ]
     },
     "execution_count": 112,
     "metadata": {},
     "output_type": "execute_result"
    }
   ],
   "source": [
    "# checking null values count in master_frame\n",
    "master_frame.isnull().sum()"
   ]
  },
  {
   "cell_type": "markdown",
   "metadata": {},
   "source": [
    "***\n",
    "We can remove few columns as they are not required for investment analysis.<br>\n",
    "Columns like homepage_url, state_code, region, founded_at, funding_round_permalink and funded_at can be removed.\n",
    "***"
   ]
  },
  {
   "cell_type": "code",
   "execution_count": 113,
   "metadata": {},
   "outputs": [],
   "source": [
    "master_frame.drop(\n",
    "    ['homepage_url', 'state_code', 'region', 'founded_at', 'funding_round_permalink', 'funded_at'], axis=1, inplace=True)"
   ]
  },
  {
   "cell_type": "code",
   "execution_count": 114,
   "metadata": {},
   "outputs": [
    {
     "data": {
      "text/plain": [
       "(114949, 10)"
      ]
     },
     "execution_count": 114,
     "metadata": {},
     "output_type": "execute_result"
    }
   ],
   "source": [
    "master_frame.shape"
   ]
  },
  {
   "cell_type": "code",
   "execution_count": 115,
   "metadata": {},
   "outputs": [
    {
     "data": {
      "text/plain": [
       "count    9.495900e+04\n",
       "mean     1.042687e+07\n",
       "std      1.148212e+08\n",
       "min      0.000000e+00\n",
       "25%      3.225000e+05\n",
       "50%      1.680511e+06\n",
       "75%      7.000000e+06\n",
       "max      2.127194e+10\n",
       "Name: raised_amount_usd, dtype: float64"
      ]
     },
     "execution_count": 115,
     "metadata": {},
     "output_type": "execute_result"
    }
   ],
   "source": [
    "# summary statistics for the column raised_amount_usd\n",
    "master_frame['raised_amount_usd'].describe()"
   ]
  },
  {
   "cell_type": "code",
   "execution_count": 116,
   "metadata": {
    "scrolled": true
   },
   "outputs": [
    {
     "data": {
      "image/png": "[encoded data removed]",
      "text/plain": [
       "<Figure size 432x288 with 1 Axes>"
      ]
     },
     "metadata": {
      "needs_background": "light"
     },
     "output_type": "display_data"
    }
   ],
   "source": [
    "# Box plot for raised_amount_usd\n",
    "sns.boxplot(master_frame['raised_amount_usd'])\n",
    "plt.show()"
   ]
  },
  {
   "cell_type": "markdown",
   "metadata": {},
   "source": [
    "***\n",
    "We can observe the presence of outliers in raised_amount_usd column. However we are retaining them as they are __`valid investments`__.\n",
    "***"
   ]
  },
  {
   "cell_type": "code",
   "execution_count": 117,
   "metadata": {},
   "outputs": [
    {
     "data": {
      "text/plain": [
       "19990"
      ]
     },
     "execution_count": 117,
     "metadata": {},
     "output_type": "execute_result"
    }
   ],
   "source": [
    "# Checking null values for raised_amount_usd column\n",
    "master_frame['raised_amount_usd'].isnull().sum()"
   ]
  },
  {
   "cell_type": "markdown",
   "metadata": {},
   "source": [
    "Dropping rows with null values in column raised_amount_usd as they dont add any value to analysis."
   ]
  },
  {
   "cell_type": "code",
   "execution_count": 118,
   "metadata": {},
   "outputs": [],
   "source": [
    "# Dropping null values from raised_amount_usd column\n",
    "master_frame.dropna(subset=['raised_amount_usd'], inplace=True)"
   ]
  },
  {
   "cell_type": "code",
   "execution_count": 119,
   "metadata": {},
   "outputs": [
    {
     "data": {
      "text/plain": [
       "permalink                 0\n",
       "name                      1\n",
       "category_list          1044\n",
       "status                    0\n",
       "country_code           5851\n",
       "city                   7045\n",
       "company_permalink         0\n",
       "funding_round_type        0\n",
       "funding_round_code    66790\n",
       "raised_amount_usd         0\n",
       "dtype: int64"
      ]
     },
     "execution_count": 119,
     "metadata": {},
     "output_type": "execute_result"
    }
   ],
   "source": [
    "# Checking null values for raised_amount_usd column\n",
    "master_frame.isnull().sum()"
   ]
  },
  {
   "cell_type": "code",
   "execution_count": 120,
   "metadata": {},
   "outputs": [
    {
     "data": {
      "text/plain": [
       "(94959, 10)"
      ]
     },
     "execution_count": 120,
     "metadata": {},
     "output_type": "execute_result"
    }
   ],
   "source": [
    "master_frame.shape"
   ]
  },
  {
   "cell_type": "markdown",
   "metadata": {},
   "source": [
    "***\n",
    "Spark Funds are considering funding types venture, angel, seed, and private equity.\n",
    "Filtering out other investment types and retaining only these 4 types.\n",
    "***"
   ]
  },
  {
   "cell_type": "code",
   "execution_count": 121,
   "metadata": {},
   "outputs": [
    {
     "data": {
      "text/plain": [
       "(80627, 10)"
      ]
     },
     "execution_count": 121,
     "metadata": {},
     "output_type": "execute_result"
    }
   ],
   "source": [
    "master_frame = master_frame[\n",
    "    (master_frame['funding_round_type'] == 'venture') | (master_frame['funding_round_type'] == 'angel') | \n",
    "    (master_frame['funding_round_type'] == 'seed') | (master_frame['funding_round_type'] == 'private_equity')\n",
    "]\n",
    "master_frame_copy = master_frame # required for plotting in checkpoint 6\n",
    "master_frame.shape"
   ]
  },
  {
   "cell_type": "markdown",
   "metadata": {},
   "source": [
    "#### Calculating the most representative value of the investment amount for each funding types"
   ]
  },
  {
   "cell_type": "code",
   "execution_count": 122,
   "metadata": {},
   "outputs": [
    {
     "data": {
      "text/html": [
       "<div>\n",
       "<style scoped>\n",
       "    .dataframe tbody tr th:only-of-type {\n",
       "        vertical-align: middle;\n",
       "    }\n",
       "\n",
       "    .dataframe tbody tr th {\n",
       "        vertical-align: top;\n",
       "    }\n",
       "\n",
       "    .dataframe thead th {\n",
       "        text-align: right;\n",
       "    }\n",
       "</style>\n",
       "<table border=\"1\" class=\"dataframe\">\n",
       "  <thead>\n",
       "    <tr style=\"text-align: right;\">\n",
       "      <th></th>\n",
       "      <th>raised_amount_usd</th>\n",
       "    </tr>\n",
       "    <tr>\n",
       "      <th>funding_round_type</th>\n",
       "      <th></th>\n",
       "    </tr>\n",
       "  </thead>\n",
       "  <tbody>\n",
       "    <tr>\n",
       "      <th>angel</th>\n",
       "      <td>400000.0</td>\n",
       "    </tr>\n",
       "    <tr>\n",
       "      <th>private_equity</th>\n",
       "      <td>20000000.0</td>\n",
       "    </tr>\n",
       "    <tr>\n",
       "      <th>seed</th>\n",
       "      <td>275000.0</td>\n",
       "    </tr>\n",
       "    <tr>\n",
       "      <th>venture</th>\n",
       "      <td>5000000.0</td>\n",
       "    </tr>\n",
       "  </tbody>\n",
       "</table>\n",
       "</div>"
      ],
      "text/plain": [
       "                    raised_amount_usd\n",
       "funding_round_type                   \n",
       "angel                        400000.0\n",
       "private_equity             20000000.0\n",
       "seed                         275000.0\n",
       "venture                     5000000.0"
      ]
     },
     "execution_count": 122,
     "metadata": {},
     "output_type": "execute_result"
    }
   ],
   "source": [
    "master_frame.pivot_table(index='funding_round_type', aggfunc={'raised_amount_usd': np.median})"
   ]
  },
  {
   "cell_type": "markdown",
   "metadata": {},
   "source": [
    "Based on the observations made, we come to a conclusion that __`VENTURE`__ type funding is the most suitable investment type for Spark Funds as it falls in the USD 5-15 million criteria."
   ]
  },
  {
   "cell_type": "markdown",
   "metadata": {},
   "source": [
    "| Investment Type | Total Investments | Average Investment (USD) |\n",
    "| :- | :-: | -: |\n",
    "| __Venture__ | __50228__ | __5_000_000__\n",
    "| Angel | 4860 | 450_000\n",
    "| Seed | 23603 | 275_000\n",
    "| Private Equity | 1936 | 20_000_000"
   ]
  },
  {
   "cell_type": "markdown",
   "metadata": {},
   "source": [
    "Before proceeding with the country analysis, filtering the master_frame data to contain only investments of the chosen type - `Venture`."
   ]
  },
  {
   "cell_type": "code",
   "execution_count": 123,
   "metadata": {},
   "outputs": [
    {
     "data": {
      "text/plain": [
       "(50228, 10)"
      ]
     },
     "execution_count": 123,
     "metadata": {},
     "output_type": "execute_result"
    }
   ],
   "source": [
    "# filtering the master_frame to have only venture type funding data\n",
    "master_frame = master_frame[master_frame['funding_round_type'] == 'venture']\n",
    "master_frame.shape"
   ]
  },
  {
   "cell_type": "markdown",
   "metadata": {},
   "source": [
    "## <center>Checkpoint 3: Country Analysis</center>\n",
    "### Country Analysis\n",
    "Identifying the top 3 countries (English speaking - De Facto and De Jure) with the highest investments.<br>"
   ]
  },
  {
   "cell_type": "code",
   "execution_count": 124,
   "metadata": {},
   "outputs": [
    {
     "data": {
      "text/html": [
       "<div>\n",
       "<style scoped>\n",
       "    .dataframe tbody tr th:only-of-type {\n",
       "        vertical-align: middle;\n",
       "    }\n",
       "\n",
       "    .dataframe tbody tr th {\n",
       "        vertical-align: top;\n",
       "    }\n",
       "\n",
       "    .dataframe thead th {\n",
       "        text-align: right;\n",
       "    }\n",
       "</style>\n",
       "<table border=\"1\" class=\"dataframe\">\n",
       "  <thead>\n",
       "    <tr style=\"text-align: right;\">\n",
       "      <th></th>\n",
       "      <th>country</th>\n",
       "      <th>country_code</th>\n",
       "    </tr>\n",
       "  </thead>\n",
       "  <tbody>\n",
       "    <tr>\n",
       "      <th>0</th>\n",
       "      <td>Australia</td>\n",
       "      <td>AUS</td>\n",
       "    </tr>\n",
       "    <tr>\n",
       "      <th>1</th>\n",
       "      <td>New Zealand</td>\n",
       "      <td>NZL</td>\n",
       "    </tr>\n",
       "    <tr>\n",
       "      <th>2</th>\n",
       "      <td>United Kingdom</td>\n",
       "      <td>GBR</td>\n",
       "    </tr>\n",
       "    <tr>\n",
       "      <th>3</th>\n",
       "      <td>United States</td>\n",
       "      <td>USA</td>\n",
       "    </tr>\n",
       "    <tr>\n",
       "      <th>4</th>\n",
       "      <td>Antigua and Barbuda</td>\n",
       "      <td>ATG</td>\n",
       "    </tr>\n",
       "  </tbody>\n",
       "</table>\n",
       "</div>"
      ],
      "text/plain": [
       "                country country_code\n",
       "0             Australia          AUS\n",
       "1           New Zealand          NZL\n",
       "2        United Kingdom          GBR\n",
       "3         United States          USA\n",
       "4   Antigua and Barbuda          ATG"
      ]
     },
     "execution_count": 124,
     "metadata": {},
     "output_type": "execute_result"
    }
   ],
   "source": [
    "# loading countries csv file with english speaking countries\n",
    "countries = pd.read_csv('countries.csv', engine='python')\n",
    "countries.head()"
   ]
  },
  {
   "cell_type": "code",
   "execution_count": 125,
   "metadata": {},
   "outputs": [
    {
     "data": {
      "text/plain": [
       "(41927, 11)"
      ]
     },
     "execution_count": 125,
     "metadata": {},
     "output_type": "execute_result"
    }
   ],
   "source": [
    "# merging venture_funded_companies with countries to get english speaking countries invested in venture type\n",
    "master_frame = pd.merge(master_frame, countries, on='country_code')\n",
    "master_frame.shape"
   ]
  },
  {
   "cell_type": "markdown",
   "metadata": {},
   "source": [
    "Earlier there were 50228 entires and now 41927 indicating filteration of non english speaking countries."
   ]
  },
  {
   "cell_type": "code",
   "execution_count": 126,
   "metadata": {},
   "outputs": [
    {
     "data": {
      "text/html": [
       "<div>\n",
       "<style scoped>\n",
       "    .dataframe tbody tr th:only-of-type {\n",
       "        vertical-align: middle;\n",
       "    }\n",
       "\n",
       "    .dataframe tbody tr th {\n",
       "        vertical-align: top;\n",
       "    }\n",
       "\n",
       "    .dataframe thead th {\n",
       "        text-align: right;\n",
       "    }\n",
       "</style>\n",
       "<table border=\"1\" class=\"dataframe\">\n",
       "  <thead>\n",
       "    <tr style=\"text-align: right;\">\n",
       "      <th></th>\n",
       "      <th></th>\n",
       "      <th>raised_amount_usd</th>\n",
       "    </tr>\n",
       "    <tr>\n",
       "      <th>country_code</th>\n",
       "      <th>country</th>\n",
       "      <th></th>\n",
       "    </tr>\n",
       "  </thead>\n",
       "  <tbody>\n",
       "    <tr>\n",
       "      <th>ARE</th>\n",
       "      <th>United Arab Emirates</th>\n",
       "      <td>3.426175e+08</td>\n",
       "    </tr>\n",
       "    <tr>\n",
       "      <th>AUS</th>\n",
       "      <th>Australia</th>\n",
       "      <td>1.322935e+09</td>\n",
       "    </tr>\n",
       "    <tr>\n",
       "      <th>BGD</th>\n",
       "      <th>Bangladesh</th>\n",
       "      <td>7.002000e+06</td>\n",
       "    </tr>\n",
       "    <tr>\n",
       "      <th>BWA</th>\n",
       "      <th>Botswana</th>\n",
       "      <td>2.250000e+06</td>\n",
       "    </tr>\n",
       "    <tr>\n",
       "      <th>CAN</th>\n",
       "      <th>Canada</th>\n",
       "      <td>9.583332e+09</td>\n",
       "    </tr>\n",
       "  </tbody>\n",
       "</table>\n",
       "</div>"
      ],
      "text/plain": [
       "                                    raised_amount_usd\n",
       "country_code country                                 \n",
       "ARE           United Arab Emirates       3.426175e+08\n",
       "AUS           Australia                  1.322935e+09\n",
       "BGD           Bangladesh                 7.002000e+06\n",
       "BWA           Botswana                   2.250000e+06\n",
       "CAN           Canada                     9.583332e+09"
      ]
     },
     "execution_count": 126,
     "metadata": {},
     "output_type": "execute_result"
    }
   ],
   "source": [
    "# getting total (sum) investments country wise \n",
    "country_wise_investments = master_frame.pivot_table(index=['country_code', 'country'], aggfunc={'raised_amount_usd': np.sum})\n",
    "country_wise_investments.head()"
   ]
  },
  {
   "cell_type": "code",
   "execution_count": 127,
   "metadata": {},
   "outputs": [
    {
     "data": {
      "text/html": [
       "<div>\n",
       "<style scoped>\n",
       "    .dataframe tbody tr th:only-of-type {\n",
       "        vertical-align: middle;\n",
       "    }\n",
       "\n",
       "    .dataframe tbody tr th {\n",
       "        vertical-align: top;\n",
       "    }\n",
       "\n",
       "    .dataframe thead th {\n",
       "        text-align: right;\n",
       "    }\n",
       "</style>\n",
       "<table border=\"1\" class=\"dataframe\">\n",
       "  <thead>\n",
       "    <tr style=\"text-align: right;\">\n",
       "      <th></th>\n",
       "      <th></th>\n",
       "      <th>raised_amount_usd</th>\n",
       "    </tr>\n",
       "    <tr>\n",
       "      <th>country_code</th>\n",
       "      <th>country</th>\n",
       "      <th></th>\n",
       "    </tr>\n",
       "  </thead>\n",
       "  <tbody>\n",
       "    <tr>\n",
       "      <th>USA</th>\n",
       "      <th>United States</th>\n",
       "      <td>422510842796.00</td>\n",
       "    </tr>\n",
       "    <tr>\n",
       "      <th>GBR</th>\n",
       "      <th>United Kingdom</th>\n",
       "      <td>20245627416.00</td>\n",
       "    </tr>\n",
       "    <tr>\n",
       "      <th>IND</th>\n",
       "      <th>India</th>\n",
       "      <td>14391858718.00</td>\n",
       "    </tr>\n",
       "    <tr>\n",
       "      <th>CAN</th>\n",
       "      <th>Canada</th>\n",
       "      <td>9583332317.00</td>\n",
       "    </tr>\n",
       "    <tr>\n",
       "      <th>ISR</th>\n",
       "      <th>Israel</th>\n",
       "      <td>6907514579.00</td>\n",
       "    </tr>\n",
       "    <tr>\n",
       "      <th>SGP</th>\n",
       "      <th>Singapore</th>\n",
       "      <td>2793917856.00</td>\n",
       "    </tr>\n",
       "    <tr>\n",
       "      <th>IRL</th>\n",
       "      <th>Ireland</th>\n",
       "      <td>1676131350.00</td>\n",
       "    </tr>\n",
       "    <tr>\n",
       "      <th>AUS</th>\n",
       "      <th>Australia</th>\n",
       "      <td>1322934948.00</td>\n",
       "    </tr>\n",
       "    <tr>\n",
       "      <th>MYS</th>\n",
       "      <th>Malaysia</th>\n",
       "      <td>883058787.00</td>\n",
       "    </tr>\n",
       "  </tbody>\n",
       "</table>\n",
       "</div>"
      ],
      "text/plain": [
       "                             raised_amount_usd\n",
       "country_code country                          \n",
       "USA           United States    422510842796.00\n",
       "GBR           United Kingdom    20245627416.00\n",
       "IND           India             14391858718.00\n",
       "CAN           Canada             9583332317.00\n",
       "ISR           Israel             6907514579.00\n",
       "SGP           Singapore          2793917856.00\n",
       "IRL           Ireland            1676131350.00\n",
       "AUS           Australia          1322934948.00\n",
       "MYS           Malaysia            883058787.00"
      ]
     },
     "execution_count": 127,
     "metadata": {},
     "output_type": "execute_result"
    }
   ],
   "source": [
    "# getting top 9 highly invested countries in the venture type investment\n",
    "top9 = country_wise_investments.sort_values(by='raised_amount_usd', ascending=False).head(9)\n",
    "top9['raised_amount_usd'] = top9['raised_amount_usd'].apply(lambda x: '%.2f' % x)\n",
    "top9"
   ]
  },
  {
   "cell_type": "code",
   "execution_count": 128,
   "metadata": {},
   "outputs": [
    {
     "data": {
      "text/html": [
       "<div>\n",
       "<style scoped>\n",
       "    .dataframe tbody tr th:only-of-type {\n",
       "        vertical-align: middle;\n",
       "    }\n",
       "\n",
       "    .dataframe tbody tr th {\n",
       "        vertical-align: top;\n",
       "    }\n",
       "\n",
       "    .dataframe thead th {\n",
       "        text-align: right;\n",
       "    }\n",
       "</style>\n",
       "<table border=\"1\" class=\"dataframe\">\n",
       "  <thead>\n",
       "    <tr style=\"text-align: right;\">\n",
       "      <th></th>\n",
       "      <th></th>\n",
       "      <th>raised_amount_usd</th>\n",
       "    </tr>\n",
       "    <tr>\n",
       "      <th>country_code</th>\n",
       "      <th>country</th>\n",
       "      <th></th>\n",
       "    </tr>\n",
       "  </thead>\n",
       "  <tbody>\n",
       "    <tr>\n",
       "      <th>USA</th>\n",
       "      <th>United States</th>\n",
       "      <td>422510842796.00</td>\n",
       "    </tr>\n",
       "    <tr>\n",
       "      <th>GBR</th>\n",
       "      <th>United Kingdom</th>\n",
       "      <td>20245627416.00</td>\n",
       "    </tr>\n",
       "    <tr>\n",
       "      <th>IND</th>\n",
       "      <th>India</th>\n",
       "      <td>14391858718.00</td>\n",
       "    </tr>\n",
       "  </tbody>\n",
       "</table>\n",
       "</div>"
      ],
      "text/plain": [
       "                             raised_amount_usd\n",
       "country_code country                          \n",
       "USA           United States    422510842796.00\n",
       "GBR           United Kingdom    20245627416.00\n",
       "IND           India             14391858718.00"
      ]
     },
     "execution_count": 128,
     "metadata": {},
     "output_type": "execute_result"
    }
   ],
   "source": [
    "# The top 3 countries with highest investments in venture type\n",
    "top9.head(3)"
   ]
  },
  {
   "cell_type": "code",
   "execution_count": 129,
   "metadata": {},
   "outputs": [
    {
     "data": {
      "text/plain": [
       "Index(['USA', 'GBR', 'IND'], dtype='object', name='country_code')"
      ]
     },
     "execution_count": 129,
     "metadata": {},
     "output_type": "execute_result"
    }
   ],
   "source": [
    "top3 = top9.head(3).index.get_level_values('country_code')\n",
    "top3"
   ]
  },
  {
   "cell_type": "markdown",
   "metadata": {},
   "source": [
    "Before proceeding with sector analysis, filtering the data and retaining only the top 3 countries related investment data."
   ]
  },
  {
   "cell_type": "code",
   "execution_count": 130,
   "metadata": {},
   "outputs": [
    {
     "data": {
      "text/plain": [
       "(39018, 11)"
      ]
     },
     "execution_count": 130,
     "metadata": {},
     "output_type": "execute_result"
    }
   ],
   "source": [
    "# Filtering out remaining counries and retaining only top 3\n",
    "master_frame = master_frame[master_frame['country_code'].isin(top3)]\n",
    "master_frame.shape"
   ]
  },
  {
   "cell_type": "code",
   "execution_count": 131,
   "metadata": {},
   "outputs": [
    {
     "data": {
      "text/plain": [
       "array(['IND', 'USA', 'GBR'], dtype=object)"
      ]
     },
     "execution_count": 131,
     "metadata": {},
     "output_type": "execute_result"
    }
   ],
   "source": [
    "# Verifying that dataframe contains only the top 3 countries\n",
    "master_frame.country_code.unique()"
   ]
  },
  {
   "cell_type": "markdown",
   "metadata": {},
   "source": [
    "***\n",
    "Based on the analysis made, we can observe that ___`United States of America (USA)`___, ___`United kingdom (GBR)`___ and ___`India (IND)`___ are the top 3 english speaking countries with the highest investments made in the venture type category. <br>\n",
    "We also have a dataframe `(top9)` with top 9 countries that received highest investments in venture category.<br>\n",
    "Also the master_frame is filtered to have the data only for top 3 countries.\n",
    "***"
   ]
  },
  {
   "cell_type": "markdown",
   "metadata": {},
   "source": [
    "## <center>Checkpoint 4: Sector Analysis 1</center>\n",
    "### Sector Analysis\n",
    "Extracting the primary sector data from the category_list column and creating a new column `primary_sector`."
   ]
  },
  {
   "cell_type": "code",
   "execution_count": 132,
   "metadata": {},
   "outputs": [],
   "source": [
    "# if category list have multiple entries separated by pipe, considering the first entry as primary sector\n",
    "master_frame['primary_sector'] = master_frame['category_list'].astype(str).transform(lambda x: x.split('|')[0])"
   ]
  },
  {
   "cell_type": "code",
   "execution_count": 133,
   "metadata": {
    "scrolled": true
   },
   "outputs": [
    {
     "data": {
      "text/html": [
       "<div>\n",
       "<style scoped>\n",
       "    .dataframe tbody tr th:only-of-type {\n",
       "        vertical-align: middle;\n",
       "    }\n",
       "\n",
       "    .dataframe tbody tr th {\n",
       "        vertical-align: top;\n",
       "    }\n",
       "\n",
       "    .dataframe thead th {\n",
       "        text-align: right;\n",
       "    }\n",
       "</style>\n",
       "<table border=\"1\" class=\"dataframe\">\n",
       "  <thead>\n",
       "    <tr style=\"text-align: right;\">\n",
       "      <th></th>\n",
       "      <th>permalink</th>\n",
       "      <th>name</th>\n",
       "      <th>category_list</th>\n",
       "      <th>status</th>\n",
       "      <th>country_code</th>\n",
       "      <th>city</th>\n",
       "      <th>company_permalink</th>\n",
       "      <th>funding_round_type</th>\n",
       "      <th>funding_round_code</th>\n",
       "      <th>raised_amount_usd</th>\n",
       "      <th>country</th>\n",
       "      <th>primary_sector</th>\n",
       "    </tr>\n",
       "  </thead>\n",
       "  <tbody>\n",
       "    <tr>\n",
       "      <th>0</th>\n",
       "      <td>/organization/-fame</td>\n",
       "      <td>#fame</td>\n",
       "      <td>Media</td>\n",
       "      <td>operating</td>\n",
       "      <td>IND</td>\n",
       "      <td>Mumbai</td>\n",
       "      <td>/organization/-fame</td>\n",
       "      <td>venture</td>\n",
       "      <td>B</td>\n",
       "      <td>10000000.0</td>\n",
       "      <td>India</td>\n",
       "      <td>Media</td>\n",
       "    </tr>\n",
       "    <tr>\n",
       "      <th>1</th>\n",
       "      <td>/organization/21diamonds-india</td>\n",
       "      <td>21Diamonds</td>\n",
       "      <td>E-Commerce</td>\n",
       "      <td>operating</td>\n",
       "      <td>IND</td>\n",
       "      <td>Gurgaon</td>\n",
       "      <td>/organization/21diamonds-india</td>\n",
       "      <td>venture</td>\n",
       "      <td>C</td>\n",
       "      <td>6369507.0</td>\n",
       "      <td>India</td>\n",
       "      <td>E-Commerce</td>\n",
       "    </tr>\n",
       "    <tr>\n",
       "      <th>2</th>\n",
       "      <td>/organization/247-learning-private</td>\n",
       "      <td>24x7 Learning</td>\n",
       "      <td>EdTech|Education|Systems</td>\n",
       "      <td>operating</td>\n",
       "      <td>IND</td>\n",
       "      <td>Bangalore</td>\n",
       "      <td>/organization/247-learning-private</td>\n",
       "      <td>venture</td>\n",
       "      <td>NaN</td>\n",
       "      <td>4000000.0</td>\n",
       "      <td>India</td>\n",
       "      <td>EdTech</td>\n",
       "    </tr>\n",
       "    <tr>\n",
       "      <th>3</th>\n",
       "      <td>/organization/3dsoc</td>\n",
       "      <td>3DSoC</td>\n",
       "      <td>3D|Mobile</td>\n",
       "      <td>operating</td>\n",
       "      <td>IND</td>\n",
       "      <td>Bangalore</td>\n",
       "      <td>/organization/3dsoc</td>\n",
       "      <td>venture</td>\n",
       "      <td>A</td>\n",
       "      <td>1240000.0</td>\n",
       "      <td>India</td>\n",
       "      <td>3D</td>\n",
       "    </tr>\n",
       "    <tr>\n",
       "      <th>4</th>\n",
       "      <td>/organization/3dsoc</td>\n",
       "      <td>3DSoC</td>\n",
       "      <td>3D|Mobile</td>\n",
       "      <td>operating</td>\n",
       "      <td>IND</td>\n",
       "      <td>Bangalore</td>\n",
       "      <td>/organization/3dsoc</td>\n",
       "      <td>venture</td>\n",
       "      <td>B</td>\n",
       "      <td>825000.0</td>\n",
       "      <td>India</td>\n",
       "      <td>3D</td>\n",
       "    </tr>\n",
       "  </tbody>\n",
       "</table>\n",
       "</div>"
      ],
      "text/plain": [
       "                            permalink           name  \\\n",
       "0                 /organization/-fame          #fame   \n",
       "1      /organization/21diamonds-india     21Diamonds   \n",
       "2  /organization/247-learning-private  24x7 Learning   \n",
       "3                 /organization/3dsoc          3DSoC   \n",
       "4                 /organization/3dsoc          3DSoC   \n",
       "\n",
       "              category_list     status country_code       city  \\\n",
       "0                     Media  operating          IND     Mumbai   \n",
       "1                E-Commerce  operating          IND    Gurgaon   \n",
       "2  EdTech|Education|Systems  operating          IND  Bangalore   \n",
       "3                 3D|Mobile  operating          IND  Bangalore   \n",
       "4                 3D|Mobile  operating          IND  Bangalore   \n",
       "\n",
       "                    company_permalink funding_round_type funding_round_code  \\\n",
       "0                 /organization/-fame            venture                  B   \n",
       "1      /organization/21diamonds-india            venture                  C   \n",
       "2  /organization/247-learning-private            venture                NaN   \n",
       "3                 /organization/3dsoc            venture                  A   \n",
       "4                 /organization/3dsoc            venture                  B   \n",
       "\n",
       "   raised_amount_usd country primary_sector  \n",
       "0         10000000.0   India          Media  \n",
       "1          6369507.0   India     E-Commerce  \n",
       "2          4000000.0   India         EdTech  \n",
       "3          1240000.0   India             3D  \n",
       "4           825000.0   India             3D  "
      ]
     },
     "execution_count": 133,
     "metadata": {},
     "output_type": "execute_result"
    }
   ],
   "source": [
    "master_frame.head()"
   ]
  },
  {
   "cell_type": "markdown",
   "metadata": {},
   "source": [
    "Loading mapping.csv file to get the main sector mapping to each primary sector"
   ]
  },
  {
   "cell_type": "code",
   "execution_count": 134,
   "metadata": {},
   "outputs": [
    {
     "data": {
      "text/html": [
       "<div>\n",
       "<style scoped>\n",
       "    .dataframe tbody tr th:only-of-type {\n",
       "        vertical-align: middle;\n",
       "    }\n",
       "\n",
       "    .dataframe tbody tr th {\n",
       "        vertical-align: top;\n",
       "    }\n",
       "\n",
       "    .dataframe thead th {\n",
       "        text-align: right;\n",
       "    }\n",
       "</style>\n",
       "<table border=\"1\" class=\"dataframe\">\n",
       "  <thead>\n",
       "    <tr style=\"text-align: right;\">\n",
       "      <th></th>\n",
       "      <th>category_list</th>\n",
       "      <th>Automotive &amp; Sports</th>\n",
       "      <th>Blanks</th>\n",
       "      <th>Cleantech / Semiconductors</th>\n",
       "      <th>Entertainment</th>\n",
       "      <th>Health</th>\n",
       "      <th>Manufacturing</th>\n",
       "      <th>News, Search and Messaging</th>\n",
       "      <th>Others</th>\n",
       "      <th>Social, Finance, Analytics, Advertising</th>\n",
       "    </tr>\n",
       "  </thead>\n",
       "  <tbody>\n",
       "    <tr>\n",
       "      <th>0</th>\n",
       "      <td>NaN</td>\n",
       "      <td>0</td>\n",
       "      <td>1</td>\n",
       "      <td>0</td>\n",
       "      <td>0</td>\n",
       "      <td>0</td>\n",
       "      <td>0</td>\n",
       "      <td>0</td>\n",
       "      <td>0</td>\n",
       "      <td>0</td>\n",
       "    </tr>\n",
       "    <tr>\n",
       "      <th>1</th>\n",
       "      <td>3D</td>\n",
       "      <td>0</td>\n",
       "      <td>0</td>\n",
       "      <td>0</td>\n",
       "      <td>0</td>\n",
       "      <td>0</td>\n",
       "      <td>1</td>\n",
       "      <td>0</td>\n",
       "      <td>0</td>\n",
       "      <td>0</td>\n",
       "    </tr>\n",
       "    <tr>\n",
       "      <th>2</th>\n",
       "      <td>3D Printing</td>\n",
       "      <td>0</td>\n",
       "      <td>0</td>\n",
       "      <td>0</td>\n",
       "      <td>0</td>\n",
       "      <td>0</td>\n",
       "      <td>1</td>\n",
       "      <td>0</td>\n",
       "      <td>0</td>\n",
       "      <td>0</td>\n",
       "    </tr>\n",
       "    <tr>\n",
       "      <th>3</th>\n",
       "      <td>3D Technology</td>\n",
       "      <td>0</td>\n",
       "      <td>0</td>\n",
       "      <td>0</td>\n",
       "      <td>0</td>\n",
       "      <td>0</td>\n",
       "      <td>1</td>\n",
       "      <td>0</td>\n",
       "      <td>0</td>\n",
       "      <td>0</td>\n",
       "    </tr>\n",
       "    <tr>\n",
       "      <th>4</th>\n",
       "      <td>Accounting</td>\n",
       "      <td>0</td>\n",
       "      <td>0</td>\n",
       "      <td>0</td>\n",
       "      <td>0</td>\n",
       "      <td>0</td>\n",
       "      <td>0</td>\n",
       "      <td>0</td>\n",
       "      <td>0</td>\n",
       "      <td>1</td>\n",
       "    </tr>\n",
       "  </tbody>\n",
       "</table>\n",
       "</div>"
      ],
      "text/plain": [
       "   category_list  Automotive & Sports  Blanks  Cleantech / Semiconductors  \\\n",
       "0            NaN                    0       1                           0   \n",
       "1             3D                    0       0                           0   \n",
       "2    3D Printing                    0       0                           0   \n",
       "3  3D Technology                    0       0                           0   \n",
       "4     Accounting                    0       0                           0   \n",
       "\n",
       "   Entertainment  Health  Manufacturing  News, Search and Messaging  Others  \\\n",
       "0              0       0              0                           0       0   \n",
       "1              0       0              1                           0       0   \n",
       "2              0       0              1                           0       0   \n",
       "3              0       0              1                           0       0   \n",
       "4              0       0              0                           0       0   \n",
       "\n",
       "   Social, Finance, Analytics, Advertising  \n",
       "0                                        0  \n",
       "1                                        0  \n",
       "2                                        0  \n",
       "3                                        0  \n",
       "4                                        1  "
      ]
     },
     "execution_count": 134,
     "metadata": {},
     "output_type": "execute_result"
    }
   ],
   "source": [
    "mappings = pd.read_csv(\"mapping.csv\")\n",
    "mappings.head()"
   ]
  },
  {
   "cell_type": "code",
   "execution_count": 135,
   "metadata": {},
   "outputs": [
    {
     "data": {
      "text/plain": [
       "array([nan, '3D', '3D Printing', '3D Technology', 'Accounting',\n",
       "       'Active Lifestyle', 'Ad Targeting', 'Advanced Materials',\n",
       "       'Adventure Travel', 'Advertising', 'Advertising Exchanges',\n",
       "       'Advertising Networks', 'Advertising Platforms', 'Advice',\n",
       "       'Aerospace', 'Agriculture', 'Air Pollution Control', 'Algorithms',\n",
       "       'All Markets', 'All Students', 'Alter0tive Medicine', 'Alumni',\n",
       "       'A0lytics', 'Android', 'Angels', 'Animal Feed',\n",
       "       'Anything Capital Intensive', 'App Discovery', 'App Marketing',\n",
       "       'App Stores', 'Application Performance Monitoring',\n",
       "       'Application Platforms', 'Apps', 'Aquaculture', 'Architecture',\n",
       "       'Archiving', 'Art', 'Artificial Intelligence', 'Artists Globally',\n",
       "       'Assisitive Technology', 'Assisted Living', 'Auctions', 'Audio',\n",
       "       'Audiobooks', 'Augmented Reality', 'Auto', 'Automated Kiosk',\n",
       "       'Automotive', 'B2B', 'B2B Express Delivery', 'Babies',\n",
       "       'Baby Accessories', 'Baby Boomers', 'Baby Safety', 'Banking',\n",
       "       'Batteries', 'Beauty', 'Bicycles', 'Big Data', 'Big Data A0lytics',\n",
       "       'Billing', 'Bio-Pharm', 'Biofuels', 'Bioinformatics',\n",
       "       'Biomass Power Generation', 'Biometrics', 'Biotechnology',\n",
       "       'Bitcoin', 'Blogging Platforms', 'Boating Industry',\n",
       "       'BPO Services', 'Brand Marketing', 'Brewing',\n",
       "       'Bridging Online and Offline', 'Broadcasting', 'Brokers',\n",
       "       'Browser Extensions', 'Building Owners', 'Building Products',\n",
       "       'Business A0lytics', 'Business Development',\n",
       "       'Business Information Systems', 'Business Intelligence',\n",
       "       'Business Productivity', 'Business Services', 'Business Travelers',\n",
       "       'Cable', 'CAD', 'Call Center Automation', 'Can0bis', 'Carbon',\n",
       "       'Career Ma0gement', 'Career Planning', 'Cars', 'Casual Games',\n",
       "       'Celebrity', 'Certification Test', 'Charities', 'Charity',\n",
       "       'Charter Schools', 'Chat', 'Chemicals', 'Child Care',\n",
       "       'Chi0 Internet', 'Civil Engineers', 'Classifieds', 'Clean Energy',\n",
       "       'Clean Technology', 'Clean Technology IT', 'Clinical Trials',\n",
       "       'Cloud-Based Music', 'Cloud Computing', 'Cloud Data Services',\n",
       "       'Cloud Infrastructure', 'Cloud Ma0gement', 'Cloud Security',\n",
       "       'Coffee', 'Collaboration', 'Collaborative Consumption',\n",
       "       'Collectibles', 'College Campuses', 'College Recruiting',\n",
       "       'Colleges', 'Comics', 'Commercial Real Estate', 'Commercial Solar',\n",
       "       'Commodities', 'Communications Hardware',\n",
       "       'Communications Infrastructure', 'Communities',\n",
       "       'Comparison Shopping', 'Computer Vision', 'Computers',\n",
       "       'Concentrated Solar Power', 'Concerts', 'Console Gaming',\n",
       "       'Construction', 'Consulting', 'Consumer Behavior',\n",
       "       'Consumer Electronics', 'Consumer Goods', 'Consumer Internet',\n",
       "       'Consumer Lending', 'Consumers', 'Contact Centers',\n",
       "       'Contact Ma0gement', 'Content', 'Content Creators',\n",
       "       'Content Delivery', 'Content Discovery', 'Content Syndication',\n",
       "       'Contests', 'Cooking', 'Corporate IT', 'Corporate Training',\n",
       "       'Corporate Wellness', 'Cosmetic Surgery', 'Cosmetics', 'Coupons',\n",
       "       'Coworking', 'Craft Beer', 'Creative', 'Creative Industries',\n",
       "       'Credit', 'Credit Cards', 'CRM', 'Crowdfunding', 'Crowdsourcing',\n",
       "       'Curated Web', 'Custom Retail', 'Customer Service',\n",
       "       'Customer Support Tools', 'Cyber', 'Cyber Security',\n",
       "       'Data Center Automation', 'Data Center Infrastructure',\n",
       "       'Data Centers', 'Data Integration', 'Data Mining', 'Data Privacy',\n",
       "       'Data Security', 'Data Visualization', 'Databases',\n",
       "       'Debt Collecting', 'Defense', 'Delivery', 'Demographies', 'Dental',\n",
       "       'Design', 'Designers', 'Developer APIs', 'Developer Tools',\n",
       "       'Development Platforms', 'Diabetes', 'Diagnostics',\n",
       "       'Dietary Supplements', 'Digital Entertainment', 'Digital Media',\n",
       "       'Digital Rights Ma0gement', 'Digital Sig0ge', 'Direct Advertising',\n",
       "       'Direct Marketing', 'Direct Sales', 'Discounts', 'Displays',\n",
       "       'Disruptive Models', 'Distribution', 'Distributors', 'DIY',\n",
       "       'Doctors', 'Document Ma0gement', 'DOD/Military', 'Domains',\n",
       "       'Drones', 'E-Books', 'E-Commerce', 'E-Commerce Platforms',\n",
       "       'Early-Stage Technology', 'EBooks', 'EDA Tools', 'Ediscovery',\n",
       "       'EdTech', 'Education', 'Educatio0l Games', 'Edutainment',\n",
       "       'Elder Care', 'Electric Vehicles', 'Electrical Distribution',\n",
       "       'Electronic Health Records', 'Electronics', 'Email',\n",
       "       'Email Marketing', 'Email Newsletters',\n",
       "       'Embedded Hardware and Software', 'Emerging Markets',\n",
       "       'Employer Benefits Programs', 'Employment', 'Energy',\n",
       "       'Energy Efficiency', 'Energy IT', 'Energy Ma0gement',\n",
       "       'Energy Storage', 'Engineering Firms', 'Enterprise 2.0',\n",
       "       'Enterprise Application', 'Enterprise Purchasing',\n",
       "       'Enterprise Resource Planning', 'Enterprise Search',\n",
       "       'Enterprise Security', 'Enterprise Software', 'Enterprises',\n",
       "       'Entertainment', 'Entertainment Industry', 'Entrepreneur',\n",
       "       'Environmental Innovation', 'Estimation and Quoting',\n",
       "       'Event Ma0gement', 'Events', 'Exercise', 'Eyewear',\n",
       "       'Face Recognition', 'Facebook Applications', 'Families',\n",
       "       'Fantasy Sports', 'Farmers Market', 'Farming', 'Fashion',\n",
       "       'Fertility', 'Field Support Services', 'File Sharing', 'Film',\n",
       "       'Film Distribution', 'Film Production', 'Fi0nce',\n",
       "       'Fi0nce Technology', 'Fi0ncial Exchanges', 'Fi0ncial Services',\n",
       "       'FinTech', 'Fitness', 'Flash Sales', 'Flash Storage',\n",
       "       'Fleet Ma0gement', 'Flowers', 'Fmcg', 'Food Processing', 'Forums',\n",
       "       'Fraud Detection', 'Freelancers', 'Freemium', 'FreetoPlay Gaming',\n",
       "       'Fruit', 'Fuel Cells', 'Fuels', 'Funeral Industry', 'Furniture',\n",
       "       'Gadget', 'Gambling', 'Game', 'Game Mechanics', 'Games',\n",
       "       'Gamification', 'Gas', 'Gay & Lesbian', 'General Public Worldwide',\n",
       "       'Genetic Testing', 'Geospatial', 'Gift Card', 'Gift Exchange',\n",
       "       'Gift Registries', 'Gold', 'Gover0nce', 'Government Innovation',\n",
       "       'Governments', 'Gps', 'Graphics', 'Green', 'Green Consumer Goods',\n",
       "       'Groceries', 'Group Buying', 'Group SMS', 'Guides', 'Handmade',\n",
       "       'Hardware', 'Hardware + Software', 'Health and Insurance',\n",
       "       'Health and Wellness', 'Health Care',\n",
       "       'Health Care Information Technology', 'Health Diagnostics',\n",
       "       'Health Services Industry', 'Healthcare Services',\n",
       "       'Heavy Industry', 'Hedge Funds', 'High School Students',\n",
       "       'High Schools', 'High Tech', 'Home & Garden', 'Home Automation',\n",
       "       'Home Decor', 'Home Owners', 'Home Renovation',\n",
       "       'Homeland Security', 'Homeless Shelter', 'Hospitality',\n",
       "       'Hospitals', 'Hotels', 'Human Computer Interaction',\n",
       "       'Human Resource Automation', 'Human Resources', 'Humanitarian',\n",
       "       'IaaS', 'ICT', 'Identity', 'Identity Ma0gement',\n",
       "       'Image Recognition', 'Impact Investing', 'In-Flight Entertainment',\n",
       "       'Incentives', 'Incubators', 'Independent Music Labels',\n",
       "       'Independent Pharmacies', 'Indians', 'Indoor Positioning',\n",
       "       'Industrial', 'Industrial Automation', 'Information Security',\n",
       "       'Information Services', 'Information Technology', 'Infrastructure',\n",
       "       'Innovation Engineering', 'Innovation Ma0gement', 'Insurance',\n",
       "       'Intellectual Asset Ma0gement', 'Intellectual Property',\n",
       "       'Intelligent Systems', 'Interest Graph', 'Interface Design',\n",
       "       'Interior Design', 'Internet', 'Internet Infrastructure',\n",
       "       'Internet Marketing', 'Internet of Things',\n",
       "       'Internet Radio Market', 'Internet Service Providers',\n",
       "       'Investment Ma0gement', 'iOS', 'iPad', 'iPhone',\n",
       "       'IT and Cybersecurity', 'IT Ma0gement', 'Jewelry', 'Jour0lism',\n",
       "       'K-12 Education', 'Kids', 'Knowledge Ma0gement', 'Landscaping',\n",
       "       'Language Learning', 'Lasers', 'Law Enforcement',\n",
       "       'Lead Generation', 'Lead Ma0gement', 'Legal', 'Leisure',\n",
       "       'Licensing', 'Life Sciences', 'Lifestyle', 'Lifestyle Businesses',\n",
       "       'Lifestyle Products', 'Lighting', 'Limousines', 'Linux', 'Local',\n",
       "       'Local Advertising', 'Local Based Services', 'Local Businesses',\n",
       "       'Local Commerce', 'Local Search', 'Location Based Services',\n",
       "       'Logistics', 'Logistics Company', 'Lotteries', 'Low Bid Auctions',\n",
       "       'Loyalty Programs', 'M2M', 'Machine Learning', 'Manufacturing',\n",
       "       'Maps', 'Market Research', 'Marketing Automation', 'Marketplaces',\n",
       "       'Mass Customization', 'Match-Making', 'Material Science',\n",
       "       'Mechanical Solutions', 'Media', 'Medical', 'Medical Devices',\n",
       "       'Medical Professio0ls', 'Meeting Software', 'Mens Specific',\n",
       "       'Messaging', 'mHealth', 'Micro-Enterprises', 'MicroBlogging',\n",
       "       'Minerals', 'Mining Technologies', 'Mobile', 'Mobile Advertising',\n",
       "       'Mobile A0lytics', 'Mobile Commerce', 'Mobile Devices',\n",
       "       'Mobile Enterprise', 'Mobile Games', 'Mobile Health',\n",
       "       'Mobile Infrastructure', 'Mobile Payments', 'Mobile Security',\n",
       "       'Mobile Shopping', 'Mobile Social', 'Mobile Software Tools',\n",
       "       'Mobile Video', 'Mobility', 'Monetization', 'Moneymaking',\n",
       "       'Multi-level Marketing', 'Music', 'Music Education',\n",
       "       'Music Services', 'Music Venues', 'Musical Instruments',\n",
       "       'Musicians', '0notechnology', '0tural Language Processing',\n",
       "       '0tural Resources', '0vigation', 'Network Security', 'Networking',\n",
       "       'Neuroscience', 'New Product Development', 'New Technologies',\n",
       "       'News', 'Non-Tech', 'Non Profit', 'Nonprofits', 'Nutrition',\n",
       "       'Office Space', 'Oil', 'Oil & Gas', 'Oil and Gas', 'Online Dating',\n",
       "       'Online Education', 'Online Gaming', 'Online Identity',\n",
       "       'Online Rental', 'Online Reservations', 'Online Scheduling',\n",
       "       'Online Shopping', 'Online Travel', 'Online Video Advertising',\n",
       "       'Open Source', 'Opinions', 'Optical Communications',\n",
       "       'Optimization', 'Organic', 'Organic Food', 'Outdoors',\n",
       "       'Outsourcing', 'P2P Money Transfer', 'PaaS', 'Parenting',\n",
       "       'Parking', 'Payments', 'Peer-to-Peer', 'Performance Marketing',\n",
       "       'Perso0l Branding', 'Perso0l Data', 'Perso0l Fi0nce',\n",
       "       'Perso0l Health', 'Perso0lization', 'Pervasive Computing', 'Pets',\n",
       "       'Pharmaceuticals', 'Photo Editing', 'Photo Sharing', 'Photography',\n",
       "       'Physical Security', 'Physicians', 'Plumbers', 'Point of Sale',\n",
       "       'Politics', 'Polling', 'Portals', 'Postal and Courier Services',\n",
       "       'Pre Seed', 'Predictive A0lytics', 'Presentations',\n",
       "       'Price Comparison', 'Printing', 'Privacy', 'Private School',\n",
       "       'Private Social Networking', 'Procurement', 'Product Design',\n",
       "       'Product Development Services', 'Productivity',\n",
       "       'Productivity Software', 'Professio0l Networking',\n",
       "       'Professio0l Services', 'Project Ma0gement', 'Promotio0l',\n",
       "       'Property Ma0gement', 'Public Relations', 'Public Safety',\n",
       "       'Public Transportation', 'Publishing', 'Q&A', 'QR Codes',\n",
       "       'Real Estate', 'Real Time', 'Realtors', 'Recreation', 'Recruiting',\n",
       "       'Recycling', 'Religion', 'Renewable Energies', 'Renewable Tech',\n",
       "       'Rental Housing', 'Reputation', 'Resorts', 'Restaurants', 'Retail',\n",
       "       'Retail Technology', 'Reviews and Recommendations', 'RFID',\n",
       "       'Ride Sharing', 'Risk Ma0gement', 'Robotics', 'SaaS',\n",
       "       'Sales and Marketing', 'Sales Automation', 'Search',\n",
       "       'Search Marketing', 'Security',\n",
       "       'Semiconductor Manufacturing Equipment', 'Semiconductors',\n",
       "       'Senior Citizens', 'Senior Health', 'Sensors', 'SEO',\n",
       "       'Service Industries', 'Service Providers', 'Services', 'SexTech',\n",
       "       'Shared Services', 'Shipping', 'Shoes', 'Shopping', 'Simulation',\n",
       "       'Skill Assessment', 'Small and Medium Businesses', 'Smart Grid',\n",
       "       'SNS', 'Soccer', 'Social + Mobile + Local', 'Social Bookmarking',\n",
       "       'Social Business', 'Social Buying', 'Social Commerce',\n",
       "       'Social CRM', 'Social Fundraising', 'Social Games', 'Social Media',\n",
       "       'Social Media Ma0gement', 'Social Media Marketing',\n",
       "       'Social Media Platforms', 'Social Network Media', 'Social News',\n",
       "       'Social Recruiting', 'Social Television', 'Social Travel',\n",
       "       'Software', 'Solar', 'Space Travel', 'Specialty Chemicals',\n",
       "       'Specialty Foods', 'Speech Recognition', 'Sporting Goods',\n",
       "       'Sports', 'Staffing Firms', 'Startups', 'Stock Exchanges',\n",
       "       'Storage', 'Subscription Service', 'Supply Chain Ma0gement',\n",
       "       'Surveys', 'Synchronization', 'Systems', 'Task Ma0gement', 'Taxis',\n",
       "       'Tea', 'Technology', 'Telecommunications', 'Television',\n",
       "       'Textiles', 'Theatre', 'Therapeutics', 'Ticketing', 'Tourism',\n",
       "       'Tracking', 'Trading', 'Training', 'Translation', 'Transportation',\n",
       "       'Travel', 'Travel & Tourism', 'Universities',\n",
       "       'University Students', 'Unmanned Air Systems', 'Usability',\n",
       "       'User Experience Design', 'User Interface', 'Utilities',\n",
       "       'Vending and Concessions', 'Venture Capital', 'Veteri0ry', 'Video',\n",
       "       'Video Conferencing', 'Video Games', 'Video on Demand',\n",
       "       'Video Streaming', 'Virtual Workforces', 'VoIP', 'Waste Ma0gement',\n",
       "       'Watch', 'Water', 'Water Purification', 'Wearables',\n",
       "       'Web Browsers', 'Web Design', 'Web Development', 'Web Hosting',\n",
       "       'Web Tools', 'Weddings', 'Wholesale', 'Wine And Spirits',\n",
       "       'Wireless', 'Women', 'Young Adults'], dtype=object)"
      ]
     },
     "execution_count": 135,
     "metadata": {},
     "output_type": "execute_result"
    }
   ],
   "source": [
    "# category list unique values\n",
    "mappings['category_list'].unique()"
   ]
  },
  {
   "cell_type": "markdown",
   "metadata": {},
   "source": [
    "We can observe that there are some inconsistencies in data like `'0'` is present in place of `'na'`. <br>\n",
    "A`0`lytics instead of A`na`lytics"
   ]
  },
  {
   "cell_type": "code",
   "execution_count": 136,
   "metadata": {},
   "outputs": [],
   "source": [
    "# replacing 0 with na\n",
    "mappings['category_list'] = mappings['category_list'].astype(str).transform(lambda x: x.replace('0', 'na'))"
   ]
  },
  {
   "cell_type": "code",
   "execution_count": 137,
   "metadata": {},
   "outputs": [
    {
     "data": {
      "text/plain": [
       "array(['nan', '3D', '3D Printing', '3D Technology', 'Accounting',\n",
       "       'Active Lifestyle', 'Ad Targeting', 'Advanced Materials',\n",
       "       'Adventure Travel', 'Advertising', 'Advertising Exchanges',\n",
       "       'Advertising Networks', 'Advertising Platforms', 'Advice',\n",
       "       'Aerospace', 'Agriculture', 'Air Pollution Control', 'Algorithms',\n",
       "       'All Markets', 'All Students', 'Alternative Medicine', 'Alumni',\n",
       "       'Analytics', 'Android', 'Angels', 'Animal Feed',\n",
       "       'Anything Capital Intensive', 'App Discovery', 'App Marketing',\n",
       "       'App Stores', 'Application Performance Monitoring',\n",
       "       'Application Platforms', 'Apps', 'Aquaculture', 'Architecture',\n",
       "       'Archiving', 'Art', 'Artificial Intelligence', 'Artists Globally',\n",
       "       'Assisitive Technology', 'Assisted Living', 'Auctions', 'Audio',\n",
       "       'Audiobooks', 'Augmented Reality', 'Auto', 'Automated Kiosk',\n",
       "       'Automotive', 'B2B', 'B2B Express Delivery', 'Babies',\n",
       "       'Baby Accessories', 'Baby Boomers', 'Baby Safety', 'Banking',\n",
       "       'Batteries', 'Beauty', 'Bicycles', 'Big Data',\n",
       "       'Big Data Analytics', 'Billing', 'Bio-Pharm', 'Biofuels',\n",
       "       'Bioinformatics', 'Biomass Power Generation', 'Biometrics',\n",
       "       'Biotechnology', 'Bitcoin', 'Blogging Platforms',\n",
       "       'Boating Industry', 'BPO Services', 'Brand Marketing', 'Brewing',\n",
       "       'Bridging Online and Offline', 'Broadcasting', 'Brokers',\n",
       "       'Browser Extensions', 'Building Owners', 'Building Products',\n",
       "       'Business Analytics', 'Business Development',\n",
       "       'Business Information Systems', 'Business Intelligence',\n",
       "       'Business Productivity', 'Business Services', 'Business Travelers',\n",
       "       'Cable', 'CAD', 'Call Center Automation', 'Cannabis', 'Carbon',\n",
       "       'Career Management', 'Career Planning', 'Cars', 'Casual Games',\n",
       "       'Celebrity', 'Certification Test', 'Charities', 'Charity',\n",
       "       'Charter Schools', 'Chat', 'Chemicals', 'Child Care',\n",
       "       'China Internet', 'Civil Engineers', 'Classifieds', 'Clean Energy',\n",
       "       'Clean Technology', 'Clean Technology IT', 'Clinical Trials',\n",
       "       'Cloud-Based Music', 'Cloud Computing', 'Cloud Data Services',\n",
       "       'Cloud Infrastructure', 'Cloud Management', 'Cloud Security',\n",
       "       'Coffee', 'Collaboration', 'Collaborative Consumption',\n",
       "       'Collectibles', 'College Campuses', 'College Recruiting',\n",
       "       'Colleges', 'Comics', 'Commercial Real Estate', 'Commercial Solar',\n",
       "       'Commodities', 'Communications Hardware',\n",
       "       'Communications Infrastructure', 'Communities',\n",
       "       'Comparison Shopping', 'Computer Vision', 'Computers',\n",
       "       'Concentrated Solar Power', 'Concerts', 'Console Gaming',\n",
       "       'Construction', 'Consulting', 'Consumer Behavior',\n",
       "       'Consumer Electronics', 'Consumer Goods', 'Consumer Internet',\n",
       "       'Consumer Lending', 'Consumers', 'Contact Centers',\n",
       "       'Contact Management', 'Content', 'Content Creators',\n",
       "       'Content Delivery', 'Content Discovery', 'Content Syndication',\n",
       "       'Contests', 'Cooking', 'Corporate IT', 'Corporate Training',\n",
       "       'Corporate Wellness', 'Cosmetic Surgery', 'Cosmetics', 'Coupons',\n",
       "       'Coworking', 'Craft Beer', 'Creative', 'Creative Industries',\n",
       "       'Credit', 'Credit Cards', 'CRM', 'Crowdfunding', 'Crowdsourcing',\n",
       "       'Curated Web', 'Custom Retail', 'Customer Service',\n",
       "       'Customer Support Tools', 'Cyber', 'Cyber Security',\n",
       "       'Data Center Automation', 'Data Center Infrastructure',\n",
       "       'Data Centers', 'Data Integration', 'Data Mining', 'Data Privacy',\n",
       "       'Data Security', 'Data Visualization', 'Databases',\n",
       "       'Debt Collecting', 'Defense', 'Delivery', 'Demographies', 'Dental',\n",
       "       'Design', 'Designers', 'Developer APIs', 'Developer Tools',\n",
       "       'Development Platforms', 'Diabetes', 'Diagnostics',\n",
       "       'Dietary Supplements', 'Digital Entertainment', 'Digital Media',\n",
       "       'Digital Rights Management', 'Digital Signage',\n",
       "       'Direct Advertising', 'Direct Marketing', 'Direct Sales',\n",
       "       'Discounts', 'Displays', 'Disruptive Models', 'Distribution',\n",
       "       'Distributors', 'DIY', 'Doctors', 'Document Management',\n",
       "       'DOD/Military', 'Domains', 'Drones', 'E-Books', 'E-Commerce',\n",
       "       'E-Commerce Platforms', 'Early-Stage Technology', 'EBooks',\n",
       "       'EDA Tools', 'Ediscovery', 'EdTech', 'Education',\n",
       "       'Educational Games', 'Edutainment', 'Elder Care',\n",
       "       'Electric Vehicles', 'Electrical Distribution',\n",
       "       'Electronic Health Records', 'Electronics', 'Email',\n",
       "       'Email Marketing', 'Email Newsletters',\n",
       "       'Embedded Hardware and Software', 'Emerging Markets',\n",
       "       'Employer Benefits Programs', 'Employment', 'Energy',\n",
       "       'Energy Efficiency', 'Energy IT', 'Energy Management',\n",
       "       'Energy Storage', 'Engineering Firms', 'Enterprise 2.na',\n",
       "       'Enterprise Application', 'Enterprise Purchasing',\n",
       "       'Enterprise Resource Planning', 'Enterprise Search',\n",
       "       'Enterprise Security', 'Enterprise Software', 'Enterprises',\n",
       "       'Entertainment', 'Entertainment Industry', 'Entrepreneur',\n",
       "       'Environmental Innovation', 'Estimation and Quoting',\n",
       "       'Event Management', 'Events', 'Exercise', 'Eyewear',\n",
       "       'Face Recognition', 'Facebook Applications', 'Families',\n",
       "       'Fantasy Sports', 'Farmers Market', 'Farming', 'Fashion',\n",
       "       'Fertility', 'Field Support Services', 'File Sharing', 'Film',\n",
       "       'Film Distribution', 'Film Production', 'Finance',\n",
       "       'Finance Technology', 'Financial Exchanges', 'Financial Services',\n",
       "       'FinTech', 'Fitness', 'Flash Sales', 'Flash Storage',\n",
       "       'Fleet Management', 'Flowers', 'Fmcg', 'Food Processing', 'Forums',\n",
       "       'Fraud Detection', 'Freelancers', 'Freemium', 'FreetoPlay Gaming',\n",
       "       'Fruit', 'Fuel Cells', 'Fuels', 'Funeral Industry', 'Furniture',\n",
       "       'Gadget', 'Gambling', 'Game', 'Game Mechanics', 'Games',\n",
       "       'Gamification', 'Gas', 'Gay & Lesbian', 'General Public Worldwide',\n",
       "       'Genetic Testing', 'Geospatial', 'Gift Card', 'Gift Exchange',\n",
       "       'Gift Registries', 'Gold', 'Governance', 'Government Innovation',\n",
       "       'Governments', 'Gps', 'Graphics', 'Green', 'Green Consumer Goods',\n",
       "       'Groceries', 'Group Buying', 'Group SMS', 'Guides', 'Handmade',\n",
       "       'Hardware', 'Hardware + Software', 'Health and Insurance',\n",
       "       'Health and Wellness', 'Health Care',\n",
       "       'Health Care Information Technology', 'Health Diagnostics',\n",
       "       'Health Services Industry', 'Healthcare Services',\n",
       "       'Heavy Industry', 'Hedge Funds', 'High School Students',\n",
       "       'High Schools', 'High Tech', 'Home & Garden', 'Home Automation',\n",
       "       'Home Decor', 'Home Owners', 'Home Renovation',\n",
       "       'Homeland Security', 'Homeless Shelter', 'Hospitality',\n",
       "       'Hospitals', 'Hotels', 'Human Computer Interaction',\n",
       "       'Human Resource Automation', 'Human Resources', 'Humanitarian',\n",
       "       'IaaS', 'ICT', 'Identity', 'Identity Management',\n",
       "       'Image Recognition', 'Impact Investing', 'In-Flight Entertainment',\n",
       "       'Incentives', 'Incubators', 'Independent Music Labels',\n",
       "       'Independent Pharmacies', 'Indians', 'Indoor Positioning',\n",
       "       'Industrial', 'Industrial Automation', 'Information Security',\n",
       "       'Information Services', 'Information Technology', 'Infrastructure',\n",
       "       'Innovation Engineering', 'Innovation Management', 'Insurance',\n",
       "       'Intellectual Asset Management', 'Intellectual Property',\n",
       "       'Intelligent Systems', 'Interest Graph', 'Interface Design',\n",
       "       'Interior Design', 'Internet', 'Internet Infrastructure',\n",
       "       'Internet Marketing', 'Internet of Things',\n",
       "       'Internet Radio Market', 'Internet Service Providers',\n",
       "       'Investment Management', 'iOS', 'iPad', 'iPhone',\n",
       "       'IT and Cybersecurity', 'IT Management', 'Jewelry', 'Journalism',\n",
       "       'K-12 Education', 'Kids', 'Knowledge Management', 'Landscaping',\n",
       "       'Language Learning', 'Lasers', 'Law Enforcement',\n",
       "       'Lead Generation', 'Lead Management', 'Legal', 'Leisure',\n",
       "       'Licensing', 'Life Sciences', 'Lifestyle', 'Lifestyle Businesses',\n",
       "       'Lifestyle Products', 'Lighting', 'Limousines', 'Linux', 'Local',\n",
       "       'Local Advertising', 'Local Based Services', 'Local Businesses',\n",
       "       'Local Commerce', 'Local Search', 'Location Based Services',\n",
       "       'Logistics', 'Logistics Company', 'Lotteries', 'Low Bid Auctions',\n",
       "       'Loyalty Programs', 'M2M', 'Machine Learning', 'Manufacturing',\n",
       "       'Maps', 'Market Research', 'Marketing Automation', 'Marketplaces',\n",
       "       'Mass Customization', 'Match-Making', 'Material Science',\n",
       "       'Mechanical Solutions', 'Media', 'Medical', 'Medical Devices',\n",
       "       'Medical Professionals', 'Meeting Software', 'Mens Specific',\n",
       "       'Messaging', 'mHealth', 'Micro-Enterprises', 'MicroBlogging',\n",
       "       'Minerals', 'Mining Technologies', 'Mobile', 'Mobile Advertising',\n",
       "       'Mobile Analytics', 'Mobile Commerce', 'Mobile Devices',\n",
       "       'Mobile Enterprise', 'Mobile Games', 'Mobile Health',\n",
       "       'Mobile Infrastructure', 'Mobile Payments', 'Mobile Security',\n",
       "       'Mobile Shopping', 'Mobile Social', 'Mobile Software Tools',\n",
       "       'Mobile Video', 'Mobility', 'Monetization', 'Moneymaking',\n",
       "       'Multi-level Marketing', 'Music', 'Music Education',\n",
       "       'Music Services', 'Music Venues', 'Musical Instruments',\n",
       "       'Musicians', 'nanotechnology', 'natural Language Processing',\n",
       "       'natural Resources', 'navigation', 'Network Security',\n",
       "       'Networking', 'Neuroscience', 'New Product Development',\n",
       "       'New Technologies', 'News', 'Non-Tech', 'Non Profit', 'Nonprofits',\n",
       "       'Nutrition', 'Office Space', 'Oil', 'Oil & Gas', 'Oil and Gas',\n",
       "       'Online Dating', 'Online Education', 'Online Gaming',\n",
       "       'Online Identity', 'Online Rental', 'Online Reservations',\n",
       "       'Online Scheduling', 'Online Shopping', 'Online Travel',\n",
       "       'Online Video Advertising', 'Open Source', 'Opinions',\n",
       "       'Optical Communications', 'Optimization', 'Organic',\n",
       "       'Organic Food', 'Outdoors', 'Outsourcing', 'P2P Money Transfer',\n",
       "       'PaaS', 'Parenting', 'Parking', 'Payments', 'Peer-to-Peer',\n",
       "       'Performance Marketing', 'Personal Branding', 'Personal Data',\n",
       "       'Personal Finance', 'Personal Health', 'Personalization',\n",
       "       'Pervasive Computing', 'Pets', 'Pharmaceuticals', 'Photo Editing',\n",
       "       'Photo Sharing', 'Photography', 'Physical Security', 'Physicians',\n",
       "       'Plumbers', 'Point of Sale', 'Politics', 'Polling', 'Portals',\n",
       "       'Postal and Courier Services', 'Pre Seed', 'Predictive Analytics',\n",
       "       'Presentations', 'Price Comparison', 'Printing', 'Privacy',\n",
       "       'Private School', 'Private Social Networking', 'Procurement',\n",
       "       'Product Design', 'Product Development Services', 'Productivity',\n",
       "       'Productivity Software', 'Professional Networking',\n",
       "       'Professional Services', 'Project Management', 'Promotional',\n",
       "       'Property Management', 'Public Relations', 'Public Safety',\n",
       "       'Public Transportation', 'Publishing', 'Q&A', 'QR Codes',\n",
       "       'Real Estate', 'Real Time', 'Realtors', 'Recreation', 'Recruiting',\n",
       "       'Recycling', 'Religion', 'Renewable Energies', 'Renewable Tech',\n",
       "       'Rental Housing', 'Reputation', 'Resorts', 'Restaurants', 'Retail',\n",
       "       'Retail Technology', 'Reviews and Recommendations', 'RFID',\n",
       "       'Ride Sharing', 'Risk Management', 'Robotics', 'SaaS',\n",
       "       'Sales and Marketing', 'Sales Automation', 'Search',\n",
       "       'Search Marketing', 'Security',\n",
       "       'Semiconductor Manufacturing Equipment', 'Semiconductors',\n",
       "       'Senior Citizens', 'Senior Health', 'Sensors', 'SEO',\n",
       "       'Service Industries', 'Service Providers', 'Services', 'SexTech',\n",
       "       'Shared Services', 'Shipping', 'Shoes', 'Shopping', 'Simulation',\n",
       "       'Skill Assessment', 'Small and Medium Businesses', 'Smart Grid',\n",
       "       'SNS', 'Soccer', 'Social + Mobile + Local', 'Social Bookmarking',\n",
       "       'Social Business', 'Social Buying', 'Social Commerce',\n",
       "       'Social CRM', 'Social Fundraising', 'Social Games', 'Social Media',\n",
       "       'Social Media Management', 'Social Media Marketing',\n",
       "       'Social Media Platforms', 'Social Network Media', 'Social News',\n",
       "       'Social Recruiting', 'Social Television', 'Social Travel',\n",
       "       'Software', 'Solar', 'Space Travel', 'Specialty Chemicals',\n",
       "       'Specialty Foods', 'Speech Recognition', 'Sporting Goods',\n",
       "       'Sports', 'Staffing Firms', 'Startups', 'Stock Exchanges',\n",
       "       'Storage', 'Subscription Service', 'Supply Chain Management',\n",
       "       'Surveys', 'Synchronization', 'Systems', 'Task Management',\n",
       "       'Taxis', 'Tea', 'Technology', 'Telecommunications', 'Television',\n",
       "       'Textiles', 'Theatre', 'Therapeutics', 'Ticketing', 'Tourism',\n",
       "       'Tracking', 'Trading', 'Training', 'Translation', 'Transportation',\n",
       "       'Travel', 'Travel & Tourism', 'Universities',\n",
       "       'University Students', 'Unmanned Air Systems', 'Usability',\n",
       "       'User Experience Design', 'User Interface', 'Utilities',\n",
       "       'Vending and Concessions', 'Venture Capital', 'Veterinary',\n",
       "       'Video', 'Video Conferencing', 'Video Games', 'Video on Demand',\n",
       "       'Video Streaming', 'Virtual Workforces', 'VoIP',\n",
       "       'Waste Management', 'Watch', 'Water', 'Water Purification',\n",
       "       'Wearables', 'Web Browsers', 'Web Design', 'Web Development',\n",
       "       'Web Hosting', 'Web Tools', 'Weddings', 'Wholesale',\n",
       "       'Wine And Spirits', 'Wireless', 'Women', 'Young Adults'],\n",
       "      dtype=object)"
      ]
     },
     "execution_count": 137,
     "metadata": {},
     "output_type": "execute_result"
    }
   ],
   "source": [
    "# checking again for data inconsistencies\n",
    "mappings['category_list'].unique()"
   ]
  },
  {
   "cell_type": "markdown",
   "metadata": {},
   "source": [
    "We observe that 2.0 is replaced to 2.na due to previous activity. Hence correcting this value."
   ]
  },
  {
   "cell_type": "code",
   "execution_count": 138,
   "metadata": {},
   "outputs": [],
   "source": [
    "# replacing 2.na with 2.0\n",
    "mappings['category_list'] = mappings['category_list'].astype(str).transform(lambda x: x.replace('2.na', '2.0'))"
   ]
  },
  {
   "cell_type": "markdown",
   "metadata": {},
   "source": [
    "The category_list column is now cleaned and ready for mapping."
   ]
  },
  {
   "cell_type": "code",
   "execution_count": 139,
   "metadata": {},
   "outputs": [],
   "source": [
    "# dropping column 'Blanks'\n",
    "mappings = mappings.drop('Blanks', axis=1)"
   ]
  },
  {
   "cell_type": "code",
   "execution_count": 140,
   "metadata": {},
   "outputs": [],
   "source": [
    "# map each category to its main sector within mappings dataframe\n",
    "mappings = mappings.melt(id_vars='category_list', var_name='main_sector')"
   ]
  },
  {
   "cell_type": "code",
   "execution_count": 141,
   "metadata": {},
   "outputs": [
    {
     "data": {
      "text/html": [
       "<div>\n",
       "<style scoped>\n",
       "    .dataframe tbody tr th:only-of-type {\n",
       "        vertical-align: middle;\n",
       "    }\n",
       "\n",
       "    .dataframe tbody tr th {\n",
       "        vertical-align: top;\n",
       "    }\n",
       "\n",
       "    .dataframe thead th {\n",
       "        text-align: right;\n",
       "    }\n",
       "</style>\n",
       "<table border=\"1\" class=\"dataframe\">\n",
       "  <thead>\n",
       "    <tr style=\"text-align: right;\">\n",
       "      <th></th>\n",
       "      <th>category_list</th>\n",
       "      <th>main_sector</th>\n",
       "    </tr>\n",
       "  </thead>\n",
       "  <tbody>\n",
       "    <tr>\n",
       "      <th>8</th>\n",
       "      <td>Adventure Travel</td>\n",
       "      <td>Automotive &amp; Sports</td>\n",
       "    </tr>\n",
       "    <tr>\n",
       "      <th>14</th>\n",
       "      <td>Aerospace</td>\n",
       "      <td>Automotive &amp; Sports</td>\n",
       "    </tr>\n",
       "    <tr>\n",
       "      <th>45</th>\n",
       "      <td>Auto</td>\n",
       "      <td>Automotive &amp; Sports</td>\n",
       "    </tr>\n",
       "    <tr>\n",
       "      <th>46</th>\n",
       "      <td>Automated Kiosk</td>\n",
       "      <td>Automotive &amp; Sports</td>\n",
       "    </tr>\n",
       "    <tr>\n",
       "      <th>47</th>\n",
       "      <td>Automotive</td>\n",
       "      <td>Automotive &amp; Sports</td>\n",
       "    </tr>\n",
       "  </tbody>\n",
       "</table>\n",
       "</div>"
      ],
      "text/plain": [
       "       category_list          main_sector\n",
       "8   Adventure Travel  Automotive & Sports\n",
       "14         Aerospace  Automotive & Sports\n",
       "45              Auto  Automotive & Sports\n",
       "46   Automated Kiosk  Automotive & Sports\n",
       "47        Automotive  Automotive & Sports"
      ]
     },
     "execution_count": 141,
     "metadata": {},
     "output_type": "execute_result"
    }
   ],
   "source": [
    "mappings = mappings[mappings['value'] != 0]\n",
    "mappings = mappings.drop('value', axis=1)\n",
    "mappings.head()"
   ]
  },
  {
   "cell_type": "code",
   "execution_count": 142,
   "metadata": {},
   "outputs": [
    {
     "data": {
      "text/plain": [
       "Others                                     195\n",
       "Social, Finance, Analytics, Advertising    153\n",
       "Entertainment                               89\n",
       "News, Search and Messaging                  72\n",
       "Health                                      63\n",
       "Cleantech / Semiconductors                  53\n",
       "Manufacturing                               40\n",
       "Automotive & Sports                         22\n",
       "Name: main_sector, dtype: int64"
      ]
     },
     "execution_count": 142,
     "metadata": {},
     "output_type": "execute_result"
    }
   ],
   "source": [
    "mappings['main_sector'].value_counts()"
   ]
  },
  {
   "cell_type": "code",
   "execution_count": 143,
   "metadata": {},
   "outputs": [
    {
     "data": {
      "text/html": [
       "<div>\n",
       "<style scoped>\n",
       "    .dataframe tbody tr th:only-of-type {\n",
       "        vertical-align: middle;\n",
       "    }\n",
       "\n",
       "    .dataframe tbody tr th {\n",
       "        vertical-align: top;\n",
       "    }\n",
       "\n",
       "    .dataframe thead th {\n",
       "        text-align: right;\n",
       "    }\n",
       "</style>\n",
       "<table border=\"1\" class=\"dataframe\">\n",
       "  <thead>\n",
       "    <tr style=\"text-align: right;\">\n",
       "      <th></th>\n",
       "      <th>permalink</th>\n",
       "      <th>name</th>\n",
       "      <th>category_list_x</th>\n",
       "      <th>status</th>\n",
       "      <th>country_code</th>\n",
       "      <th>city</th>\n",
       "      <th>company_permalink</th>\n",
       "      <th>funding_round_type</th>\n",
       "      <th>funding_round_code</th>\n",
       "      <th>raised_amount_usd</th>\n",
       "      <th>country</th>\n",
       "      <th>primary_sector</th>\n",
       "      <th>category_list_y</th>\n",
       "      <th>main_sector</th>\n",
       "    </tr>\n",
       "  </thead>\n",
       "  <tbody>\n",
       "    <tr>\n",
       "      <th>0</th>\n",
       "      <td>/organization/-fame</td>\n",
       "      <td>#fame</td>\n",
       "      <td>Media</td>\n",
       "      <td>operating</td>\n",
       "      <td>IND</td>\n",
       "      <td>Mumbai</td>\n",
       "      <td>/organization/-fame</td>\n",
       "      <td>venture</td>\n",
       "      <td>B</td>\n",
       "      <td>10000000.0</td>\n",
       "      <td>India</td>\n",
       "      <td>Media</td>\n",
       "      <td>Media</td>\n",
       "      <td>Entertainment</td>\n",
       "    </tr>\n",
       "    <tr>\n",
       "      <th>1</th>\n",
       "      <td>/organization/21diamonds-india</td>\n",
       "      <td>21Diamonds</td>\n",
       "      <td>E-Commerce</td>\n",
       "      <td>operating</td>\n",
       "      <td>IND</td>\n",
       "      <td>Gurgaon</td>\n",
       "      <td>/organization/21diamonds-india</td>\n",
       "      <td>venture</td>\n",
       "      <td>C</td>\n",
       "      <td>6369507.0</td>\n",
       "      <td>India</td>\n",
       "      <td>E-Commerce</td>\n",
       "      <td>E-Commerce</td>\n",
       "      <td>Others</td>\n",
       "    </tr>\n",
       "    <tr>\n",
       "      <th>2</th>\n",
       "      <td>/organization/247-learning-private</td>\n",
       "      <td>24x7 Learning</td>\n",
       "      <td>EdTech|Education|Systems</td>\n",
       "      <td>operating</td>\n",
       "      <td>IND</td>\n",
       "      <td>Bangalore</td>\n",
       "      <td>/organization/247-learning-private</td>\n",
       "      <td>venture</td>\n",
       "      <td>NaN</td>\n",
       "      <td>4000000.0</td>\n",
       "      <td>India</td>\n",
       "      <td>EdTech</td>\n",
       "      <td>EdTech</td>\n",
       "      <td>Others</td>\n",
       "    </tr>\n",
       "    <tr>\n",
       "      <th>3</th>\n",
       "      <td>/organization/3dsoc</td>\n",
       "      <td>3DSoC</td>\n",
       "      <td>3D|Mobile</td>\n",
       "      <td>operating</td>\n",
       "      <td>IND</td>\n",
       "      <td>Bangalore</td>\n",
       "      <td>/organization/3dsoc</td>\n",
       "      <td>venture</td>\n",
       "      <td>A</td>\n",
       "      <td>1240000.0</td>\n",
       "      <td>India</td>\n",
       "      <td>3D</td>\n",
       "      <td>3D</td>\n",
       "      <td>Manufacturing</td>\n",
       "    </tr>\n",
       "    <tr>\n",
       "      <th>4</th>\n",
       "      <td>/organization/3dsoc</td>\n",
       "      <td>3DSoC</td>\n",
       "      <td>3D|Mobile</td>\n",
       "      <td>operating</td>\n",
       "      <td>IND</td>\n",
       "      <td>Bangalore</td>\n",
       "      <td>/organization/3dsoc</td>\n",
       "      <td>venture</td>\n",
       "      <td>B</td>\n",
       "      <td>825000.0</td>\n",
       "      <td>India</td>\n",
       "      <td>3D</td>\n",
       "      <td>3D</td>\n",
       "      <td>Manufacturing</td>\n",
       "    </tr>\n",
       "  </tbody>\n",
       "</table>\n",
       "</div>"
      ],
      "text/plain": [
       "                            permalink           name  \\\n",
       "0                 /organization/-fame          #fame   \n",
       "1      /organization/21diamonds-india     21Diamonds   \n",
       "2  /organization/247-learning-private  24x7 Learning   \n",
       "3                 /organization/3dsoc          3DSoC   \n",
       "4                 /organization/3dsoc          3DSoC   \n",
       "\n",
       "            category_list_x     status country_code       city  \\\n",
       "0                     Media  operating          IND     Mumbai   \n",
       "1                E-Commerce  operating          IND    Gurgaon   \n",
       "2  EdTech|Education|Systems  operating          IND  Bangalore   \n",
       "3                 3D|Mobile  operating          IND  Bangalore   \n",
       "4                 3D|Mobile  operating          IND  Bangalore   \n",
       "\n",
       "                    company_permalink funding_round_type funding_round_code  \\\n",
       "0                 /organization/-fame            venture                  B   \n",
       "1      /organization/21diamonds-india            venture                  C   \n",
       "2  /organization/247-learning-private            venture                NaN   \n",
       "3                 /organization/3dsoc            venture                  A   \n",
       "4                 /organization/3dsoc            venture                  B   \n",
       "\n",
       "   raised_amount_usd country primary_sector category_list_y    main_sector  \n",
       "0         10000000.0   India          Media           Media  Entertainment  \n",
       "1          6369507.0   India     E-Commerce      E-Commerce         Others  \n",
       "2          4000000.0   India         EdTech          EdTech         Others  \n",
       "3          1240000.0   India             3D              3D  Manufacturing  \n",
       "4           825000.0   India             3D              3D  Manufacturing  "
      ]
     },
     "execution_count": 143,
     "metadata": {},
     "output_type": "execute_result"
    }
   ],
   "source": [
    "# merging to map each primary sector to its main sector\n",
    "master_frame = pd.merge(master_frame, mappings, left_on='primary_sector', right_on='category_list', how='left')\n",
    "master_frame.head()"
   ]
  },
  {
   "cell_type": "code",
   "execution_count": 144,
   "metadata": {},
   "outputs": [],
   "source": [
    "# dropping category_list_x and category_list_y as these are redundant since we already have primary_sector\n",
    "master_frame.drop(['category_list_x', 'category_list_y'], axis=1, inplace=True)"
   ]
  },
  {
   "cell_type": "code",
   "execution_count": 145,
   "metadata": {},
   "outputs": [
    {
     "data": {
      "text/plain": [
       "(39018, 12)"
      ]
     },
     "execution_count": 145,
     "metadata": {},
     "output_type": "execute_result"
    }
   ],
   "source": [
    "master_frame.shape"
   ]
  },
  {
   "cell_type": "code",
   "execution_count": 146,
   "metadata": {},
   "outputs": [
    {
     "data": {
      "text/html": [
       "<div>\n",
       "<style scoped>\n",
       "    .dataframe tbody tr th:only-of-type {\n",
       "        vertical-align: middle;\n",
       "    }\n",
       "\n",
       "    .dataframe tbody tr th {\n",
       "        vertical-align: top;\n",
       "    }\n",
       "\n",
       "    .dataframe thead th {\n",
       "        text-align: right;\n",
       "    }\n",
       "</style>\n",
       "<table border=\"1\" class=\"dataframe\">\n",
       "  <thead>\n",
       "    <tr style=\"text-align: right;\">\n",
       "      <th></th>\n",
       "      <th>permalink</th>\n",
       "      <th>name</th>\n",
       "      <th>status</th>\n",
       "      <th>country_code</th>\n",
       "      <th>city</th>\n",
       "      <th>company_permalink</th>\n",
       "      <th>funding_round_type</th>\n",
       "      <th>funding_round_code</th>\n",
       "      <th>raised_amount_usd</th>\n",
       "      <th>country</th>\n",
       "      <th>primary_sector</th>\n",
       "      <th>main_sector</th>\n",
       "    </tr>\n",
       "  </thead>\n",
       "  <tbody>\n",
       "    <tr>\n",
       "      <th>0</th>\n",
       "      <td>/organization/-fame</td>\n",
       "      <td>#fame</td>\n",
       "      <td>operating</td>\n",
       "      <td>IND</td>\n",
       "      <td>Mumbai</td>\n",
       "      <td>/organization/-fame</td>\n",
       "      <td>venture</td>\n",
       "      <td>B</td>\n",
       "      <td>10000000.0</td>\n",
       "      <td>India</td>\n",
       "      <td>Media</td>\n",
       "      <td>Entertainment</td>\n",
       "    </tr>\n",
       "    <tr>\n",
       "      <th>1</th>\n",
       "      <td>/organization/21diamonds-india</td>\n",
       "      <td>21Diamonds</td>\n",
       "      <td>operating</td>\n",
       "      <td>IND</td>\n",
       "      <td>Gurgaon</td>\n",
       "      <td>/organization/21diamonds-india</td>\n",
       "      <td>venture</td>\n",
       "      <td>C</td>\n",
       "      <td>6369507.0</td>\n",
       "      <td>India</td>\n",
       "      <td>E-Commerce</td>\n",
       "      <td>Others</td>\n",
       "    </tr>\n",
       "    <tr>\n",
       "      <th>2</th>\n",
       "      <td>/organization/247-learning-private</td>\n",
       "      <td>24x7 Learning</td>\n",
       "      <td>operating</td>\n",
       "      <td>IND</td>\n",
       "      <td>Bangalore</td>\n",
       "      <td>/organization/247-learning-private</td>\n",
       "      <td>venture</td>\n",
       "      <td>NaN</td>\n",
       "      <td>4000000.0</td>\n",
       "      <td>India</td>\n",
       "      <td>EdTech</td>\n",
       "      <td>Others</td>\n",
       "    </tr>\n",
       "    <tr>\n",
       "      <th>3</th>\n",
       "      <td>/organization/3dsoc</td>\n",
       "      <td>3DSoC</td>\n",
       "      <td>operating</td>\n",
       "      <td>IND</td>\n",
       "      <td>Bangalore</td>\n",
       "      <td>/organization/3dsoc</td>\n",
       "      <td>venture</td>\n",
       "      <td>A</td>\n",
       "      <td>1240000.0</td>\n",
       "      <td>India</td>\n",
       "      <td>3D</td>\n",
       "      <td>Manufacturing</td>\n",
       "    </tr>\n",
       "    <tr>\n",
       "      <th>4</th>\n",
       "      <td>/organization/3dsoc</td>\n",
       "      <td>3DSoC</td>\n",
       "      <td>operating</td>\n",
       "      <td>IND</td>\n",
       "      <td>Bangalore</td>\n",
       "      <td>/organization/3dsoc</td>\n",
       "      <td>venture</td>\n",
       "      <td>B</td>\n",
       "      <td>825000.0</td>\n",
       "      <td>India</td>\n",
       "      <td>3D</td>\n",
       "      <td>Manufacturing</td>\n",
       "    </tr>\n",
       "  </tbody>\n",
       "</table>\n",
       "</div>"
      ],
      "text/plain": [
       "                            permalink           name     status country_code  \\\n",
       "0                 /organization/-fame          #fame  operating          IND   \n",
       "1      /organization/21diamonds-india     21Diamonds  operating          IND   \n",
       "2  /organization/247-learning-private  24x7 Learning  operating          IND   \n",
       "3                 /organization/3dsoc          3DSoC  operating          IND   \n",
       "4                 /organization/3dsoc          3DSoC  operating          IND   \n",
       "\n",
       "        city                   company_permalink funding_round_type  \\\n",
       "0     Mumbai                 /organization/-fame            venture   \n",
       "1    Gurgaon      /organization/21diamonds-india            venture   \n",
       "2  Bangalore  /organization/247-learning-private            venture   \n",
       "3  Bangalore                 /organization/3dsoc            venture   \n",
       "4  Bangalore                 /organization/3dsoc            venture   \n",
       "\n",
       "  funding_round_code  raised_amount_usd country primary_sector    main_sector  \n",
       "0                  B         10000000.0   India          Media  Entertainment  \n",
       "1                  C          6369507.0   India     E-Commerce         Others  \n",
       "2                NaN          4000000.0   India         EdTech         Others  \n",
       "3                  A          1240000.0   India             3D  Manufacturing  \n",
       "4                  B           825000.0   India             3D  Manufacturing  "
      ]
     },
     "execution_count": 146,
     "metadata": {},
     "output_type": "execute_result"
    }
   ],
   "source": [
    "master_frame.head()"
   ]
  },
  {
   "cell_type": "code",
   "execution_count": 147,
   "metadata": {},
   "outputs": [
    {
     "data": {
      "text/plain": [
       "8"
      ]
     },
     "execution_count": 147,
     "metadata": {},
     "output_type": "execute_result"
    }
   ],
   "source": [
    "# revalidating that we are having 8 main sectors\n",
    "master_frame['main_sector'].nunique()"
   ]
  },
  {
   "cell_type": "markdown",
   "metadata": {},
   "source": [
    "***\n",
    "As of now we have a dataframe __`master_frame`__, with data of top 3 countries with the highest investments received in venture category. The ___`primary sector (primary_sector)`___ has been mapped to its ___`main sector (main_sector)`___.\n",
    "***"
   ]
  },
  {
   "cell_type": "markdown",
   "metadata": {},
   "source": [
    "## <center>Checkpoint 5: Sector Analysis 2</center>\n",
    "The aim is to find out the most heavily invested main sectors in each of the three countries (for funding type `Venture` and investments range of `5-15 M USD`). <br>\n",
    "Before proceeding with new dataframes creation, we need to identify null values and clean up if present."
   ]
  },
  {
   "cell_type": "code",
   "execution_count": 148,
   "metadata": {},
   "outputs": [
    {
     "data": {
      "text/plain": [
       "array(['nan', 'Nanotechnology', 'Natural Gas Uses',\n",
       "       'Natural Language Processing', 'Adaptive Equipment',\n",
       "       'Specialty Retail', 'Biotechnology and Semiconductor',\n",
       "       'Rapidly Expanding', 'Navigation', 'Product Search', 'GreenTech',\n",
       "       'Retirement', 'Racing'], dtype=object)"
      ]
     },
     "execution_count": 148,
     "metadata": {},
     "output_type": "execute_result"
    }
   ],
   "source": [
    "# identifying the primary sectors with no mapping to main sectors\n",
    "master_frame[master_frame['main_sector'].isnull()].primary_sector.unique()"
   ]
  },
  {
   "cell_type": "code",
   "execution_count": 149,
   "metadata": {},
   "outputs": [
    {
     "data": {
      "text/plain": [
       "(38642, 12)"
      ]
     },
     "execution_count": 149,
     "metadata": {},
     "output_type": "execute_result"
    }
   ],
   "source": [
    "# removing null values from master frame for main sector column\n",
    "master_frame = master_frame[master_frame['main_sector'].notnull()]\n",
    "master_frame.shape"
   ]
  },
  {
   "cell_type": "code",
   "execution_count": 150,
   "metadata": {},
   "outputs": [
    {
     "data": {
      "text/plain": [
       "0"
      ]
     },
     "execution_count": 150,
     "metadata": {},
     "output_type": "execute_result"
    }
   ],
   "source": [
    "# validatig presence of null values\n",
    "master_frame['main_sector'].isnull().sum()"
   ]
  },
  {
   "cell_type": "markdown",
   "metadata": {},
   "source": [
    "Creating `DataFrame 'D1'` for country __USA__ within investment range of __5-15M__ for __venture__ type."
   ]
  },
  {
   "cell_type": "code",
   "execution_count": 151,
   "metadata": {},
   "outputs": [
    {
     "data": {
      "text/plain": [
       "(12012, 12)"
      ]
     },
     "execution_count": 151,
     "metadata": {},
     "output_type": "execute_result"
    }
   ],
   "source": [
    "D1 = master_frame[(master_frame['country_code'] == 'USA') & (master_frame['raised_amount_usd'] >= 5_000_000) & \n",
    "    (master_frame['raised_amount_usd'] <= 15_000_000)]\n",
    "D1.shape"
   ]
  },
  {
   "cell_type": "markdown",
   "metadata": {},
   "source": [
    "Creating `DataFrame 'D2'` for country __GBR__ within investment range of __5-15M__ for __venture__ type."
   ]
  },
  {
   "cell_type": "code",
   "execution_count": 152,
   "metadata": {},
   "outputs": [
    {
     "data": {
      "text/plain": [
       "(619, 12)"
      ]
     },
     "execution_count": 152,
     "metadata": {},
     "output_type": "execute_result"
    }
   ],
   "source": [
    "D2 = master_frame[(master_frame['country_code'] == 'GBR') & (master_frame['raised_amount_usd']>= 5_000_000) & (master_frame['raised_amount_usd']<= 15_000_000)]\n",
    "D2.shape"
   ]
  },
  {
   "cell_type": "markdown",
   "metadata": {},
   "source": [
    "Creating `DataFrame 'D1'` for country __IND__ within investment range of __5-15M__ for __venture__ type."
   ]
  },
  {
   "cell_type": "code",
   "execution_count": 153,
   "metadata": {},
   "outputs": [
    {
     "data": {
      "text/plain": [
       "(328, 12)"
      ]
     },
     "execution_count": 153,
     "metadata": {},
     "output_type": "execute_result"
    }
   ],
   "source": [
    "D3 = master_frame[(master_frame['country_code'] == 'IND') & (master_frame['raised_amount_usd']>= 5_000_000) & (master_frame['raised_amount_usd']<= 15_000_000)]\n",
    "D3.shape"
   ]
  },
  {
   "cell_type": "markdown",
   "metadata": {},
   "source": [
    "Identifying the highest count of investments and total investments received for __USA__ - sector wise"
   ]
  },
  {
   "cell_type": "code",
   "execution_count": 154,
   "metadata": {},
   "outputs": [
    {
     "data": {
      "text/html": [
       "<div>\n",
       "<style scoped>\n",
       "    .dataframe tbody tr th:only-of-type {\n",
       "        vertical-align: middle;\n",
       "    }\n",
       "\n",
       "    .dataframe tbody tr th {\n",
       "        vertical-align: top;\n",
       "    }\n",
       "\n",
       "    .dataframe thead th {\n",
       "        text-align: right;\n",
       "    }\n",
       "</style>\n",
       "<table border=\"1\" class=\"dataframe\">\n",
       "  <thead>\n",
       "    <tr style=\"text-align: right;\">\n",
       "      <th></th>\n",
       "      <th>investment_count</th>\n",
       "      <th>total_investment</th>\n",
       "    </tr>\n",
       "    <tr>\n",
       "      <th>main_sector</th>\n",
       "      <th></th>\n",
       "      <th></th>\n",
       "    </tr>\n",
       "  </thead>\n",
       "  <tbody>\n",
       "    <tr>\n",
       "      <th>Automotive &amp; Sports</th>\n",
       "      <td>167</td>\n",
       "      <td>1.454104e+09</td>\n",
       "    </tr>\n",
       "    <tr>\n",
       "      <th>Cleantech / Semiconductors</th>\n",
       "      <td>2300</td>\n",
       "      <td>2.120663e+10</td>\n",
       "    </tr>\n",
       "    <tr>\n",
       "      <th>Entertainment</th>\n",
       "      <td>591</td>\n",
       "      <td>5.099198e+09</td>\n",
       "    </tr>\n",
       "    <tr>\n",
       "      <th>Health</th>\n",
       "      <td>909</td>\n",
       "      <td>8.211859e+09</td>\n",
       "    </tr>\n",
       "    <tr>\n",
       "      <th>Manufacturing</th>\n",
       "      <td>799</td>\n",
       "      <td>7.258553e+09</td>\n",
       "    </tr>\n",
       "    <tr>\n",
       "      <th>News, Search and Messaging</th>\n",
       "      <td>1582</td>\n",
       "      <td>1.395957e+10</td>\n",
       "    </tr>\n",
       "    <tr>\n",
       "      <th>Others</th>\n",
       "      <td>2950</td>\n",
       "      <td>2.632101e+10</td>\n",
       "    </tr>\n",
       "    <tr>\n",
       "      <th>Social, Finance, Analytics, Advertising</th>\n",
       "      <td>2714</td>\n",
       "      <td>2.380738e+10</td>\n",
       "    </tr>\n",
       "  </tbody>\n",
       "</table>\n",
       "</div>"
      ],
      "text/plain": [
       "                                         investment_count  total_investment\n",
       "main_sector                                                                \n",
       "Automotive & Sports                                   167      1.454104e+09\n",
       "Cleantech / Semiconductors                           2300      2.120663e+10\n",
       "Entertainment                                         591      5.099198e+09\n",
       "Health                                                909      8.211859e+09\n",
       "Manufacturing                                         799      7.258553e+09\n",
       "News, Search and Messaging                           1582      1.395957e+10\n",
       "Others                                               2950      2.632101e+10\n",
       "Social, Finance, Analytics, Advertising              2714      2.380738e+10"
      ]
     },
     "execution_count": 154,
     "metadata": {},
     "output_type": "execute_result"
    }
   ],
   "source": [
    "# getting the total sum and count of investments made in USA - sector wise\n",
    "D1_investment_count_sum = D1[['raised_amount_usd','main_sector']].pivot_table(\n",
    "    index='main_sector', aggfunc={'raised_amount_usd': np.sum, 'main_sector': np.count_nonzero}\n",
    ").rename(columns={'main_sector': 'investment_count', 'raised_amount_usd': 'total_investment'})\n",
    "D1_investment_count_sum"
   ]
  },
  {
   "cell_type": "code",
   "execution_count": 155,
   "metadata": {},
   "outputs": [
    {
     "data": {
      "text/html": [
       "<div>\n",
       "<style scoped>\n",
       "    .dataframe tbody tr th:only-of-type {\n",
       "        vertical-align: middle;\n",
       "    }\n",
       "\n",
       "    .dataframe tbody tr th {\n",
       "        vertical-align: top;\n",
       "    }\n",
       "\n",
       "    .dataframe thead th {\n",
       "        text-align: right;\n",
       "    }\n",
       "</style>\n",
       "<table border=\"1\" class=\"dataframe\">\n",
       "  <thead>\n",
       "    <tr style=\"text-align: right;\">\n",
       "      <th></th>\n",
       "      <th>permalink</th>\n",
       "      <th>name</th>\n",
       "      <th>status</th>\n",
       "      <th>country_code</th>\n",
       "      <th>city</th>\n",
       "      <th>company_permalink</th>\n",
       "      <th>funding_round_type</th>\n",
       "      <th>funding_round_code</th>\n",
       "      <th>raised_amount_usd</th>\n",
       "      <th>country</th>\n",
       "      <th>primary_sector</th>\n",
       "      <th>main_sector</th>\n",
       "      <th>investment_count</th>\n",
       "      <th>total_investment</th>\n",
       "    </tr>\n",
       "  </thead>\n",
       "  <tbody>\n",
       "    <tr>\n",
       "      <th>0</th>\n",
       "      <td>/organization/0xdata</td>\n",
       "      <td>H2O.ai</td>\n",
       "      <td>operating</td>\n",
       "      <td>USA</td>\n",
       "      <td>Mountain View</td>\n",
       "      <td>/organization/0xdata</td>\n",
       "      <td>venture</td>\n",
       "      <td>A</td>\n",
       "      <td>8900000.0</td>\n",
       "      <td>United States</td>\n",
       "      <td>Analytics</td>\n",
       "      <td>Social, Finance, Analytics, Advertising</td>\n",
       "      <td>2714</td>\n",
       "      <td>2.380738e+10</td>\n",
       "    </tr>\n",
       "    <tr>\n",
       "      <th>1</th>\n",
       "      <td>/organization/1-mainstream</td>\n",
       "      <td>1 Mainstream</td>\n",
       "      <td>acquired</td>\n",
       "      <td>USA</td>\n",
       "      <td>Cupertino</td>\n",
       "      <td>/organization/1-mainstream</td>\n",
       "      <td>venture</td>\n",
       "      <td>NaN</td>\n",
       "      <td>5000000.0</td>\n",
       "      <td>United States</td>\n",
       "      <td>Apps</td>\n",
       "      <td>News, Search and Messaging</td>\n",
       "      <td>1582</td>\n",
       "      <td>1.395957e+10</td>\n",
       "    </tr>\n",
       "    <tr>\n",
       "      <th>2</th>\n",
       "      <td>/organization/128-technology</td>\n",
       "      <td>128 Technology</td>\n",
       "      <td>operating</td>\n",
       "      <td>USA</td>\n",
       "      <td>Burlington</td>\n",
       "      <td>/organization/128-technology</td>\n",
       "      <td>venture</td>\n",
       "      <td>NaN</td>\n",
       "      <td>11999347.0</td>\n",
       "      <td>United States</td>\n",
       "      <td>Service Providers</td>\n",
       "      <td>Others</td>\n",
       "      <td>2950</td>\n",
       "      <td>2.632101e+10</td>\n",
       "    </tr>\n",
       "    <tr>\n",
       "      <th>3</th>\n",
       "      <td>/organization/1366-technologies</td>\n",
       "      <td>1366 Technologies</td>\n",
       "      <td>operating</td>\n",
       "      <td>USA</td>\n",
       "      <td>Bedford</td>\n",
       "      <td>/organization/1366-technologies</td>\n",
       "      <td>venture</td>\n",
       "      <td>C</td>\n",
       "      <td>15000000.0</td>\n",
       "      <td>United States</td>\n",
       "      <td>Manufacturing</td>\n",
       "      <td>Manufacturing</td>\n",
       "      <td>799</td>\n",
       "      <td>7.258553e+09</td>\n",
       "    </tr>\n",
       "    <tr>\n",
       "      <th>4</th>\n",
       "      <td>/organization/1366-technologies</td>\n",
       "      <td>1366 Technologies</td>\n",
       "      <td>operating</td>\n",
       "      <td>USA</td>\n",
       "      <td>Bedford</td>\n",
       "      <td>/organization/1366-technologies</td>\n",
       "      <td>venture</td>\n",
       "      <td>C</td>\n",
       "      <td>5000000.0</td>\n",
       "      <td>United States</td>\n",
       "      <td>Manufacturing</td>\n",
       "      <td>Manufacturing</td>\n",
       "      <td>799</td>\n",
       "      <td>7.258553e+09</td>\n",
       "    </tr>\n",
       "  </tbody>\n",
       "</table>\n",
       "</div>"
      ],
      "text/plain": [
       "                         permalink               name     status country_code  \\\n",
       "0             /organization/0xdata             H2O.ai  operating          USA   \n",
       "1       /organization/1-mainstream       1 Mainstream   acquired          USA   \n",
       "2     /organization/128-technology     128 Technology  operating          USA   \n",
       "3  /organization/1366-technologies  1366 Technologies  operating          USA   \n",
       "4  /organization/1366-technologies  1366 Technologies  operating          USA   \n",
       "\n",
       "            city                company_permalink funding_round_type  \\\n",
       "0  Mountain View             /organization/0xdata            venture   \n",
       "1      Cupertino       /organization/1-mainstream            venture   \n",
       "2     Burlington     /organization/128-technology            venture   \n",
       "3        Bedford  /organization/1366-technologies            venture   \n",
       "4        Bedford  /organization/1366-technologies            venture   \n",
       "\n",
       "  funding_round_code  raised_amount_usd         country     primary_sector  \\\n",
       "0                  A          8900000.0   United States          Analytics   \n",
       "1                NaN          5000000.0   United States               Apps   \n",
       "2                NaN         11999347.0   United States  Service Providers   \n",
       "3                  C         15000000.0   United States      Manufacturing   \n",
       "4                  C          5000000.0   United States      Manufacturing   \n",
       "\n",
       "                               main_sector  investment_count  total_investment  \n",
       "0  Social, Finance, Analytics, Advertising              2714      2.380738e+10  \n",
       "1               News, Search and Messaging              1582      1.395957e+10  \n",
       "2                                   Others              2950      2.632101e+10  \n",
       "3                            Manufacturing               799      7.258553e+09  \n",
       "4                            Manufacturing               799      7.258553e+09  "
      ]
     },
     "execution_count": 155,
     "metadata": {},
     "output_type": "execute_result"
    }
   ],
   "source": [
    "# merging to D1 to get the count and total investment as a seperate column\n",
    "D1 = D1.merge(D1_investment_count_sum, on='main_sector', how='left')\n",
    "D1.head()"
   ]
  },
  {
   "cell_type": "markdown",
   "metadata": {},
   "source": [
    "Identifying the highest count of investments and total investments received for __GBR__ - sector wise"
   ]
  },
  {
   "cell_type": "code",
   "execution_count": 156,
   "metadata": {},
   "outputs": [
    {
     "data": {
      "text/html": [
       "<div>\n",
       "<style scoped>\n",
       "    .dataframe tbody tr th:only-of-type {\n",
       "        vertical-align: middle;\n",
       "    }\n",
       "\n",
       "    .dataframe tbody tr th {\n",
       "        vertical-align: top;\n",
       "    }\n",
       "\n",
       "    .dataframe thead th {\n",
       "        text-align: right;\n",
       "    }\n",
       "</style>\n",
       "<table border=\"1\" class=\"dataframe\">\n",
       "  <thead>\n",
       "    <tr style=\"text-align: right;\">\n",
       "      <th></th>\n",
       "      <th>investment_count</th>\n",
       "      <th>total_investment</th>\n",
       "    </tr>\n",
       "    <tr>\n",
       "      <th>main_sector</th>\n",
       "      <th></th>\n",
       "      <th></th>\n",
       "    </tr>\n",
       "  </thead>\n",
       "  <tbody>\n",
       "    <tr>\n",
       "      <th>Automotive &amp; Sports</th>\n",
       "      <td>16</td>\n",
       "      <td>1.670516e+08</td>\n",
       "    </tr>\n",
       "    <tr>\n",
       "      <th>Cleantech / Semiconductors</th>\n",
       "      <td>128</td>\n",
       "      <td>1.150140e+09</td>\n",
       "    </tr>\n",
       "    <tr>\n",
       "      <th>Entertainment</th>\n",
       "      <td>56</td>\n",
       "      <td>4.827847e+08</td>\n",
       "    </tr>\n",
       "    <tr>\n",
       "      <th>Health</th>\n",
       "      <td>24</td>\n",
       "      <td>2.145375e+08</td>\n",
       "    </tr>\n",
       "    <tr>\n",
       "      <th>Manufacturing</th>\n",
       "      <td>42</td>\n",
       "      <td>3.619403e+08</td>\n",
       "    </tr>\n",
       "    <tr>\n",
       "      <th>News, Search and Messaging</th>\n",
       "      <td>73</td>\n",
       "      <td>6.157462e+08</td>\n",
       "    </tr>\n",
       "    <tr>\n",
       "      <th>Others</th>\n",
       "      <td>147</td>\n",
       "      <td>1.283624e+09</td>\n",
       "    </tr>\n",
       "    <tr>\n",
       "      <th>Social, Finance, Analytics, Advertising</th>\n",
       "      <td>133</td>\n",
       "      <td>1.089404e+09</td>\n",
       "    </tr>\n",
       "  </tbody>\n",
       "</table>\n",
       "</div>"
      ],
      "text/plain": [
       "                                         investment_count  total_investment\n",
       "main_sector                                                                \n",
       "Automotive & Sports                                    16      1.670516e+08\n",
       "Cleantech / Semiconductors                            128      1.150140e+09\n",
       "Entertainment                                          56      4.827847e+08\n",
       "Health                                                 24      2.145375e+08\n",
       "Manufacturing                                          42      3.619403e+08\n",
       "News, Search and Messaging                             73      6.157462e+08\n",
       "Others                                                147      1.283624e+09\n",
       "Social, Finance, Analytics, Advertising               133      1.089404e+09"
      ]
     },
     "execution_count": 156,
     "metadata": {},
     "output_type": "execute_result"
    }
   ],
   "source": [
    "# getting the total sum and count of investments made in GBR - sector wise\n",
    "D2_investment_count_sum = D2[['raised_amount_usd','main_sector']].pivot_table(\n",
    "    index='main_sector', aggfunc={'raised_amount_usd': np.sum, 'main_sector': np.count_nonzero}\n",
    ").rename(columns={'main_sector': 'investment_count', 'raised_amount_usd': 'total_investment'})\n",
    "D2_investment_count_sum"
   ]
  },
  {
   "cell_type": "code",
   "execution_count": 157,
   "metadata": {},
   "outputs": [
    {
     "data": {
      "text/html": [
       "<div>\n",
       "<style scoped>\n",
       "    .dataframe tbody tr th:only-of-type {\n",
       "        vertical-align: middle;\n",
       "    }\n",
       "\n",
       "    .dataframe tbody tr th {\n",
       "        vertical-align: top;\n",
       "    }\n",
       "\n",
       "    .dataframe thead th {\n",
       "        text-align: right;\n",
       "    }\n",
       "</style>\n",
       "<table border=\"1\" class=\"dataframe\">\n",
       "  <thead>\n",
       "    <tr style=\"text-align: right;\">\n",
       "      <th></th>\n",
       "      <th>permalink</th>\n",
       "      <th>name</th>\n",
       "      <th>status</th>\n",
       "      <th>country_code</th>\n",
       "      <th>city</th>\n",
       "      <th>company_permalink</th>\n",
       "      <th>funding_round_type</th>\n",
       "      <th>funding_round_code</th>\n",
       "      <th>raised_amount_usd</th>\n",
       "      <th>country</th>\n",
       "      <th>primary_sector</th>\n",
       "      <th>main_sector</th>\n",
       "      <th>investment_count</th>\n",
       "      <th>total_investment</th>\n",
       "    </tr>\n",
       "  </thead>\n",
       "  <tbody>\n",
       "    <tr>\n",
       "      <th>0</th>\n",
       "      <td>/organization/365scores</td>\n",
       "      <td>365Scores</td>\n",
       "      <td>operating</td>\n",
       "      <td>GBR</td>\n",
       "      <td>London</td>\n",
       "      <td>/organization/365scores</td>\n",
       "      <td>venture</td>\n",
       "      <td>B</td>\n",
       "      <td>5500000.0</td>\n",
       "      <td>United Kingdom</td>\n",
       "      <td>Android</td>\n",
       "      <td>Social, Finance, Analytics, Advertising</td>\n",
       "      <td>133</td>\n",
       "      <td>1.089404e+09</td>\n",
       "    </tr>\n",
       "    <tr>\n",
       "      <th>1</th>\n",
       "      <td>/organization/7digital</td>\n",
       "      <td>7digital</td>\n",
       "      <td>acquired</td>\n",
       "      <td>GBR</td>\n",
       "      <td>London</td>\n",
       "      <td>/organization/7digital</td>\n",
       "      <td>venture</td>\n",
       "      <td>A</td>\n",
       "      <td>8468328.0</td>\n",
       "      <td>United Kingdom</td>\n",
       "      <td>Content Creators</td>\n",
       "      <td>Entertainment</td>\n",
       "      <td>56</td>\n",
       "      <td>4.827847e+08</td>\n",
       "    </tr>\n",
       "    <tr>\n",
       "      <th>2</th>\n",
       "      <td>/organization/7digital</td>\n",
       "      <td>7digital</td>\n",
       "      <td>acquired</td>\n",
       "      <td>GBR</td>\n",
       "      <td>London</td>\n",
       "      <td>/organization/7digital</td>\n",
       "      <td>venture</td>\n",
       "      <td>NaN</td>\n",
       "      <td>10000000.0</td>\n",
       "      <td>United Kingdom</td>\n",
       "      <td>Content Creators</td>\n",
       "      <td>Entertainment</td>\n",
       "      <td>56</td>\n",
       "      <td>4.827847e+08</td>\n",
       "    </tr>\n",
       "    <tr>\n",
       "      <th>3</th>\n",
       "      <td>/organization/90min</td>\n",
       "      <td>90min</td>\n",
       "      <td>operating</td>\n",
       "      <td>GBR</td>\n",
       "      <td>London</td>\n",
       "      <td>/organization/90min</td>\n",
       "      <td>venture</td>\n",
       "      <td>NaN</td>\n",
       "      <td>15000000.0</td>\n",
       "      <td>United Kingdom</td>\n",
       "      <td>Media</td>\n",
       "      <td>Entertainment</td>\n",
       "      <td>56</td>\n",
       "      <td>4.827847e+08</td>\n",
       "    </tr>\n",
       "    <tr>\n",
       "      <th>4</th>\n",
       "      <td>/organization/90min</td>\n",
       "      <td>90min</td>\n",
       "      <td>operating</td>\n",
       "      <td>GBR</td>\n",
       "      <td>London</td>\n",
       "      <td>/organization/90min</td>\n",
       "      <td>venture</td>\n",
       "      <td>NaN</td>\n",
       "      <td>5800000.0</td>\n",
       "      <td>United Kingdom</td>\n",
       "      <td>Media</td>\n",
       "      <td>Entertainment</td>\n",
       "      <td>56</td>\n",
       "      <td>4.827847e+08</td>\n",
       "    </tr>\n",
       "  </tbody>\n",
       "</table>\n",
       "</div>"
      ],
      "text/plain": [
       "                 permalink       name     status country_code    city  \\\n",
       "0  /organization/365scores  365Scores  operating          GBR  London   \n",
       "1   /organization/7digital   7digital   acquired          GBR  London   \n",
       "2   /organization/7digital   7digital   acquired          GBR  London   \n",
       "3      /organization/90min      90min  operating          GBR  London   \n",
       "4      /organization/90min      90min  operating          GBR  London   \n",
       "\n",
       "         company_permalink funding_round_type funding_round_code  \\\n",
       "0  /organization/365scores            venture                  B   \n",
       "1   /organization/7digital            venture                  A   \n",
       "2   /organization/7digital            venture                NaN   \n",
       "3      /organization/90min            venture                NaN   \n",
       "4      /organization/90min            venture                NaN   \n",
       "\n",
       "   raised_amount_usd          country    primary_sector  \\\n",
       "0          5500000.0   United Kingdom           Android   \n",
       "1          8468328.0   United Kingdom  Content Creators   \n",
       "2         10000000.0   United Kingdom  Content Creators   \n",
       "3         15000000.0   United Kingdom             Media   \n",
       "4          5800000.0   United Kingdom             Media   \n",
       "\n",
       "                               main_sector  investment_count  total_investment  \n",
       "0  Social, Finance, Analytics, Advertising               133      1.089404e+09  \n",
       "1                            Entertainment                56      4.827847e+08  \n",
       "2                            Entertainment                56      4.827847e+08  \n",
       "3                            Entertainment                56      4.827847e+08  \n",
       "4                            Entertainment                56      4.827847e+08  "
      ]
     },
     "execution_count": 157,
     "metadata": {},
     "output_type": "execute_result"
    }
   ],
   "source": [
    "# merging to D2 to get the count and total investment as a seperate column\n",
    "D2 = D2.merge(D2_investment_count_sum, on='main_sector', how='left')\n",
    "D2.head()"
   ]
  },
  {
   "cell_type": "markdown",
   "metadata": {},
   "source": [
    "Identifying the highest count of investments and total investments received for __IND__ - sector wise"
   ]
  },
  {
   "cell_type": "code",
   "execution_count": 158,
   "metadata": {},
   "outputs": [
    {
     "data": {
      "text/html": [
       "<div>\n",
       "<style scoped>\n",
       "    .dataframe tbody tr th:only-of-type {\n",
       "        vertical-align: middle;\n",
       "    }\n",
       "\n",
       "    .dataframe tbody tr th {\n",
       "        vertical-align: top;\n",
       "    }\n",
       "\n",
       "    .dataframe thead th {\n",
       "        text-align: right;\n",
       "    }\n",
       "</style>\n",
       "<table border=\"1\" class=\"dataframe\">\n",
       "  <thead>\n",
       "    <tr style=\"text-align: right;\">\n",
       "      <th></th>\n",
       "      <th>investment_count</th>\n",
       "      <th>total_investment</th>\n",
       "    </tr>\n",
       "    <tr>\n",
       "      <th>main_sector</th>\n",
       "      <th></th>\n",
       "      <th></th>\n",
       "    </tr>\n",
       "  </thead>\n",
       "  <tbody>\n",
       "    <tr>\n",
       "      <th>Automotive &amp; Sports</th>\n",
       "      <td>13</td>\n",
       "      <td>1.369000e+08</td>\n",
       "    </tr>\n",
       "    <tr>\n",
       "      <th>Cleantech / Semiconductors</th>\n",
       "      <td>20</td>\n",
       "      <td>1.653800e+08</td>\n",
       "    </tr>\n",
       "    <tr>\n",
       "      <th>Entertainment</th>\n",
       "      <td>33</td>\n",
       "      <td>2.808300e+08</td>\n",
       "    </tr>\n",
       "    <tr>\n",
       "      <th>Health</th>\n",
       "      <td>19</td>\n",
       "      <td>1.677400e+08</td>\n",
       "    </tr>\n",
       "    <tr>\n",
       "      <th>Manufacturing</th>\n",
       "      <td>21</td>\n",
       "      <td>2.009000e+08</td>\n",
       "    </tr>\n",
       "    <tr>\n",
       "      <th>News, Search and Messaging</th>\n",
       "      <td>52</td>\n",
       "      <td>4.338345e+08</td>\n",
       "    </tr>\n",
       "    <tr>\n",
       "      <th>Others</th>\n",
       "      <td>110</td>\n",
       "      <td>1.013410e+09</td>\n",
       "    </tr>\n",
       "    <tr>\n",
       "      <th>Social, Finance, Analytics, Advertising</th>\n",
       "      <td>60</td>\n",
       "      <td>5.505496e+08</td>\n",
       "    </tr>\n",
       "  </tbody>\n",
       "</table>\n",
       "</div>"
      ],
      "text/plain": [
       "                                         investment_count  total_investment\n",
       "main_sector                                                                \n",
       "Automotive & Sports                                    13      1.369000e+08\n",
       "Cleantech / Semiconductors                             20      1.653800e+08\n",
       "Entertainment                                          33      2.808300e+08\n",
       "Health                                                 19      1.677400e+08\n",
       "Manufacturing                                          21      2.009000e+08\n",
       "News, Search and Messaging                             52      4.338345e+08\n",
       "Others                                                110      1.013410e+09\n",
       "Social, Finance, Analytics, Advertising                60      5.505496e+08"
      ]
     },
     "execution_count": 158,
     "metadata": {},
     "output_type": "execute_result"
    }
   ],
   "source": [
    "# getting the total sum and count of investments made in IND - sector-wise\n",
    "D3_investment_count_sum = D3[['raised_amount_usd','main_sector']].pivot_table(\n",
    "    index='main_sector', aggfunc={'raised_amount_usd': np.sum, 'main_sector': np.count_nonzero}\n",
    ").rename(columns={'main_sector': 'investment_count', 'raised_amount_usd': 'total_investment'})\n",
    "D3_investment_count_sum"
   ]
  },
  {
   "cell_type": "code",
   "execution_count": 159,
   "metadata": {},
   "outputs": [
    {
     "data": {
      "text/html": [
       "<div>\n",
       "<style scoped>\n",
       "    .dataframe tbody tr th:only-of-type {\n",
       "        vertical-align: middle;\n",
       "    }\n",
       "\n",
       "    .dataframe tbody tr th {\n",
       "        vertical-align: top;\n",
       "    }\n",
       "\n",
       "    .dataframe thead th {\n",
       "        text-align: right;\n",
       "    }\n",
       "</style>\n",
       "<table border=\"1\" class=\"dataframe\">\n",
       "  <thead>\n",
       "    <tr style=\"text-align: right;\">\n",
       "      <th></th>\n",
       "      <th>permalink</th>\n",
       "      <th>name</th>\n",
       "      <th>status</th>\n",
       "      <th>country_code</th>\n",
       "      <th>city</th>\n",
       "      <th>company_permalink</th>\n",
       "      <th>funding_round_type</th>\n",
       "      <th>funding_round_code</th>\n",
       "      <th>raised_amount_usd</th>\n",
       "      <th>country</th>\n",
       "      <th>primary_sector</th>\n",
       "      <th>main_sector</th>\n",
       "      <th>investment_count</th>\n",
       "      <th>total_investment</th>\n",
       "    </tr>\n",
       "  </thead>\n",
       "  <tbody>\n",
       "    <tr>\n",
       "      <th>0</th>\n",
       "      <td>/organization/-fame</td>\n",
       "      <td>#fame</td>\n",
       "      <td>operating</td>\n",
       "      <td>IND</td>\n",
       "      <td>Mumbai</td>\n",
       "      <td>/organization/-fame</td>\n",
       "      <td>venture</td>\n",
       "      <td>B</td>\n",
       "      <td>10000000.0</td>\n",
       "      <td>India</td>\n",
       "      <td>Media</td>\n",
       "      <td>Entertainment</td>\n",
       "      <td>33</td>\n",
       "      <td>2.808300e+08</td>\n",
       "    </tr>\n",
       "    <tr>\n",
       "      <th>1</th>\n",
       "      <td>/organization/21diamonds-india</td>\n",
       "      <td>21Diamonds</td>\n",
       "      <td>operating</td>\n",
       "      <td>IND</td>\n",
       "      <td>Gurgaon</td>\n",
       "      <td>/organization/21diamonds-india</td>\n",
       "      <td>venture</td>\n",
       "      <td>C</td>\n",
       "      <td>6369507.0</td>\n",
       "      <td>India</td>\n",
       "      <td>E-Commerce</td>\n",
       "      <td>Others</td>\n",
       "      <td>110</td>\n",
       "      <td>1.013410e+09</td>\n",
       "    </tr>\n",
       "    <tr>\n",
       "      <th>2</th>\n",
       "      <td>/organization/a-little-world</td>\n",
       "      <td>A LITTLE WORLD</td>\n",
       "      <td>operating</td>\n",
       "      <td>IND</td>\n",
       "      <td>Mumbai</td>\n",
       "      <td>/organization/a-little-world</td>\n",
       "      <td>venture</td>\n",
       "      <td>B</td>\n",
       "      <td>6410000.0</td>\n",
       "      <td>India</td>\n",
       "      <td>Finance</td>\n",
       "      <td>Social, Finance, Analytics, Advertising</td>\n",
       "      <td>60</td>\n",
       "      <td>5.505496e+08</td>\n",
       "    </tr>\n",
       "    <tr>\n",
       "      <th>3</th>\n",
       "      <td>/organization/adlabs-imagica</td>\n",
       "      <td>Adlabs Imagica</td>\n",
       "      <td>operating</td>\n",
       "      <td>IND</td>\n",
       "      <td>Khopoli</td>\n",
       "      <td>/organization/adlabs-imagica</td>\n",
       "      <td>venture</td>\n",
       "      <td>NaN</td>\n",
       "      <td>8180000.0</td>\n",
       "      <td>India</td>\n",
       "      <td>Entertainment</td>\n",
       "      <td>Entertainment</td>\n",
       "      <td>33</td>\n",
       "      <td>2.808300e+08</td>\n",
       "    </tr>\n",
       "    <tr>\n",
       "      <th>4</th>\n",
       "      <td>/organization/agile</td>\n",
       "      <td>Agile</td>\n",
       "      <td>operating</td>\n",
       "      <td>IND</td>\n",
       "      <td>Mumbai</td>\n",
       "      <td>/organization/agile</td>\n",
       "      <td>venture</td>\n",
       "      <td>A</td>\n",
       "      <td>5740000.0</td>\n",
       "      <td>India</td>\n",
       "      <td>Finance</td>\n",
       "      <td>Social, Finance, Analytics, Advertising</td>\n",
       "      <td>60</td>\n",
       "      <td>5.505496e+08</td>\n",
       "    </tr>\n",
       "  </tbody>\n",
       "</table>\n",
       "</div>"
      ],
      "text/plain": [
       "                        permalink            name     status country_code  \\\n",
       "0             /organization/-fame           #fame  operating          IND   \n",
       "1  /organization/21diamonds-india      21Diamonds  operating          IND   \n",
       "2    /organization/a-little-world  A LITTLE WORLD  operating          IND   \n",
       "3    /organization/adlabs-imagica  Adlabs Imagica  operating          IND   \n",
       "4             /organization/agile           Agile  operating          IND   \n",
       "\n",
       "      city               company_permalink funding_round_type  \\\n",
       "0   Mumbai             /organization/-fame            venture   \n",
       "1  Gurgaon  /organization/21diamonds-india            venture   \n",
       "2   Mumbai    /organization/a-little-world            venture   \n",
       "3  Khopoli    /organization/adlabs-imagica            venture   \n",
       "4   Mumbai             /organization/agile            venture   \n",
       "\n",
       "  funding_round_code  raised_amount_usd country primary_sector  \\\n",
       "0                  B         10000000.0   India          Media   \n",
       "1                  C          6369507.0   India     E-Commerce   \n",
       "2                  B          6410000.0   India        Finance   \n",
       "3                NaN          8180000.0   India  Entertainment   \n",
       "4                  A          5740000.0   India        Finance   \n",
       "\n",
       "                               main_sector  investment_count  total_investment  \n",
       "0                            Entertainment                33      2.808300e+08  \n",
       "1                                   Others               110      1.013410e+09  \n",
       "2  Social, Finance, Analytics, Advertising                60      5.505496e+08  \n",
       "3                            Entertainment                33      2.808300e+08  \n",
       "4  Social, Finance, Analytics, Advertising                60      5.505496e+08  "
      ]
     },
     "execution_count": 159,
     "metadata": {},
     "output_type": "execute_result"
    }
   ],
   "source": [
    "# merging to D2 to get the count and total investment as a seperate column\n",
    "D3 = D3.merge(D3_investment_count_sum, on='main_sector', how='left')\n",
    "D3.head()"
   ]
  },
  {
   "cell_type": "markdown",
   "metadata": {},
   "source": [
    "#### Total number of investments for the top 3 countries\n",
    "##### USA - United States"
   ]
  },
  {
   "cell_type": "code",
   "execution_count": 160,
   "metadata": {},
   "outputs": [
    {
     "data": {
      "text/plain": [
       "12012"
      ]
     },
     "execution_count": 160,
     "metadata": {},
     "output_type": "execute_result"
    }
   ],
   "source": [
    "# Total investment count\n",
    "D1['raised_amount_usd'].count()"
   ]
  },
  {
   "cell_type": "markdown",
   "metadata": {},
   "source": [
    "##### GBR - United kingdom"
   ]
  },
  {
   "cell_type": "code",
   "execution_count": 161,
   "metadata": {},
   "outputs": [
    {
     "data": {
      "text/plain": [
       "619"
      ]
     },
     "execution_count": 161,
     "metadata": {},
     "output_type": "execute_result"
    }
   ],
   "source": [
    "# Total investment count\n",
    "D2['raised_amount_usd'].count()"
   ]
  },
  {
   "cell_type": "markdown",
   "metadata": {},
   "source": [
    "##### IND - India"
   ]
  },
  {
   "cell_type": "code",
   "execution_count": 162,
   "metadata": {},
   "outputs": [
    {
     "data": {
      "text/plain": [
       "328"
      ]
     },
     "execution_count": 162,
     "metadata": {},
     "output_type": "execute_result"
    }
   ],
   "source": [
    "# Total investment count\n",
    "D3['raised_amount_usd'].count()"
   ]
  },
  {
   "cell_type": "markdown",
   "metadata": {},
   "source": [
    "#### Total Amount of investments for the top 3 countries\n",
    "##### USA - United States"
   ]
  },
  {
   "cell_type": "code",
   "execution_count": 163,
   "metadata": {},
   "outputs": [
    {
     "data": {
      "text/plain": [
       "107318294664.0"
      ]
     },
     "execution_count": 163,
     "metadata": {},
     "output_type": "execute_result"
    }
   ],
   "source": [
    "# Totals investments received\n",
    "D1['raised_amount_usd'].sum()"
   ]
  },
  {
   "cell_type": "markdown",
   "metadata": {},
   "source": [
    "##### GBR - United kingdom"
   ]
  },
  {
   "cell_type": "code",
   "execution_count": 164,
   "metadata": {},
   "outputs": [
    {
     "data": {
      "text/plain": [
       "5365228300.0"
      ]
     },
     "execution_count": 164,
     "metadata": {},
     "output_type": "execute_result"
    }
   ],
   "source": [
    "# Totals investments received\n",
    "D2['raised_amount_usd'].sum()"
   ]
  },
  {
   "cell_type": "markdown",
   "metadata": {},
   "source": [
    "##### IND - India"
   ]
  },
  {
   "cell_type": "code",
   "execution_count": 165,
   "metadata": {},
   "outputs": [
    {
     "data": {
      "text/plain": [
       "2949543602.0"
      ]
     },
     "execution_count": 165,
     "metadata": {},
     "output_type": "execute_result"
    }
   ],
   "source": [
    "# Totals investments received\n",
    "D3['raised_amount_usd'].sum()"
   ]
  },
  {
   "cell_type": "markdown",
   "metadata": {},
   "source": [
    "#### Top Sector name (no. of investment-wise)\n",
    "##### USA - United States"
   ]
  },
  {
   "cell_type": "code",
   "execution_count": 166,
   "metadata": {},
   "outputs": [
    {
     "data": {
      "text/html": [
       "<div>\n",
       "<style scoped>\n",
       "    .dataframe tbody tr th:only-of-type {\n",
       "        vertical-align: middle;\n",
       "    }\n",
       "\n",
       "    .dataframe tbody tr th {\n",
       "        vertical-align: top;\n",
       "    }\n",
       "\n",
       "    .dataframe thead th {\n",
       "        text-align: right;\n",
       "    }\n",
       "</style>\n",
       "<table border=\"1\" class=\"dataframe\">\n",
       "  <thead>\n",
       "    <tr style=\"text-align: right;\">\n",
       "      <th></th>\n",
       "      <th>investment_count</th>\n",
       "      <th>total_investment</th>\n",
       "    </tr>\n",
       "    <tr>\n",
       "      <th>main_sector</th>\n",
       "      <th></th>\n",
       "      <th></th>\n",
       "    </tr>\n",
       "  </thead>\n",
       "  <tbody>\n",
       "    <tr>\n",
       "      <th>Others</th>\n",
       "      <td>2950</td>\n",
       "      <td>2.632101e+10</td>\n",
       "    </tr>\n",
       "    <tr>\n",
       "      <th>Social, Finance, Analytics, Advertising</th>\n",
       "      <td>2714</td>\n",
       "      <td>2.380738e+10</td>\n",
       "    </tr>\n",
       "    <tr>\n",
       "      <th>Cleantech / Semiconductors</th>\n",
       "      <td>2300</td>\n",
       "      <td>2.120663e+10</td>\n",
       "    </tr>\n",
       "  </tbody>\n",
       "</table>\n",
       "</div>"
      ],
      "text/plain": [
       "                                         investment_count  total_investment\n",
       "main_sector                                                                \n",
       "Others                                               2950      2.632101e+10\n",
       "Social, Finance, Analytics, Advertising              2714      2.380738e+10\n",
       "Cleantech / Semiconductors                           2300      2.120663e+10"
      ]
     },
     "execution_count": 166,
     "metadata": {},
     "output_type": "execute_result"
    }
   ],
   "source": [
    "# Top 3 sectors with highest count of investments\n",
    "D1_investment_count_sum.sort_values(by='investment_count', ascending=False).head(3)"
   ]
  },
  {
   "cell_type": "markdown",
   "metadata": {},
   "source": [
    "##### GBR - United kingdom"
   ]
  },
  {
   "cell_type": "code",
   "execution_count": 167,
   "metadata": {},
   "outputs": [
    {
     "data": {
      "text/html": [
       "<div>\n",
       "<style scoped>\n",
       "    .dataframe tbody tr th:only-of-type {\n",
       "        vertical-align: middle;\n",
       "    }\n",
       "\n",
       "    .dataframe tbody tr th {\n",
       "        vertical-align: top;\n",
       "    }\n",
       "\n",
       "    .dataframe thead th {\n",
       "        text-align: right;\n",
       "    }\n",
       "</style>\n",
       "<table border=\"1\" class=\"dataframe\">\n",
       "  <thead>\n",
       "    <tr style=\"text-align: right;\">\n",
       "      <th></th>\n",
       "      <th>investment_count</th>\n",
       "      <th>total_investment</th>\n",
       "    </tr>\n",
       "    <tr>\n",
       "      <th>main_sector</th>\n",
       "      <th></th>\n",
       "      <th></th>\n",
       "    </tr>\n",
       "  </thead>\n",
       "  <tbody>\n",
       "    <tr>\n",
       "      <th>Others</th>\n",
       "      <td>147</td>\n",
       "      <td>1.283624e+09</td>\n",
       "    </tr>\n",
       "    <tr>\n",
       "      <th>Social, Finance, Analytics, Advertising</th>\n",
       "      <td>133</td>\n",
       "      <td>1.089404e+09</td>\n",
       "    </tr>\n",
       "    <tr>\n",
       "      <th>Cleantech / Semiconductors</th>\n",
       "      <td>128</td>\n",
       "      <td>1.150140e+09</td>\n",
       "    </tr>\n",
       "  </tbody>\n",
       "</table>\n",
       "</div>"
      ],
      "text/plain": [
       "                                         investment_count  total_investment\n",
       "main_sector                                                                \n",
       "Others                                                147      1.283624e+09\n",
       "Social, Finance, Analytics, Advertising               133      1.089404e+09\n",
       "Cleantech / Semiconductors                            128      1.150140e+09"
      ]
     },
     "execution_count": 167,
     "metadata": {},
     "output_type": "execute_result"
    }
   ],
   "source": [
    "# Top 3 sectors with highest count of investments\n",
    "D2_investment_count_sum.sort_values(by='investment_count', ascending=False).head(3)"
   ]
  },
  {
   "cell_type": "markdown",
   "metadata": {},
   "source": [
    "##### IND - India"
   ]
  },
  {
   "cell_type": "code",
   "execution_count": 168,
   "metadata": {},
   "outputs": [
    {
     "data": {
      "text/html": [
       "<div>\n",
       "<style scoped>\n",
       "    .dataframe tbody tr th:only-of-type {\n",
       "        vertical-align: middle;\n",
       "    }\n",
       "\n",
       "    .dataframe tbody tr th {\n",
       "        vertical-align: top;\n",
       "    }\n",
       "\n",
       "    .dataframe thead th {\n",
       "        text-align: right;\n",
       "    }\n",
       "</style>\n",
       "<table border=\"1\" class=\"dataframe\">\n",
       "  <thead>\n",
       "    <tr style=\"text-align: right;\">\n",
       "      <th></th>\n",
       "      <th>investment_count</th>\n",
       "      <th>total_investment</th>\n",
       "    </tr>\n",
       "    <tr>\n",
       "      <th>main_sector</th>\n",
       "      <th></th>\n",
       "      <th></th>\n",
       "    </tr>\n",
       "  </thead>\n",
       "  <tbody>\n",
       "    <tr>\n",
       "      <th>Others</th>\n",
       "      <td>110</td>\n",
       "      <td>1.013410e+09</td>\n",
       "    </tr>\n",
       "    <tr>\n",
       "      <th>Social, Finance, Analytics, Advertising</th>\n",
       "      <td>60</td>\n",
       "      <td>5.505496e+08</td>\n",
       "    </tr>\n",
       "    <tr>\n",
       "      <th>News, Search and Messaging</th>\n",
       "      <td>52</td>\n",
       "      <td>4.338345e+08</td>\n",
       "    </tr>\n",
       "  </tbody>\n",
       "</table>\n",
       "</div>"
      ],
      "text/plain": [
       "                                         investment_count  total_investment\n",
       "main_sector                                                                \n",
       "Others                                                110      1.013410e+09\n",
       "Social, Finance, Analytics, Advertising                60      5.505496e+08\n",
       "News, Search and Messaging                             52      4.338345e+08"
      ]
     },
     "execution_count": 168,
     "metadata": {},
     "output_type": "execute_result"
    }
   ],
   "source": [
    "# Top 3 sectors with highest count of investments\n",
    "D3_investment_count_sum.sort_values(by='investment_count', ascending=False).head(3)"
   ]
  },
  {
   "cell_type": "markdown",
   "metadata": {},
   "source": [
    "#### Company that received the highest investment for the top sector - `Others`\n",
    "##### USA - United States"
   ]
  },
  {
   "cell_type": "code",
   "execution_count": 169,
   "metadata": {},
   "outputs": [
    {
     "data": {
      "text/html": [
       "<div>\n",
       "<style scoped>\n",
       "    .dataframe tbody tr th:only-of-type {\n",
       "        vertical-align: middle;\n",
       "    }\n",
       "\n",
       "    .dataframe tbody tr th {\n",
       "        vertical-align: top;\n",
       "    }\n",
       "\n",
       "    .dataframe thead th {\n",
       "        text-align: right;\n",
       "    }\n",
       "</style>\n",
       "<table border=\"1\" class=\"dataframe\">\n",
       "  <thead>\n",
       "    <tr style=\"text-align: right;\">\n",
       "      <th></th>\n",
       "      <th></th>\n",
       "      <th>raised_amount_usd</th>\n",
       "    </tr>\n",
       "    <tr>\n",
       "      <th>company_permalink</th>\n",
       "      <th>name</th>\n",
       "      <th></th>\n",
       "    </tr>\n",
       "  </thead>\n",
       "  <tbody>\n",
       "    <tr>\n",
       "      <th>/organization/virtustream</th>\n",
       "      <th>Virtustream</th>\n",
       "      <td>64300000.0</td>\n",
       "    </tr>\n",
       "    <tr>\n",
       "      <th>/organization/capella</th>\n",
       "      <th>Capella Photonics</th>\n",
       "      <td>54968051.0</td>\n",
       "    </tr>\n",
       "    <tr>\n",
       "      <th>/organization/airtight-networks</th>\n",
       "      <th>AirTight Networks</th>\n",
       "      <td>54201907.0</td>\n",
       "    </tr>\n",
       "  </tbody>\n",
       "</table>\n",
       "</div>"
      ],
      "text/plain": [
       "                                                   raised_amount_usd\n",
       "company_permalink               name                                \n",
       "/organization/virtustream       Virtustream               64300000.0\n",
       "/organization/capella           Capella Photonics         54968051.0\n",
       "/organization/airtight-networks AirTight Networks         54201907.0"
      ]
     },
     "execution_count": 169,
     "metadata": {},
     "output_type": "execute_result"
    }
   ],
   "source": [
    "top_US_companies = D1[D1['main_sector'] == 'Others'].pivot_table(index=['company_permalink', 'name'], aggfunc={'raised_amount_usd': np.sum})\n",
    "top_US_companies.sort_values(by='raised_amount_usd', ascending=False).head(3)"
   ]
  },
  {
   "cell_type": "markdown",
   "metadata": {},
   "source": [
    "##### GBR - United kingdom"
   ]
  },
  {
   "cell_type": "code",
   "execution_count": 170,
   "metadata": {},
   "outputs": [
    {
     "data": {
      "text/html": [
       "<div>\n",
       "<style scoped>\n",
       "    .dataframe tbody tr th:only-of-type {\n",
       "        vertical-align: middle;\n",
       "    }\n",
       "\n",
       "    .dataframe tbody tr th {\n",
       "        vertical-align: top;\n",
       "    }\n",
       "\n",
       "    .dataframe thead th {\n",
       "        text-align: right;\n",
       "    }\n",
       "</style>\n",
       "<table border=\"1\" class=\"dataframe\">\n",
       "  <thead>\n",
       "    <tr style=\"text-align: right;\">\n",
       "      <th></th>\n",
       "      <th></th>\n",
       "      <th>raised_amount_usd</th>\n",
       "    </tr>\n",
       "    <tr>\n",
       "      <th>company_permalink</th>\n",
       "      <th>name</th>\n",
       "      <th></th>\n",
       "    </tr>\n",
       "  </thead>\n",
       "  <tbody>\n",
       "    <tr>\n",
       "      <th>/organization/electric-cloud</th>\n",
       "      <th>Electric Cloud</th>\n",
       "      <td>37000000.0</td>\n",
       "    </tr>\n",
       "    <tr>\n",
       "      <th>/organization/sensage</th>\n",
       "      <th>SenSage</th>\n",
       "      <td>36250000.0</td>\n",
       "    </tr>\n",
       "    <tr>\n",
       "      <th>/organization/enigmatic</th>\n",
       "      <th>Enigmatec</th>\n",
       "      <td>32500000.0</td>\n",
       "    </tr>\n",
       "  </tbody>\n",
       "</table>\n",
       "</div>"
      ],
      "text/plain": [
       "                                             raised_amount_usd\n",
       "company_permalink            name                             \n",
       "/organization/electric-cloud Electric Cloud         37000000.0\n",
       "/organization/sensage        SenSage                36250000.0\n",
       "/organization/enigmatic      Enigmatec              32500000.0"
      ]
     },
     "execution_count": 170,
     "metadata": {},
     "output_type": "execute_result"
    }
   ],
   "source": [
    "top_GBR_companies = D2[D2['main_sector'] == 'Others'].pivot_table(index=['company_permalink', 'name'], aggfunc={'raised_amount_usd': np.sum})\n",
    "top_GBR_companies.sort_values(by='raised_amount_usd', ascending=False).head(3)"
   ]
  },
  {
   "cell_type": "markdown",
   "metadata": {},
   "source": [
    "##### IND - India"
   ]
  },
  {
   "cell_type": "code",
   "execution_count": 171,
   "metadata": {},
   "outputs": [
    {
     "data": {
      "text/html": [
       "<div>\n",
       "<style scoped>\n",
       "    .dataframe tbody tr th:only-of-type {\n",
       "        vertical-align: middle;\n",
       "    }\n",
       "\n",
       "    .dataframe tbody tr th {\n",
       "        vertical-align: top;\n",
       "    }\n",
       "\n",
       "    .dataframe thead th {\n",
       "        text-align: right;\n",
       "    }\n",
       "</style>\n",
       "<table border=\"1\" class=\"dataframe\">\n",
       "  <thead>\n",
       "    <tr style=\"text-align: right;\">\n",
       "      <th></th>\n",
       "      <th></th>\n",
       "      <th>raised_amount_usd</th>\n",
       "    </tr>\n",
       "    <tr>\n",
       "      <th>company_permalink</th>\n",
       "      <th>name</th>\n",
       "      <th></th>\n",
       "    </tr>\n",
       "  </thead>\n",
       "  <tbody>\n",
       "    <tr>\n",
       "      <th>/organization/firstcry-com</th>\n",
       "      <th>FirstCry.com</th>\n",
       "      <td>39000000.0</td>\n",
       "    </tr>\n",
       "    <tr>\n",
       "      <th>/organization/myntra</th>\n",
       "      <th>Myntra</th>\n",
       "      <td>38000000.0</td>\n",
       "    </tr>\n",
       "    <tr>\n",
       "      <th>/organization/commonfloor</th>\n",
       "      <th>CommonFloor</th>\n",
       "      <td>32900000.0</td>\n",
       "    </tr>\n",
       "  </tbody>\n",
       "</table>\n",
       "</div>"
      ],
      "text/plain": [
       "                                         raised_amount_usd\n",
       "company_permalink          name                           \n",
       "/organization/firstcry-com FirstCry.com         39000000.0\n",
       "/organization/myntra       Myntra               38000000.0\n",
       "/organization/commonfloor  CommonFloor          32900000.0"
      ]
     },
     "execution_count": 171,
     "metadata": {},
     "output_type": "execute_result"
    }
   ],
   "source": [
    "top_IND_companies = D3[D3['main_sector'] == 'Others'].pivot_table(index=['company_permalink', 'name'], aggfunc={'raised_amount_usd': np.sum})\n",
    "top_IND_companies.sort_values(by='raised_amount_usd', ascending=False).head(3)"
   ]
  },
  {
   "cell_type": "markdown",
   "metadata": {},
   "source": [
    "#### Company that received the highest investment for the top sector - `Social, Finance, Analytics, Advertising\t`\n",
    "##### USA - United States"
   ]
  },
  {
   "cell_type": "code",
   "execution_count": 172,
   "metadata": {},
   "outputs": [
    {
     "data": {
      "text/html": [
       "<div>\n",
       "<style scoped>\n",
       "    .dataframe tbody tr th:only-of-type {\n",
       "        vertical-align: middle;\n",
       "    }\n",
       "\n",
       "    .dataframe tbody tr th {\n",
       "        vertical-align: top;\n",
       "    }\n",
       "\n",
       "    .dataframe thead th {\n",
       "        text-align: right;\n",
       "    }\n",
       "</style>\n",
       "<table border=\"1\" class=\"dataframe\">\n",
       "  <thead>\n",
       "    <tr style=\"text-align: right;\">\n",
       "      <th></th>\n",
       "      <th></th>\n",
       "      <th>raised_amount_usd</th>\n",
       "    </tr>\n",
       "    <tr>\n",
       "      <th>company_permalink</th>\n",
       "      <th>name</th>\n",
       "      <th></th>\n",
       "    </tr>\n",
       "  </thead>\n",
       "  <tbody>\n",
       "    <tr>\n",
       "      <th>/organization/shotspotter</th>\n",
       "      <th>SST Inc. (Formerly ShotSpotter)</th>\n",
       "      <td>67933006.0</td>\n",
       "    </tr>\n",
       "    <tr>\n",
       "      <th>/organization/demandbase</th>\n",
       "      <th>Demandbase</th>\n",
       "      <td>63000000.0</td>\n",
       "    </tr>\n",
       "    <tr>\n",
       "      <th>/organization/intacct</th>\n",
       "      <th>Intacct</th>\n",
       "      <td>61800000.0</td>\n",
       "    </tr>\n",
       "  </tbody>\n",
       "</table>\n",
       "</div>"
      ],
      "text/plain": [
       "                                                           raised_amount_usd\n",
       "company_permalink         name                                              \n",
       "/organization/shotspotter SST Inc. (Formerly ShotSpotter)         67933006.0\n",
       "/organization/demandbase  Demandbase                              63000000.0\n",
       "/organization/intacct     Intacct                                 61800000.0"
      ]
     },
     "execution_count": 172,
     "metadata": {},
     "output_type": "execute_result"
    }
   ],
   "source": [
    "top_US_companies_sfaa = D1[D1['main_sector'] == 'Social, Finance, Analytics, Advertising'].pivot_table(\n",
    "    index=['company_permalink', 'name'], aggfunc={'raised_amount_usd': np.sum})\n",
    "top_US_companies_sfaa.sort_values(by='raised_amount_usd', ascending=False).head(3)"
   ]
  },
  {
   "cell_type": "markdown",
   "metadata": {},
   "source": [
    "##### GBR - United kingdom"
   ]
  },
  {
   "cell_type": "code",
   "execution_count": 173,
   "metadata": {},
   "outputs": [
    {
     "data": {
      "text/html": [
       "<div>\n",
       "<style scoped>\n",
       "    .dataframe tbody tr th:only-of-type {\n",
       "        vertical-align: middle;\n",
       "    }\n",
       "\n",
       "    .dataframe tbody tr th {\n",
       "        vertical-align: top;\n",
       "    }\n",
       "\n",
       "    .dataframe thead th {\n",
       "        text-align: right;\n",
       "    }\n",
       "</style>\n",
       "<table border=\"1\" class=\"dataframe\">\n",
       "  <thead>\n",
       "    <tr style=\"text-align: right;\">\n",
       "      <th></th>\n",
       "      <th></th>\n",
       "      <th>raised_amount_usd</th>\n",
       "    </tr>\n",
       "    <tr>\n",
       "      <th>company_permalink</th>\n",
       "      <th>name</th>\n",
       "      <th></th>\n",
       "    </tr>\n",
       "  </thead>\n",
       "  <tbody>\n",
       "    <tr>\n",
       "      <th>/organization/celltick-technologies</th>\n",
       "      <th>Celltick Technologies</th>\n",
       "      <td>37500000.0</td>\n",
       "    </tr>\n",
       "    <tr>\n",
       "      <th>/organization/mythings</th>\n",
       "      <th>myThings</th>\n",
       "      <td>34000000.0</td>\n",
       "    </tr>\n",
       "    <tr>\n",
       "      <th>/organization/zopa</th>\n",
       "      <th>Zopa</th>\n",
       "      <td>32900000.0</td>\n",
       "    </tr>\n",
       "  </tbody>\n",
       "</table>\n",
       "</div>"
      ],
      "text/plain": [
       "                                                           raised_amount_usd\n",
       "company_permalink                   name                                    \n",
       "/organization/celltick-technologies Celltick Technologies         37500000.0\n",
       "/organization/mythings              myThings                      34000000.0\n",
       "/organization/zopa                  Zopa                          32900000.0"
      ]
     },
     "execution_count": 173,
     "metadata": {},
     "output_type": "execute_result"
    }
   ],
   "source": [
    "top_GBR_companies_sfaa = D2[D2['main_sector'] == 'Social, Finance, Analytics, Advertising'].pivot_table(\n",
    "    index=['company_permalink', 'name'], aggfunc={'raised_amount_usd': np.sum})\n",
    "top_GBR_companies_sfaa.sort_values(by='raised_amount_usd', ascending=False).head(3)"
   ]
  },
  {
   "cell_type": "markdown",
   "metadata": {},
   "source": [
    "##### IND - India"
   ]
  },
  {
   "cell_type": "code",
   "execution_count": 174,
   "metadata": {},
   "outputs": [
    {
     "data": {
      "text/html": [
       "<div>\n",
       "<style scoped>\n",
       "    .dataframe tbody tr th:only-of-type {\n",
       "        vertical-align: middle;\n",
       "    }\n",
       "\n",
       "    .dataframe tbody tr th {\n",
       "        vertical-align: top;\n",
       "    }\n",
       "\n",
       "    .dataframe thead th {\n",
       "        text-align: right;\n",
       "    }\n",
       "</style>\n",
       "<table border=\"1\" class=\"dataframe\">\n",
       "  <thead>\n",
       "    <tr style=\"text-align: right;\">\n",
       "      <th></th>\n",
       "      <th></th>\n",
       "      <th>raised_amount_usd</th>\n",
       "    </tr>\n",
       "    <tr>\n",
       "      <th>company_permalink</th>\n",
       "      <th>name</th>\n",
       "      <th></th>\n",
       "    </tr>\n",
       "  </thead>\n",
       "  <tbody>\n",
       "    <tr>\n",
       "      <th>/organization/manthan-systems</th>\n",
       "      <th>Manthan Systems</th>\n",
       "      <td>50700000.0</td>\n",
       "    </tr>\n",
       "    <tr>\n",
       "      <th>/organization/komli-media</th>\n",
       "      <th>Komli Media</th>\n",
       "      <td>28000000.0</td>\n",
       "    </tr>\n",
       "    <tr>\n",
       "      <th>/organization/shopclues-com</th>\n",
       "      <th>ShopClues.com</th>\n",
       "      <td>25000000.0</td>\n",
       "    </tr>\n",
       "  </tbody>\n",
       "</table>\n",
       "</div>"
      ],
      "text/plain": [
       "                                               raised_amount_usd\n",
       "company_permalink             name                              \n",
       "/organization/manthan-systems Manthan Systems         50700000.0\n",
       "/organization/komli-media     Komli Media             28000000.0\n",
       "/organization/shopclues-com   ShopClues.com           25000000.0"
      ]
     },
     "execution_count": 174,
     "metadata": {},
     "output_type": "execute_result"
    }
   ],
   "source": [
    "top_IND_companies_sfaa = D3[D3['main_sector'] == 'Social, Finance, Analytics, Advertising'].pivot_table(\n",
    "    index=['company_permalink', 'name'], aggfunc={'raised_amount_usd': np.sum})\n",
    "top_IND_companies_sfaa.sort_values(by='raised_amount_usd', ascending=False).head(3)"
   ]
  },
  {
   "cell_type": "markdown",
   "metadata": {},
   "source": [
    "***\n",
    "Based on the observations made so far, we come to a conclusion on the most suitable investment destination and sectors.\n",
    "***"
   ]
  },
  {
   "cell_type": "markdown",
   "metadata": {},
   "source": [
    "| Country | United States | United Kingdom | India |\n",
    "| :- | :-: | :-: | :-: |\n",
    "| Top Sector | Social, Finance, Analytics, Advertising  | Social, Finance, Analytics, Advertising  | Social, Finance, Analytics, Advertising  |\n",
    "| Top Company | Virtustream | Electric Cloud | FirstCry.com |"
   ]
  },
  {
   "cell_type": "markdown",
   "metadata": {},
   "source": [
    "## <center>Checkpoint 6: Plots</center>\n",
    "### Total number of investments and average of these investments\n",
    "For Venture, Seed, Angel and Private Equity"
   ]
  },
  {
   "cell_type": "code",
   "execution_count": 175,
   "metadata": {},
   "outputs": [],
   "source": [
    "total_funding_count = master_frame_copy.pivot_table(\n",
    "    index=master_frame_copy['funding_round_type'], aggfunc={'funding_round_type': np.count_nonzero})\n",
    "average_funding = master_frame_copy.pivot_table(\n",
    "    index=master_frame_copy['funding_round_type'], aggfunc={'raised_amount_usd': np.median})"
   ]
  },
  {
   "cell_type": "code",
   "execution_count": 176,
   "metadata": {},
   "outputs": [],
   "source": [
    "import matplotlib.style as style\n",
    "sns.set()\n",
    "style.use('seaborn-poster') #sets the size of the charts\n",
    "style.use('ggplot')"
   ]
  },
  {
   "cell_type": "code",
   "execution_count": 177,
   "metadata": {},
   "outputs": [
    {
     "data": {
      "image/png": "[encoded data removed]",
      "text/plain": [
       "<Figure size 1080x720 with 2 Axes>"
      ]
     },
     "metadata": {},
     "output_type": "display_data"
    }
   ],
   "source": [
    "plt.figure(figsize=(15, 10))\n",
    "ax1 = plt.subplot(2, 2, 1)\n",
    "ax2 = plt.subplot(2, 2, 2)\n",
    "\n",
    "sub1 = sns.barplot(x=total_funding_count.index, y=total_funding_count.values.ravel(), data=total_funding_count, ax=ax1)\n",
    "sub1.set(xlabel='Funding Type', ylabel='Funding Count')\n",
    "sub1.set_xticklabels(labels=total_funding_count.index, rotation=45)\n",
    "sub1.set_title('Funding Count Analysis',fontsize=18)\n",
    "\n",
    "sub2 = sns.barplot(x=average_funding.index, y='raised_amount_usd', data=average_funding, ax=ax2)\n",
    "sub2.set(xlabel='Funding Type', ylabel='Average Amount ( 1 Unit = 5M USD)')\n",
    "sub2.set_xticklabels(labels=average_funding.index, rotation=45)\n",
    "sub2.set_title('Funding Average Analysis',fontsize=18)\n",
    "plt.axhline(5_000_000, color='green')\n",
    "plt.axhline(15_000_000, color='red')\n",
    "plt.show()"
   ]
  },
  {
   "cell_type": "markdown",
   "metadata": {},
   "source": [
    "### Top 9 countries against the total amount of investments of funding type `Venture`"
   ]
  },
  {
   "cell_type": "code",
   "execution_count": 178,
   "metadata": {},
   "outputs": [
    {
     "data": {
      "image/png": "[encoded data removed]",
      "text/plain": [
       "<Figure size 1080x360 with 1 Axes>"
      ]
     },
     "metadata": {},
     "output_type": "display_data"
    }
   ],
   "source": [
    "plt.figure(figsize=(15, 5))\n",
    "chart2 = sns.barplot(x=top9.index.get_level_values('country'), y=top9.values.ravel())\n",
    "chart2.set(xlabel='Country', ylabel='Total Investments - Venture Type')\n",
    "chart2.set_xticklabels(labels=top9.index.get_level_values('country'), rotation=45)\n",
    "chart2.set_yscale('log')\n",
    "chart2.set_title('Country-Wise Funding Analysis',fontsize=18)\n",
    "plt.show()"
   ]
  },
  {
   "cell_type": "markdown",
   "metadata": {},
   "source": [
    "### The number of investments in the top 3 sectors of the top 3 countries on one chart\n",
    "Appending the D1, D2 and D3 dataframes for their respective top sectors."
   ]
  },
  {
   "cell_type": "code",
   "execution_count": 179,
   "metadata": {},
   "outputs": [
    {
     "data": {
      "text/plain": [
       "(7964, 14)"
      ]
     },
     "execution_count": 179,
     "metadata": {},
     "output_type": "execute_result"
    }
   ],
   "source": [
    "Main_D = D1[D1['main_sector'].isin(['Others','Social, Finance, Analytics, Advertising','Cleantech / Semiconductors'])]\n",
    "Main_D.shape"
   ]
  },
  {
   "cell_type": "code",
   "execution_count": 180,
   "metadata": {},
   "outputs": [
    {
     "data": {
      "text/plain": [
       "(8372, 14)"
      ]
     },
     "execution_count": 180,
     "metadata": {},
     "output_type": "execute_result"
    }
   ],
   "source": [
    "Main_D = Main_D.append(D2[D2['main_sector'].isin(\n",
    "    ['Others','Social, Finance, Analytics, Advertising','Cleantech / Semiconductors'])], ignore_index=True)\n",
    "Main_D.shape"
   ]
  },
  {
   "cell_type": "code",
   "execution_count": 181,
   "metadata": {},
   "outputs": [
    {
     "data": {
      "text/plain": [
       "(8594, 14)"
      ]
     },
     "execution_count": 181,
     "metadata": {},
     "output_type": "execute_result"
    }
   ],
   "source": [
    "Main_D = Main_D.append(D3[D3['main_sector'].isin(\n",
    "    ['Others','Social, Finance, Analytics, Advertising','News, Search and Messaging'])], ignore_index=True)\n",
    "Main_D.shape"
   ]
  },
  {
   "cell_type": "code",
   "execution_count": 182,
   "metadata": {},
   "outputs": [
    {
     "data": {
      "image/png": "[encoded data removed]",
      "text/plain": [
       "<Figure size 1080x504 with 1 Axes>"
      ]
     },
     "metadata": {},
     "output_type": "display_data"
    }
   ],
   "source": [
    "plt.figure(figsize=(15, 7))\n",
    "top3_chart = sns.barplot(x='country', y='raised_amount_usd', hue='main_sector', data=Main_D, estimator=lambda x: len(x))\n",
    "top3_chart.set(xlabel='Country', ylabel='Number of Investments ( 1 Unit = 500 )')\n",
    "top3_chart.set_title('Investments in top 3 sectors of top 3 countries', fontsize=18)\n",
    "plt.legend(bbox_to_anchor=(1, 1), loc=1, borderaxespad=0.)\n",
    "plt.show()"
   ]
  }
 ],
 "metadata": {
  "kernelspec": {
   "display_name": "Python 3",
   "language": "python",
   "name": "python3"
  },
  "language_info": {
   "codemirror_mode": {
    "name": "ipython",
    "version": 3
   },
   "file_extension": ".py",
   "mimetype": "text/x-python",
   "name": "python",
   "nbconvert_exporter": "python",
   "pygments_lexer": "ipython3",
   "version": "3.8.3"
  }
 },
 "nbformat": 4,
 "nbformat_minor": 4
}
